{
 "cells": [
  {
   "cell_type": "markdown",
   "id": "d5bcb316",
   "metadata": {
    "papermill": {
     "duration": 0.166392,
     "end_time": "2024-04-19T13:52:10.380836",
     "exception": false,
     "start_time": "2024-04-19T13:52:10.214444",
     "status": "completed"
    },
    "tags": []
   },
   "source": [
    "## Introduction"
   ]
  },
  {
   "cell_type": "markdown",
   "id": "de81fbc8",
   "metadata": {
    "papermill": {
     "duration": 0.157019,
     "end_time": "2024-04-19T13:52:10.701084",
     "exception": false,
     "start_time": "2024-04-19T13:52:10.544065",
     "status": "completed"
    },
    "tags": []
   },
   "source": [
    "In this notebook we're going to build and train a deep learning model \"from scratch\" -- by which I mean that we're not going to use any pre-built architecture, or optimizers, or data loading frameworks, etc.\n",
    "\n",
    "We'll be assuming you already know the basics of how a neural network works. If you don't, read this notebook first: [How does a neural net really work?\n",
    "](https://www.kaggle.com/code/jhoward/how-does-a-neural-net-really-work). We'll be using Kaggle's [Titanic](https://www.kaggle.com/competitions/titanic/) competition in this notebook, because it's very small and simple, but also has displays many of the tricky real-life issues that we need to handle in most practical projects. (Note, however, that this competition is a small \"learner\" competition on Kaggle, so don't expect to actually see much benefits from using a neural net just yet; that will come once we try our some real competitions!)\n",
    "\n",
    "It's great to be able to run the same notebook on your own machine or Colab, as well as Kaggle. To allow for this, we use this code to download the data as needed when not on Kaggle (see [this notebook](https://www.kaggle.com/code/jhoward/getting-started-with-nlp-for-absolute-beginners/) for details about this technique):"
   ]
  },
  {
   "cell_type": "code",
   "execution_count": 1,
   "id": "0885bcc0",
   "metadata": {
    "execution": {
     "iopub.execute_input": "2024-04-19T13:52:11.023022Z",
     "iopub.status.busy": "2024-04-19T13:52:11.022540Z",
     "iopub.status.idle": "2024-04-19T13:52:11.038058Z",
     "shell.execute_reply": "2024-04-19T13:52:11.037044Z"
    },
    "papermill": {
     "duration": 0.181059,
     "end_time": "2024-04-19T13:52:11.041098",
     "exception": false,
     "start_time": "2024-04-19T13:52:10.860039",
     "status": "completed"
    },
    "tags": []
   },
   "outputs": [],
   "source": [
    "import os\n",
    "from pathlib import Path\n",
    "\n",
    "iskaggle = os.environ.get('KAGGLE_KERNEL_RUN_TYPE', '')\n",
    "if iskaggle: path = Path('../input/titanic')\n",
    "else:\n",
    "    path = Path('titanic')\n",
    "    if not path.exists():\n",
    "        import zipfile,kaggle\n",
    "        kaggle.api.competition_download_cli(str(path))\n",
    "        zipfile.ZipFile(f'{path}.zip').extractall(path)"
   ]
  },
  {
   "cell_type": "markdown",
   "id": "2dbfc8df",
   "metadata": {
    "hidden": true,
    "papermill": {
     "duration": 0.160273,
     "end_time": "2024-04-19T13:52:11.362253",
     "exception": false,
     "start_time": "2024-04-19T13:52:11.201980",
     "status": "completed"
    },
    "tags": []
   },
   "source": [
    "Note that the data for Kaggle comps always lives in the `../input` folder. The easiest way to get the path is to click the \"K\" button in the top-right of the Kaggle notebook, click on the folder shown there, and click the copy button.\n",
    "\n",
    "We'll be using *numpy* and *pytorch* for array calculations in this notebook, and *pandas* for working with tabular data, so we'll import them and set them to display using a bit more space than they default to."
   ]
  },
  {
   "cell_type": "code",
   "execution_count": 2,
   "id": "c016bd8c",
   "metadata": {
    "execution": {
     "iopub.execute_input": "2024-04-19T13:52:11.678947Z",
     "iopub.status.busy": "2024-04-19T13:52:11.678563Z",
     "iopub.status.idle": "2024-04-19T13:52:13.289924Z",
     "shell.execute_reply": "2024-04-19T13:52:13.288848Z"
    },
    "papermill": {
     "duration": 1.77304,
     "end_time": "2024-04-19T13:52:13.293011",
     "exception": false,
     "start_time": "2024-04-19T13:52:11.519971",
     "status": "completed"
    },
    "tags": []
   },
   "outputs": [],
   "source": [
    "import torch, numpy as np, pandas as pd\n",
    "np.set_printoptions(linewidth=140)\n",
    "torch.set_printoptions(linewidth=140, sci_mode=False, edgeitems=7)\n",
    "pd.set_option('display.width', 140)"
   ]
  },
  {
   "cell_type": "markdown",
   "id": "6b389904",
   "metadata": {
    "heading_collapsed": true,
    "papermill": {
     "duration": 0.160188,
     "end_time": "2024-04-19T13:52:13.611717",
     "exception": false,
     "start_time": "2024-04-19T13:52:13.451529",
     "status": "completed"
    },
    "tags": []
   },
   "source": [
    "## Cleaning the data"
   ]
  },
  {
   "cell_type": "markdown",
   "id": "1291deba",
   "metadata": {
    "hidden": true,
    "papermill": {
     "duration": 0.179646,
     "end_time": "2024-04-19T13:52:13.954203",
     "exception": false,
     "start_time": "2024-04-19T13:52:13.774557",
     "status": "completed"
    },
    "tags": []
   },
   "source": [
    "This is a *tabular data* competition -- the data is in the form of a table. It's provided as a Comma Separated Values (CSV) file. We can open it using the *pandas* library, which will create a `DataFrame`."
   ]
  },
  {
   "cell_type": "code",
   "execution_count": 3,
   "id": "6ed8431c",
   "metadata": {
    "execution": {
     "iopub.execute_input": "2024-04-19T13:52:14.283213Z",
     "iopub.status.busy": "2024-04-19T13:52:14.282848Z",
     "iopub.status.idle": "2024-04-19T13:52:14.340025Z",
     "shell.execute_reply": "2024-04-19T13:52:14.339077Z"
    },
    "hidden": true,
    "papermill": {
     "duration": 0.221971,
     "end_time": "2024-04-19T13:52:14.343844",
     "exception": false,
     "start_time": "2024-04-19T13:52:14.121873",
     "status": "completed"
    },
    "scrolled": true,
    "tags": []
   },
   "outputs": [
    {
     "data": {
      "text/html": [
       "<div>\n",
       "<style scoped>\n",
       "    .dataframe tbody tr th:only-of-type {\n",
       "        vertical-align: middle;\n",
       "    }\n",
       "\n",
       "    .dataframe tbody tr th {\n",
       "        vertical-align: top;\n",
       "    }\n",
       "\n",
       "    .dataframe thead th {\n",
       "        text-align: right;\n",
       "    }\n",
       "</style>\n",
       "<table border=\"1\" class=\"dataframe\">\n",
       "  <thead>\n",
       "    <tr style=\"text-align: right;\">\n",
       "      <th></th>\n",
       "      <th>PassengerId</th>\n",
       "      <th>Survived</th>\n",
       "      <th>Pclass</th>\n",
       "      <th>Name</th>\n",
       "      <th>Sex</th>\n",
       "      <th>Age</th>\n",
       "      <th>SibSp</th>\n",
       "      <th>Parch</th>\n",
       "      <th>Ticket</th>\n",
       "      <th>Fare</th>\n",
       "      <th>Cabin</th>\n",
       "      <th>Embarked</th>\n",
       "    </tr>\n",
       "  </thead>\n",
       "  <tbody>\n",
       "    <tr>\n",
       "      <th>0</th>\n",
       "      <td>1</td>\n",
       "      <td>0</td>\n",
       "      <td>3</td>\n",
       "      <td>Braund, Mr. Owen Harris</td>\n",
       "      <td>male</td>\n",
       "      <td>22.0</td>\n",
       "      <td>1</td>\n",
       "      <td>0</td>\n",
       "      <td>A/5 21171</td>\n",
       "      <td>7.2500</td>\n",
       "      <td>NaN</td>\n",
       "      <td>S</td>\n",
       "    </tr>\n",
       "    <tr>\n",
       "      <th>1</th>\n",
       "      <td>2</td>\n",
       "      <td>1</td>\n",
       "      <td>1</td>\n",
       "      <td>Cumings, Mrs. John Bradley (Florence Briggs Th...</td>\n",
       "      <td>female</td>\n",
       "      <td>38.0</td>\n",
       "      <td>1</td>\n",
       "      <td>0</td>\n",
       "      <td>PC 17599</td>\n",
       "      <td>71.2833</td>\n",
       "      <td>C85</td>\n",
       "      <td>C</td>\n",
       "    </tr>\n",
       "    <tr>\n",
       "      <th>2</th>\n",
       "      <td>3</td>\n",
       "      <td>1</td>\n",
       "      <td>3</td>\n",
       "      <td>Heikkinen, Miss. Laina</td>\n",
       "      <td>female</td>\n",
       "      <td>26.0</td>\n",
       "      <td>0</td>\n",
       "      <td>0</td>\n",
       "      <td>STON/O2. 3101282</td>\n",
       "      <td>7.9250</td>\n",
       "      <td>NaN</td>\n",
       "      <td>S</td>\n",
       "    </tr>\n",
       "    <tr>\n",
       "      <th>3</th>\n",
       "      <td>4</td>\n",
       "      <td>1</td>\n",
       "      <td>1</td>\n",
       "      <td>Futrelle, Mrs. Jacques Heath (Lily May Peel)</td>\n",
       "      <td>female</td>\n",
       "      <td>35.0</td>\n",
       "      <td>1</td>\n",
       "      <td>0</td>\n",
       "      <td>113803</td>\n",
       "      <td>53.1000</td>\n",
       "      <td>C123</td>\n",
       "      <td>S</td>\n",
       "    </tr>\n",
       "    <tr>\n",
       "      <th>4</th>\n",
       "      <td>5</td>\n",
       "      <td>0</td>\n",
       "      <td>3</td>\n",
       "      <td>Allen, Mr. William Henry</td>\n",
       "      <td>male</td>\n",
       "      <td>35.0</td>\n",
       "      <td>0</td>\n",
       "      <td>0</td>\n",
       "      <td>373450</td>\n",
       "      <td>8.0500</td>\n",
       "      <td>NaN</td>\n",
       "      <td>S</td>\n",
       "    </tr>\n",
       "    <tr>\n",
       "      <th>...</th>\n",
       "      <td>...</td>\n",
       "      <td>...</td>\n",
       "      <td>...</td>\n",
       "      <td>...</td>\n",
       "      <td>...</td>\n",
       "      <td>...</td>\n",
       "      <td>...</td>\n",
       "      <td>...</td>\n",
       "      <td>...</td>\n",
       "      <td>...</td>\n",
       "      <td>...</td>\n",
       "      <td>...</td>\n",
       "    </tr>\n",
       "    <tr>\n",
       "      <th>886</th>\n",
       "      <td>887</td>\n",
       "      <td>0</td>\n",
       "      <td>2</td>\n",
       "      <td>Montvila, Rev. Juozas</td>\n",
       "      <td>male</td>\n",
       "      <td>27.0</td>\n",
       "      <td>0</td>\n",
       "      <td>0</td>\n",
       "      <td>211536</td>\n",
       "      <td>13.0000</td>\n",
       "      <td>NaN</td>\n",
       "      <td>S</td>\n",
       "    </tr>\n",
       "    <tr>\n",
       "      <th>887</th>\n",
       "      <td>888</td>\n",
       "      <td>1</td>\n",
       "      <td>1</td>\n",
       "      <td>Graham, Miss. Margaret Edith</td>\n",
       "      <td>female</td>\n",
       "      <td>19.0</td>\n",
       "      <td>0</td>\n",
       "      <td>0</td>\n",
       "      <td>112053</td>\n",
       "      <td>30.0000</td>\n",
       "      <td>B42</td>\n",
       "      <td>S</td>\n",
       "    </tr>\n",
       "    <tr>\n",
       "      <th>888</th>\n",
       "      <td>889</td>\n",
       "      <td>0</td>\n",
       "      <td>3</td>\n",
       "      <td>Johnston, Miss. Catherine Helen \"Carrie\"</td>\n",
       "      <td>female</td>\n",
       "      <td>NaN</td>\n",
       "      <td>1</td>\n",
       "      <td>2</td>\n",
       "      <td>W./C. 6607</td>\n",
       "      <td>23.4500</td>\n",
       "      <td>NaN</td>\n",
       "      <td>S</td>\n",
       "    </tr>\n",
       "    <tr>\n",
       "      <th>889</th>\n",
       "      <td>890</td>\n",
       "      <td>1</td>\n",
       "      <td>1</td>\n",
       "      <td>Behr, Mr. Karl Howell</td>\n",
       "      <td>male</td>\n",
       "      <td>26.0</td>\n",
       "      <td>0</td>\n",
       "      <td>0</td>\n",
       "      <td>111369</td>\n",
       "      <td>30.0000</td>\n",
       "      <td>C148</td>\n",
       "      <td>C</td>\n",
       "    </tr>\n",
       "    <tr>\n",
       "      <th>890</th>\n",
       "      <td>891</td>\n",
       "      <td>0</td>\n",
       "      <td>3</td>\n",
       "      <td>Dooley, Mr. Patrick</td>\n",
       "      <td>male</td>\n",
       "      <td>32.0</td>\n",
       "      <td>0</td>\n",
       "      <td>0</td>\n",
       "      <td>370376</td>\n",
       "      <td>7.7500</td>\n",
       "      <td>NaN</td>\n",
       "      <td>Q</td>\n",
       "    </tr>\n",
       "  </tbody>\n",
       "</table>\n",
       "<p>891 rows × 12 columns</p>\n",
       "</div>"
      ],
      "text/plain": [
       "     PassengerId  Survived  Pclass                                               Name     Sex   Age  SibSp  Parch            Ticket  \\\n",
       "0              1         0       3                            Braund, Mr. Owen Harris    male  22.0      1      0         A/5 21171   \n",
       "1              2         1       1  Cumings, Mrs. John Bradley (Florence Briggs Th...  female  38.0      1      0          PC 17599   \n",
       "2              3         1       3                             Heikkinen, Miss. Laina  female  26.0      0      0  STON/O2. 3101282   \n",
       "3              4         1       1       Futrelle, Mrs. Jacques Heath (Lily May Peel)  female  35.0      1      0            113803   \n",
       "4              5         0       3                           Allen, Mr. William Henry    male  35.0      0      0            373450   \n",
       "..           ...       ...     ...                                                ...     ...   ...    ...    ...               ...   \n",
       "886          887         0       2                              Montvila, Rev. Juozas    male  27.0      0      0            211536   \n",
       "887          888         1       1                       Graham, Miss. Margaret Edith  female  19.0      0      0            112053   \n",
       "888          889         0       3           Johnston, Miss. Catherine Helen \"Carrie\"  female   NaN      1      2        W./C. 6607   \n",
       "889          890         1       1                              Behr, Mr. Karl Howell    male  26.0      0      0            111369   \n",
       "890          891         0       3                                Dooley, Mr. Patrick    male  32.0      0      0            370376   \n",
       "\n",
       "        Fare Cabin Embarked  \n",
       "0     7.2500   NaN        S  \n",
       "1    71.2833   C85        C  \n",
       "2     7.9250   NaN        S  \n",
       "3    53.1000  C123        S  \n",
       "4     8.0500   NaN        S  \n",
       "..       ...   ...      ...  \n",
       "886  13.0000   NaN        S  \n",
       "887  30.0000   B42        S  \n",
       "888  23.4500   NaN        S  \n",
       "889  30.0000  C148        C  \n",
       "890   7.7500   NaN        Q  \n",
       "\n",
       "[891 rows x 12 columns]"
      ]
     },
     "execution_count": 3,
     "metadata": {},
     "output_type": "execute_result"
    }
   ],
   "source": [
    "df = pd.read_csv(path/'train.csv')\n",
    "df"
   ]
  },
  {
   "cell_type": "markdown",
   "id": "a14e1b9f",
   "metadata": {
    "hidden": true,
    "papermill": {
     "duration": 0.197204,
     "end_time": "2024-04-19T13:52:14.711888",
     "exception": false,
     "start_time": "2024-04-19T13:52:14.514684",
     "status": "completed"
    },
    "tags": []
   },
   "source": [
    "As we learned in the *How does a neural net really work* notebook, we going to want to multiply each column by some coefficients. But we can see in the `Cabin` column that there are `NaN` values, which is how Pandas refers to missing values. We can't multiply something by a missing value!\n",
    "\n",
    "Let's check which columns contain `NaN` values. Pandas' `isna()` function returns `True` (which is treated as `1` when used as a number) for `NaN` values, so we can just add them up for each column:"
   ]
  },
  {
   "cell_type": "code",
   "execution_count": 4,
   "id": "00a46615",
   "metadata": {
    "execution": {
     "iopub.execute_input": "2024-04-19T13:52:15.076879Z",
     "iopub.status.busy": "2024-04-19T13:52:15.075965Z",
     "iopub.status.idle": "2024-04-19T13:52:15.089648Z",
     "shell.execute_reply": "2024-04-19T13:52:15.088701Z"
    },
    "hidden": true,
    "papermill": {
     "duration": 0.209028,
     "end_time": "2024-04-19T13:52:15.092338",
     "exception": false,
     "start_time": "2024-04-19T13:52:14.883310",
     "status": "completed"
    },
    "tags": []
   },
   "outputs": [
    {
     "data": {
      "text/plain": [
       "PassengerId      0\n",
       "Survived         0\n",
       "Pclass           0\n",
       "Name             0\n",
       "Sex              0\n",
       "Age            177\n",
       "SibSp            0\n",
       "Parch            0\n",
       "Ticket           0\n",
       "Fare             0\n",
       "Cabin          687\n",
       "Embarked         2\n",
       "dtype: int64"
      ]
     },
     "execution_count": 4,
     "metadata": {},
     "output_type": "execute_result"
    }
   ],
   "source": [
    "df.isna().sum()"
   ]
  },
  {
   "cell_type": "markdown",
   "id": "02ce2c22",
   "metadata": {
    "hidden": true,
    "papermill": {
     "duration": 0.164431,
     "end_time": "2024-04-19T13:52:15.420953",
     "exception": false,
     "start_time": "2024-04-19T13:52:15.256522",
     "status": "completed"
    },
    "tags": []
   },
   "source": [
    "Notice that by default Pandas sums over columns.\n",
    "\n",
    "We'll need to replace the missing values with something. It doesn't generally matter too much what we choose. We'll use the most common value (the \"*mode*\"). We can use the `mode` function for that. One wrinkle is that it returns more than one row in the case of ties, so we just grab the first row with `iloc[0]`:"
   ]
  },
  {
   "cell_type": "code",
   "execution_count": 5,
   "id": "31ce834e",
   "metadata": {
    "execution": {
     "iopub.execute_input": "2024-04-19T13:52:15.758717Z",
     "iopub.status.busy": "2024-04-19T13:52:15.757486Z",
     "iopub.status.idle": "2024-04-19T13:52:15.781090Z",
     "shell.execute_reply": "2024-04-19T13:52:15.780311Z"
    },
    "hidden": true,
    "papermill": {
     "duration": 0.196864,
     "end_time": "2024-04-19T13:52:15.783351",
     "exception": false,
     "start_time": "2024-04-19T13:52:15.586487",
     "status": "completed"
    },
    "tags": []
   },
   "outputs": [
    {
     "data": {
      "text/plain": [
       "PassengerId                      1\n",
       "Survived                       0.0\n",
       "Pclass                         3.0\n",
       "Name           Abbing, Mr. Anthony\n",
       "Sex                           male\n",
       "Age                           24.0\n",
       "SibSp                          0.0\n",
       "Parch                          0.0\n",
       "Ticket                        1601\n",
       "Fare                          8.05\n",
       "Cabin                      B96 B98\n",
       "Embarked                         S\n",
       "Name: 0, dtype: object"
      ]
     },
     "execution_count": 5,
     "metadata": {},
     "output_type": "execute_result"
    }
   ],
   "source": [
    "modes = df.mode().iloc[0]\n",
    "modes"
   ]
  },
  {
   "cell_type": "markdown",
   "id": "a15bee89",
   "metadata": {
    "hidden": true,
    "papermill": {
     "duration": 0.163677,
     "end_time": "2024-04-19T13:52:16.111791",
     "exception": false,
     "start_time": "2024-04-19T13:52:15.948114",
     "status": "completed"
    },
    "tags": []
   },
   "source": [
    "BTW, it's never a good idea to use functions without understanding them. So be sure to google for anything you're not familiar with. E.g if you want to learn about `iloc` (which is a very important function indeed!) then Google will give you a link to a [great tutorial](https://www.shanelynn.ie/pandas-iloc-loc-select-rows-and-columns-dataframe/).\n",
    "\n",
    "Now that we've got the mode of each column, we can use `fillna` to replace the missing values with the mode of each column. We'll do it \"in place\" -- meaning that we'll change the dataframe itself, rather than returning a new one."
   ]
  },
  {
   "cell_type": "code",
   "execution_count": 6,
   "id": "36864711",
   "metadata": {
    "execution": {
     "iopub.execute_input": "2024-04-19T13:52:16.443670Z",
     "iopub.status.busy": "2024-04-19T13:52:16.443251Z",
     "iopub.status.idle": "2024-04-19T13:52:16.458975Z",
     "shell.execute_reply": "2024-04-19T13:52:16.457837Z"
    },
    "hidden": true,
    "papermill": {
     "duration": 0.182967,
     "end_time": "2024-04-19T13:52:16.461972",
     "exception": false,
     "start_time": "2024-04-19T13:52:16.279005",
     "status": "completed"
    },
    "tags": []
   },
   "outputs": [],
   "source": [
    "df.fillna(modes, inplace=True)"
   ]
  },
  {
   "cell_type": "markdown",
   "id": "eaa5d897",
   "metadata": {
    "hidden": true,
    "papermill": {
     "duration": 0.158937,
     "end_time": "2024-04-19T13:52:16.783337",
     "exception": false,
     "start_time": "2024-04-19T13:52:16.624400",
     "status": "completed"
    },
    "tags": []
   },
   "source": [
    "We can now check there's no missing values left:"
   ]
  },
  {
   "cell_type": "code",
   "execution_count": 7,
   "id": "40b8defd",
   "metadata": {
    "execution": {
     "iopub.execute_input": "2024-04-19T13:52:17.110462Z",
     "iopub.status.busy": "2024-04-19T13:52:17.110103Z",
     "iopub.status.idle": "2024-04-19T13:52:17.120713Z",
     "shell.execute_reply": "2024-04-19T13:52:17.119922Z"
    },
    "hidden": true,
    "papermill": {
     "duration": 0.177734,
     "end_time": "2024-04-19T13:52:17.123205",
     "exception": false,
     "start_time": "2024-04-19T13:52:16.945471",
     "status": "completed"
    },
    "tags": []
   },
   "outputs": [
    {
     "data": {
      "text/plain": [
       "PassengerId    0\n",
       "Survived       0\n",
       "Pclass         0\n",
       "Name           0\n",
       "Sex            0\n",
       "Age            0\n",
       "SibSp          0\n",
       "Parch          0\n",
       "Ticket         0\n",
       "Fare           0\n",
       "Cabin          0\n",
       "Embarked       0\n",
       "dtype: int64"
      ]
     },
     "execution_count": 7,
     "metadata": {},
     "output_type": "execute_result"
    }
   ],
   "source": [
    "df.isna().sum()"
   ]
  },
  {
   "cell_type": "markdown",
   "id": "cf3593cf",
   "metadata": {
    "hidden": true,
    "papermill": {
     "duration": 0.160635,
     "end_time": "2024-04-19T13:52:17.444128",
     "exception": false,
     "start_time": "2024-04-19T13:52:17.283493",
     "status": "completed"
    },
    "tags": []
   },
   "source": [
    "Here's how we get a quick summary of all the numeric columns in the dataset:"
   ]
  },
  {
   "cell_type": "code",
   "execution_count": 8,
   "id": "3c137e82",
   "metadata": {
    "execution": {
     "iopub.execute_input": "2024-04-19T13:52:17.773898Z",
     "iopub.status.busy": "2024-04-19T13:52:17.772648Z",
     "iopub.status.idle": "2024-04-19T13:52:17.813810Z",
     "shell.execute_reply": "2024-04-19T13:52:17.813055Z"
    },
    "hidden": true,
    "papermill": {
     "duration": 0.207171,
     "end_time": "2024-04-19T13:52:17.816035",
     "exception": false,
     "start_time": "2024-04-19T13:52:17.608864",
     "status": "completed"
    },
    "tags": []
   },
   "outputs": [
    {
     "data": {
      "text/html": [
       "<div>\n",
       "<style scoped>\n",
       "    .dataframe tbody tr th:only-of-type {\n",
       "        vertical-align: middle;\n",
       "    }\n",
       "\n",
       "    .dataframe tbody tr th {\n",
       "        vertical-align: top;\n",
       "    }\n",
       "\n",
       "    .dataframe thead th {\n",
       "        text-align: right;\n",
       "    }\n",
       "</style>\n",
       "<table border=\"1\" class=\"dataframe\">\n",
       "  <thead>\n",
       "    <tr style=\"text-align: right;\">\n",
       "      <th></th>\n",
       "      <th>PassengerId</th>\n",
       "      <th>Survived</th>\n",
       "      <th>Pclass</th>\n",
       "      <th>Age</th>\n",
       "      <th>SibSp</th>\n",
       "      <th>Parch</th>\n",
       "      <th>Fare</th>\n",
       "    </tr>\n",
       "  </thead>\n",
       "  <tbody>\n",
       "    <tr>\n",
       "      <th>count</th>\n",
       "      <td>891.000000</td>\n",
       "      <td>891.000000</td>\n",
       "      <td>891.000000</td>\n",
       "      <td>891.000000</td>\n",
       "      <td>891.000000</td>\n",
       "      <td>891.000000</td>\n",
       "      <td>891.000000</td>\n",
       "    </tr>\n",
       "    <tr>\n",
       "      <th>mean</th>\n",
       "      <td>446.000000</td>\n",
       "      <td>0.383838</td>\n",
       "      <td>2.308642</td>\n",
       "      <td>28.566970</td>\n",
       "      <td>0.523008</td>\n",
       "      <td>0.381594</td>\n",
       "      <td>32.204208</td>\n",
       "    </tr>\n",
       "    <tr>\n",
       "      <th>std</th>\n",
       "      <td>257.353842</td>\n",
       "      <td>0.486592</td>\n",
       "      <td>0.836071</td>\n",
       "      <td>13.199572</td>\n",
       "      <td>1.102743</td>\n",
       "      <td>0.806057</td>\n",
       "      <td>49.693429</td>\n",
       "    </tr>\n",
       "    <tr>\n",
       "      <th>min</th>\n",
       "      <td>1.000000</td>\n",
       "      <td>0.000000</td>\n",
       "      <td>1.000000</td>\n",
       "      <td>0.420000</td>\n",
       "      <td>0.000000</td>\n",
       "      <td>0.000000</td>\n",
       "      <td>0.000000</td>\n",
       "    </tr>\n",
       "    <tr>\n",
       "      <th>25%</th>\n",
       "      <td>223.500000</td>\n",
       "      <td>0.000000</td>\n",
       "      <td>2.000000</td>\n",
       "      <td>22.000000</td>\n",
       "      <td>0.000000</td>\n",
       "      <td>0.000000</td>\n",
       "      <td>7.910400</td>\n",
       "    </tr>\n",
       "    <tr>\n",
       "      <th>50%</th>\n",
       "      <td>446.000000</td>\n",
       "      <td>0.000000</td>\n",
       "      <td>3.000000</td>\n",
       "      <td>24.000000</td>\n",
       "      <td>0.000000</td>\n",
       "      <td>0.000000</td>\n",
       "      <td>14.454200</td>\n",
       "    </tr>\n",
       "    <tr>\n",
       "      <th>75%</th>\n",
       "      <td>668.500000</td>\n",
       "      <td>1.000000</td>\n",
       "      <td>3.000000</td>\n",
       "      <td>35.000000</td>\n",
       "      <td>1.000000</td>\n",
       "      <td>0.000000</td>\n",
       "      <td>31.000000</td>\n",
       "    </tr>\n",
       "    <tr>\n",
       "      <th>max</th>\n",
       "      <td>891.000000</td>\n",
       "      <td>1.000000</td>\n",
       "      <td>3.000000</td>\n",
       "      <td>80.000000</td>\n",
       "      <td>8.000000</td>\n",
       "      <td>6.000000</td>\n",
       "      <td>512.329200</td>\n",
       "    </tr>\n",
       "  </tbody>\n",
       "</table>\n",
       "</div>"
      ],
      "text/plain": [
       "       PassengerId    Survived      Pclass         Age       SibSp       Parch        Fare\n",
       "count   891.000000  891.000000  891.000000  891.000000  891.000000  891.000000  891.000000\n",
       "mean    446.000000    0.383838    2.308642   28.566970    0.523008    0.381594   32.204208\n",
       "std     257.353842    0.486592    0.836071   13.199572    1.102743    0.806057   49.693429\n",
       "min       1.000000    0.000000    1.000000    0.420000    0.000000    0.000000    0.000000\n",
       "25%     223.500000    0.000000    2.000000   22.000000    0.000000    0.000000    7.910400\n",
       "50%     446.000000    0.000000    3.000000   24.000000    0.000000    0.000000   14.454200\n",
       "75%     668.500000    1.000000    3.000000   35.000000    1.000000    0.000000   31.000000\n",
       "max     891.000000    1.000000    3.000000   80.000000    8.000000    6.000000  512.329200"
      ]
     },
     "execution_count": 8,
     "metadata": {},
     "output_type": "execute_result"
    }
   ],
   "source": [
    "import numpy as np\n",
    "\n",
    "df.describe(include=(np.number))"
   ]
  },
  {
   "cell_type": "markdown",
   "id": "1fda1c53",
   "metadata": {
    "execution": {
     "iopub.execute_input": "2022-05-13T11:02:34.328433Z",
     "iopub.status.busy": "2022-05-13T11:02:34.327999Z",
     "iopub.status.idle": "2022-05-13T11:02:34.336993Z",
     "shell.execute_reply": "2022-05-13T11:02:34.335466Z",
     "shell.execute_reply.started": "2022-05-13T11:02:34.32838Z"
    },
    "hidden": true,
    "papermill": {
     "duration": 0.160393,
     "end_time": "2024-04-19T13:52:18.141387",
     "exception": false,
     "start_time": "2024-04-19T13:52:17.980994",
     "status": "completed"
    },
    "tags": []
   },
   "source": [
    "We can see that `Fare` contains mainly values of around `0` to `30`, but there's a few really big ones. This is very common with fields contain monetary values, and it can cause problems for our model, because once that column is multiplied by a coefficient later, the few rows with really big values will dominate the result.\n",
    "\n",
    "You can see the issue most clearly visually by looking at a histogram, which shows a long tail to the right (and don't forget: if you're not entirely sure what a histogram is, Google \"[histogram tutorial](https://www.google.com/search?q=histogram+tutorial&oq=histogram+tutorial)\" and do a bit of reading before continuing on):"
   ]
  },
  {
   "cell_type": "code",
   "execution_count": 9,
   "id": "b2805e19",
   "metadata": {
    "execution": {
     "iopub.execute_input": "2024-04-19T13:52:18.466401Z",
     "iopub.status.busy": "2024-04-19T13:52:18.466033Z",
     "iopub.status.idle": "2024-04-19T13:52:18.781944Z",
     "shell.execute_reply": "2024-04-19T13:52:18.780690Z"
    },
    "hidden": true,
    "papermill": {
     "duration": 0.481609,
     "end_time": "2024-04-19T13:52:18.784894",
     "exception": false,
     "start_time": "2024-04-19T13:52:18.303285",
     "status": "completed"
    },
    "tags": []
   },
   "outputs": [
    {
     "data": {
      "image/png": "[encoded data removed]",
      "text/plain": [
       "<Figure size 432x288 with 1 Axes>"
      ]
     },
     "metadata": {
      "needs_background": "light"
     },
     "output_type": "display_data"
    }
   ],
   "source": [
    "df['Fare'].hist();"
   ]
  },
  {
   "cell_type": "markdown",
   "id": "a3861a4b",
   "metadata": {
    "execution": {
     "iopub.execute_input": "2022-05-13T11:02:34.328433Z",
     "iopub.status.busy": "2022-05-13T11:02:34.327999Z",
     "iopub.status.idle": "2022-05-13T11:02:34.336993Z",
     "shell.execute_reply": "2022-05-13T11:02:34.335466Z",
     "shell.execute_reply.started": "2022-05-13T11:02:34.32838Z"
    },
    "hidden": true,
    "papermill": {
     "duration": 0.163019,
     "end_time": "2024-04-19T13:52:19.112475",
     "exception": false,
     "start_time": "2024-04-19T13:52:18.949456",
     "status": "completed"
    },
    "tags": []
   },
   "source": [
    "To fix this, the most common approach is to take the logarithm, which squishes the big numbers and makes the distribution more reasonable. Note, however, that there are zeros in the `Fare` column, and `log(0)` is infinite -- to fix this, we'll simply add `1` to all values first:"
   ]
  },
  {
   "cell_type": "code",
   "execution_count": 10,
   "id": "5ed13878",
   "metadata": {
    "execution": {
     "iopub.execute_input": "2024-04-19T13:52:19.443838Z",
     "iopub.status.busy": "2024-04-19T13:52:19.443419Z",
     "iopub.status.idle": "2024-04-19T13:52:19.450261Z",
     "shell.execute_reply": "2024-04-19T13:52:19.449369Z"
    },
    "hidden": true,
    "papermill": {
     "duration": 0.176132,
     "end_time": "2024-04-19T13:52:19.452672",
     "exception": false,
     "start_time": "2024-04-19T13:52:19.276540",
     "status": "completed"
    },
    "tags": []
   },
   "outputs": [],
   "source": [
    "df['LogFare'] = np.log(df['Fare']+1)"
   ]
  },
  {
   "cell_type": "markdown",
   "id": "443b1792",
   "metadata": {
    "hidden": true,
    "papermill": {
     "duration": 0.165157,
     "end_time": "2024-04-19T13:52:19.783257",
     "exception": false,
     "start_time": "2024-04-19T13:52:19.618100",
     "status": "completed"
    },
    "tags": []
   },
   "source": [
    "The histogram now shows a more even distribution of values without the long tail:"
   ]
  },
  {
   "cell_type": "code",
   "execution_count": 11,
   "id": "4b349dfe",
   "metadata": {
    "execution": {
     "iopub.execute_input": "2024-04-19T13:52:20.115798Z",
     "iopub.status.busy": "2024-04-19T13:52:20.115375Z",
     "iopub.status.idle": "2024-04-19T13:52:20.323706Z",
     "shell.execute_reply": "2024-04-19T13:52:20.322561Z"
    },
    "hidden": true,
    "papermill": {
     "duration": 0.378706,
     "end_time": "2024-04-19T13:52:20.326727",
     "exception": false,
     "start_time": "2024-04-19T13:52:19.948021",
     "status": "completed"
    },
    "tags": []
   },
   "outputs": [
    {
     "data": {
      "image/png": "[encoded data removed]",
      "text/plain": [
       "<Figure size 432x288 with 1 Axes>"
      ]
     },
     "metadata": {
      "needs_background": "light"
     },
     "output_type": "display_data"
    }
   ],
   "source": [
    "df['LogFare'].hist();"
   ]
  },
  {
   "cell_type": "markdown",
   "id": "42b4ec89",
   "metadata": {
    "hidden": true,
    "papermill": {
     "duration": 0.165739,
     "end_time": "2024-04-19T13:52:20.661088",
     "exception": false,
     "start_time": "2024-04-19T13:52:20.495349",
     "status": "completed"
    },
    "tags": []
   },
   "source": [
    "It looks from the `describe()` output like `Pclass` contains just 3 values, which we can confirm by looking at the [Data Dictionary](https://www.kaggle.com/competitions/titanic/data) (which you should always study carefully for any project!) -- "
   ]
  },
  {
   "cell_type": "code",
   "execution_count": 12,
   "id": "a675d49b",
   "metadata": {
    "execution": {
     "iopub.execute_input": "2024-04-19T13:52:20.993322Z",
     "iopub.status.busy": "2024-04-19T13:52:20.992763Z",
     "iopub.status.idle": "2024-04-19T13:52:21.000617Z",
     "shell.execute_reply": "2024-04-19T13:52:20.999661Z"
    },
    "hidden": true,
    "papermill": {
     "duration": 0.176252,
     "end_time": "2024-04-19T13:52:21.002970",
     "exception": false,
     "start_time": "2024-04-19T13:52:20.826718",
     "status": "completed"
    },
    "tags": []
   },
   "outputs": [
    {
     "data": {
      "text/plain": [
       "[1, 2, 3]"
      ]
     },
     "execution_count": 12,
     "metadata": {},
     "output_type": "execute_result"
    }
   ],
   "source": [
    "pclasses = sorted(df.Pclass.unique())\n",
    "pclasses"
   ]
  },
  {
   "cell_type": "markdown",
   "id": "f24d894a",
   "metadata": {
    "hidden": true,
    "papermill": {
     "duration": 0.163055,
     "end_time": "2024-04-19T13:52:21.332996",
     "exception": false,
     "start_time": "2024-04-19T13:52:21.169941",
     "status": "completed"
    },
    "tags": []
   },
   "source": [
    "Here's how we get a quick summary of all the non-numeric columns in the dataset:"
   ]
  },
  {
   "cell_type": "code",
   "execution_count": 13,
   "id": "c021550d",
   "metadata": {
    "execution": {
     "iopub.execute_input": "2024-04-19T13:52:21.666793Z",
     "iopub.status.busy": "2024-04-19T13:52:21.666179Z",
     "iopub.status.idle": "2024-04-19T13:52:21.692736Z",
     "shell.execute_reply": "2024-04-19T13:52:21.691725Z"
    },
    "hidden": true,
    "papermill": {
     "duration": 0.196023,
     "end_time": "2024-04-19T13:52:21.695422",
     "exception": false,
     "start_time": "2024-04-19T13:52:21.499399",
     "status": "completed"
    },
    "tags": []
   },
   "outputs": [
    {
     "data": {
      "text/html": [
       "<div>\n",
       "<style scoped>\n",
       "    .dataframe tbody tr th:only-of-type {\n",
       "        vertical-align: middle;\n",
       "    }\n",
       "\n",
       "    .dataframe tbody tr th {\n",
       "        vertical-align: top;\n",
       "    }\n",
       "\n",
       "    .dataframe thead th {\n",
       "        text-align: right;\n",
       "    }\n",
       "</style>\n",
       "<table border=\"1\" class=\"dataframe\">\n",
       "  <thead>\n",
       "    <tr style=\"text-align: right;\">\n",
       "      <th></th>\n",
       "      <th>Name</th>\n",
       "      <th>Sex</th>\n",
       "      <th>Ticket</th>\n",
       "      <th>Cabin</th>\n",
       "      <th>Embarked</th>\n",
       "    </tr>\n",
       "  </thead>\n",
       "  <tbody>\n",
       "    <tr>\n",
       "      <th>count</th>\n",
       "      <td>891</td>\n",
       "      <td>891</td>\n",
       "      <td>891</td>\n",
       "      <td>891</td>\n",
       "      <td>891</td>\n",
       "    </tr>\n",
       "    <tr>\n",
       "      <th>unique</th>\n",
       "      <td>891</td>\n",
       "      <td>2</td>\n",
       "      <td>681</td>\n",
       "      <td>147</td>\n",
       "      <td>3</td>\n",
       "    </tr>\n",
       "    <tr>\n",
       "      <th>top</th>\n",
       "      <td>Braund, Mr. Owen Harris</td>\n",
       "      <td>male</td>\n",
       "      <td>347082</td>\n",
       "      <td>B96 B98</td>\n",
       "      <td>S</td>\n",
       "    </tr>\n",
       "    <tr>\n",
       "      <th>freq</th>\n",
       "      <td>1</td>\n",
       "      <td>577</td>\n",
       "      <td>7</td>\n",
       "      <td>691</td>\n",
       "      <td>646</td>\n",
       "    </tr>\n",
       "  </tbody>\n",
       "</table>\n",
       "</div>"
      ],
      "text/plain": [
       "                           Name   Sex  Ticket    Cabin Embarked\n",
       "count                       891   891     891      891      891\n",
       "unique                      891     2     681      147        3\n",
       "top     Braund, Mr. Owen Harris  male  347082  B96 B98        S\n",
       "freq                          1   577       7      691      646"
      ]
     },
     "execution_count": 13,
     "metadata": {},
     "output_type": "execute_result"
    }
   ],
   "source": [
    "df.describe(include=[object])"
   ]
  },
  {
   "cell_type": "markdown",
   "id": "54735a28",
   "metadata": {
    "hidden": true,
    "papermill": {
     "duration": 0.167156,
     "end_time": "2024-04-19T13:52:22.034056",
     "exception": false,
     "start_time": "2024-04-19T13:52:21.866900",
     "status": "completed"
    },
    "tags": []
   },
   "source": [
    "Clearly we can't multiply strings like `male` or `S` by coefficients, so we need to replace those with numbers.\n",
    "\n",
    "We do that by creating new columns containing *dummy variables*. A dummy variable is a column that contains a `1` where a particular column contains a particular value, or a `0` otherwise. For instance, we could create a dummy variable for `Sex='male'`, which would be a new column containing `1` for rows where `Sex` is `'male'`, and 0 for rows where it isn't.\n",
    "\n",
    "Pandas can create these automatically using `get_dummies`, which also remove the original columns. We'll create dummy variables for `Pclass`, even although it's numeric, since the numbers `1`, `2`, and `3` correspond to first, second, and third class cabins - not to counts or measures that make sense to multiply by. We'll also create dummies for `Sex` and `Embarked` since we'll want to use those as predictors in our model. On the other hand, `Cabin`, `Name`, and `Ticket` have too many unique values for it to make sense creating dummy variables for them."
   ]
  },
  {
   "cell_type": "code",
   "execution_count": 14,
   "id": "897f4220",
   "metadata": {
    "execution": {
     "iopub.execute_input": "2024-04-19T13:52:22.365049Z",
     "iopub.status.busy": "2024-04-19T13:52:22.364393Z",
     "iopub.status.idle": "2024-04-19T13:52:22.379946Z",
     "shell.execute_reply": "2024-04-19T13:52:22.378926Z"
    },
    "hidden": true,
    "papermill": {
     "duration": 0.183483,
     "end_time": "2024-04-19T13:52:22.382481",
     "exception": false,
     "start_time": "2024-04-19T13:52:22.198998",
     "status": "completed"
    },
    "tags": []
   },
   "outputs": [
    {
     "data": {
      "text/plain": [
       "Index(['PassengerId', 'Survived', 'Name', 'Age', 'SibSp', 'Parch', 'Ticket', 'Fare', 'Cabin', 'LogFare', 'Sex_female', 'Sex_male',\n",
       "       'Pclass_1', 'Pclass_2', 'Pclass_3', 'Embarked_C', 'Embarked_Q', 'Embarked_S'],\n",
       "      dtype='object')"
      ]
     },
     "execution_count": 14,
     "metadata": {},
     "output_type": "execute_result"
    }
   ],
   "source": [
    "df = pd.get_dummies(df, columns=[\"Sex\",\"Pclass\",\"Embarked\"])\n",
    "df.columns"
   ]
  },
  {
   "cell_type": "markdown",
   "id": "769c24bd",
   "metadata": {
    "hidden": true,
    "papermill": {
     "duration": 0.163438,
     "end_time": "2024-04-19T13:52:22.711502",
     "exception": false,
     "start_time": "2024-04-19T13:52:22.548064",
     "status": "completed"
    },
    "tags": []
   },
   "source": [
    "We can see that 5 columns have been added to the end -- one for each of the possible values of each of the three columns we requested, and that those three requested columns have been removed.\n",
    "\n",
    "Here's what the first few rows of those newly added columns look like:"
   ]
  },
  {
   "cell_type": "code",
   "execution_count": 15,
   "id": "d2a4250d",
   "metadata": {
    "execution": {
     "iopub.execute_input": "2024-04-19T13:52:23.046432Z",
     "iopub.status.busy": "2024-04-19T13:52:23.045888Z",
     "iopub.status.idle": "2024-04-19T13:52:23.062009Z",
     "shell.execute_reply": "2024-04-19T13:52:23.061016Z"
    },
    "hidden": true,
    "papermill": {
     "duration": 0.187368,
     "end_time": "2024-04-19T13:52:23.064557",
     "exception": false,
     "start_time": "2024-04-19T13:52:22.877189",
     "status": "completed"
    },
    "tags": []
   },
   "outputs": [
    {
     "data": {
      "text/html": [
       "<div>\n",
       "<style scoped>\n",
       "    .dataframe tbody tr th:only-of-type {\n",
       "        vertical-align: middle;\n",
       "    }\n",
       "\n",
       "    .dataframe tbody tr th {\n",
       "        vertical-align: top;\n",
       "    }\n",
       "\n",
       "    .dataframe thead th {\n",
       "        text-align: right;\n",
       "    }\n",
       "</style>\n",
       "<table border=\"1\" class=\"dataframe\">\n",
       "  <thead>\n",
       "    <tr style=\"text-align: right;\">\n",
       "      <th></th>\n",
       "      <th>Sex_male</th>\n",
       "      <th>Sex_female</th>\n",
       "      <th>Pclass_1</th>\n",
       "      <th>Pclass_2</th>\n",
       "      <th>Pclass_3</th>\n",
       "      <th>Embarked_C</th>\n",
       "      <th>Embarked_Q</th>\n",
       "      <th>Embarked_S</th>\n",
       "    </tr>\n",
       "  </thead>\n",
       "  <tbody>\n",
       "    <tr>\n",
       "      <th>0</th>\n",
       "      <td>1</td>\n",
       "      <td>0</td>\n",
       "      <td>0</td>\n",
       "      <td>0</td>\n",
       "      <td>1</td>\n",
       "      <td>0</td>\n",
       "      <td>0</td>\n",
       "      <td>1</td>\n",
       "    </tr>\n",
       "    <tr>\n",
       "      <th>1</th>\n",
       "      <td>0</td>\n",
       "      <td>1</td>\n",
       "      <td>1</td>\n",
       "      <td>0</td>\n",
       "      <td>0</td>\n",
       "      <td>1</td>\n",
       "      <td>0</td>\n",
       "      <td>0</td>\n",
       "    </tr>\n",
       "    <tr>\n",
       "      <th>2</th>\n",
       "      <td>0</td>\n",
       "      <td>1</td>\n",
       "      <td>0</td>\n",
       "      <td>0</td>\n",
       "      <td>1</td>\n",
       "      <td>0</td>\n",
       "      <td>0</td>\n",
       "      <td>1</td>\n",
       "    </tr>\n",
       "    <tr>\n",
       "      <th>3</th>\n",
       "      <td>0</td>\n",
       "      <td>1</td>\n",
       "      <td>1</td>\n",
       "      <td>0</td>\n",
       "      <td>0</td>\n",
       "      <td>0</td>\n",
       "      <td>0</td>\n",
       "      <td>1</td>\n",
       "    </tr>\n",
       "    <tr>\n",
       "      <th>4</th>\n",
       "      <td>1</td>\n",
       "      <td>0</td>\n",
       "      <td>0</td>\n",
       "      <td>0</td>\n",
       "      <td>1</td>\n",
       "      <td>0</td>\n",
       "      <td>0</td>\n",
       "      <td>1</td>\n",
       "    </tr>\n",
       "  </tbody>\n",
       "</table>\n",
       "</div>"
      ],
      "text/plain": [
       "   Sex_male  Sex_female  Pclass_1  Pclass_2  Pclass_3  Embarked_C  Embarked_Q  Embarked_S\n",
       "0         1           0         0         0         1           0           0           1\n",
       "1         0           1         1         0         0           1           0           0\n",
       "2         0           1         0         0         1           0           0           1\n",
       "3         0           1         1         0         0           0           0           1\n",
       "4         1           0         0         0         1           0           0           1"
      ]
     },
     "execution_count": 15,
     "metadata": {},
     "output_type": "execute_result"
    }
   ],
   "source": [
    "added_cols = ['Sex_male', 'Sex_female', 'Pclass_1', 'Pclass_2', 'Pclass_3', 'Embarked_C', 'Embarked_Q', 'Embarked_S']\n",
    "df[added_cols].head()"
   ]
  },
  {
   "cell_type": "markdown",
   "id": "8cf546c3",
   "metadata": {
    "hidden": true,
    "papermill": {
     "duration": 0.167909,
     "end_time": "2024-04-19T13:52:23.399241",
     "exception": false,
     "start_time": "2024-04-19T13:52:23.231332",
     "status": "completed"
    },
    "tags": []
   },
   "source": [
    "Now we can create our independent (predictors) and dependent (target) variables. They both need to be PyTorch tensors. Our dependent variable is `Survived`:"
   ]
  },
  {
   "cell_type": "code",
   "execution_count": 16,
   "id": "8dafbb2c",
   "metadata": {
    "execution": {
     "iopub.execute_input": "2024-04-19T13:52:23.741788Z",
     "iopub.status.busy": "2024-04-19T13:52:23.741184Z",
     "iopub.status.idle": "2024-04-19T13:52:23.760272Z",
     "shell.execute_reply": "2024-04-19T13:52:23.759087Z"
    },
    "hidden": true,
    "papermill": {
     "duration": 0.195819,
     "end_time": "2024-04-19T13:52:23.763358",
     "exception": false,
     "start_time": "2024-04-19T13:52:23.567539",
     "status": "completed"
    },
    "tags": []
   },
   "outputs": [],
   "source": [
    "from torch import tensor\n",
    "\n",
    "t_dep = tensor(df.Survived)"
   ]
  },
  {
   "cell_type": "markdown",
   "id": "2021471a",
   "metadata": {
    "hidden": true,
    "papermill": {
     "duration": 0.181408,
     "end_time": "2024-04-19T13:52:24.127338",
     "exception": false,
     "start_time": "2024-04-19T13:52:23.945930",
     "status": "completed"
    },
    "tags": []
   },
   "source": [
    "Our independent variables are all the continuous variables of interest plus all the dummy variables we just created:"
   ]
  },
  {
   "cell_type": "code",
   "execution_count": 17,
   "id": "371b0a99",
   "metadata": {
    "execution": {
     "iopub.execute_input": "2024-04-19T13:52:24.464368Z",
     "iopub.status.busy": "2024-04-19T13:52:24.463751Z",
     "iopub.status.idle": "2024-04-19T13:52:24.556771Z",
     "shell.execute_reply": "2024-04-19T13:52:24.555658Z"
    },
    "hidden": true,
    "papermill": {
     "duration": 0.265059,
     "end_time": "2024-04-19T13:52:24.559830",
     "exception": false,
     "start_time": "2024-04-19T13:52:24.294771",
     "status": "completed"
    },
    "tags": []
   },
   "outputs": [
    {
     "data": {
      "text/plain": [
       "tensor([[22.0000,  1.0000,  0.0000,  2.1102,  1.0000,  0.0000,  0.0000,  0.0000,  1.0000,  0.0000,  0.0000,  1.0000],\n",
       "        [38.0000,  1.0000,  0.0000,  4.2806,  0.0000,  1.0000,  1.0000,  0.0000,  0.0000,  1.0000,  0.0000,  0.0000],\n",
       "        [26.0000,  0.0000,  0.0000,  2.1889,  0.0000,  1.0000,  0.0000,  0.0000,  1.0000,  0.0000,  0.0000,  1.0000],\n",
       "        [35.0000,  1.0000,  0.0000,  3.9908,  0.0000,  1.0000,  1.0000,  0.0000,  0.0000,  0.0000,  0.0000,  1.0000],\n",
       "        [35.0000,  0.0000,  0.0000,  2.2028,  1.0000,  0.0000,  0.0000,  0.0000,  1.0000,  0.0000,  0.0000,  1.0000],\n",
       "        [24.0000,  0.0000,  0.0000,  2.2469,  1.0000,  0.0000,  0.0000,  0.0000,  1.0000,  0.0000,  1.0000,  0.0000],\n",
       "        [54.0000,  0.0000,  0.0000,  3.9677,  1.0000,  0.0000,  1.0000,  0.0000,  0.0000,  0.0000,  0.0000,  1.0000],\n",
       "        ...,\n",
       "        [25.0000,  0.0000,  0.0000,  2.0857,  1.0000,  0.0000,  0.0000,  0.0000,  1.0000,  0.0000,  0.0000,  1.0000],\n",
       "        [39.0000,  0.0000,  5.0000,  3.4054,  0.0000,  1.0000,  0.0000,  0.0000,  1.0000,  0.0000,  1.0000,  0.0000],\n",
       "        [27.0000,  0.0000,  0.0000,  2.6391,  1.0000,  0.0000,  0.0000,  1.0000,  0.0000,  0.0000,  0.0000,  1.0000],\n",
       "        [19.0000,  0.0000,  0.0000,  3.4340,  0.0000,  1.0000,  1.0000,  0.0000,  0.0000,  0.0000,  0.0000,  1.0000],\n",
       "        [24.0000,  1.0000,  2.0000,  3.1966,  0.0000,  1.0000,  0.0000,  0.0000,  1.0000,  0.0000,  0.0000,  1.0000],\n",
       "        [26.0000,  0.0000,  0.0000,  3.4340,  1.0000,  0.0000,  1.0000,  0.0000,  0.0000,  1.0000,  0.0000,  0.0000],\n",
       "        [32.0000,  0.0000,  0.0000,  2.1691,  1.0000,  0.0000,  0.0000,  0.0000,  1.0000,  0.0000,  1.0000,  0.0000]])"
      ]
     },
     "execution_count": 17,
     "metadata": {},
     "output_type": "execute_result"
    }
   ],
   "source": [
    "indep_cols = ['Age', 'SibSp', 'Parch', 'LogFare'] + added_cols\n",
    "\n",
    "t_indep = tensor(df[indep_cols].values, dtype=torch.float)\n",
    "t_indep"
   ]
  },
  {
   "cell_type": "markdown",
   "id": "6b6c9ab7",
   "metadata": {
    "hidden": true,
    "papermill": {
     "duration": 0.16629,
     "end_time": "2024-04-19T13:52:24.893102",
     "exception": false,
     "start_time": "2024-04-19T13:52:24.726812",
     "status": "completed"
    },
    "tags": []
   },
   "source": [
    "Here's the number of rows and columns we have for our independent variables:"
   ]
  },
  {
   "cell_type": "code",
   "execution_count": 18,
   "id": "ef5a164f",
   "metadata": {
    "execution": {
     "iopub.execute_input": "2024-04-19T13:52:25.245478Z",
     "iopub.status.busy": "2024-04-19T13:52:25.245078Z",
     "iopub.status.idle": "2024-04-19T13:52:25.252321Z",
     "shell.execute_reply": "2024-04-19T13:52:25.251267Z"
    },
    "hidden": true,
    "papermill": {
     "duration": 0.192438,
     "end_time": "2024-04-19T13:52:25.254742",
     "exception": false,
     "start_time": "2024-04-19T13:52:25.062304",
     "status": "completed"
    },
    "tags": []
   },
   "outputs": [
    {
     "data": {
      "text/plain": [
       "torch.Size([891, 12])"
      ]
     },
     "execution_count": 18,
     "metadata": {},
     "output_type": "execute_result"
    }
   ],
   "source": [
    "t_indep.shape"
   ]
  },
  {
   "cell_type": "markdown",
   "id": "7aa549a0",
   "metadata": {
    "papermill": {
     "duration": 0.171014,
     "end_time": "2024-04-19T13:52:25.593770",
     "exception": false,
     "start_time": "2024-04-19T13:52:25.422756",
     "status": "completed"
    },
    "tags": []
   },
   "source": [
    "## Setting up a linear model"
   ]
  },
  {
   "cell_type": "markdown",
   "id": "4d4aeaf0",
   "metadata": {
    "papermill": {
     "duration": 0.168711,
     "end_time": "2024-04-19T13:52:25.929720",
     "exception": false,
     "start_time": "2024-04-19T13:52:25.761009",
     "status": "completed"
    },
    "tags": []
   },
   "source": [
    "Now that we've got a matrix of independent variables and a dependent variable vector, we can work on calculating our predictions and our loss. In this section, we're going to manually do a single step of calculating predictions and loss for every row of our data.\n",
    "\n",
    "Our first model will be a simple linear model. We'll need a coefficient for each column in `t_indep`. We'll pick random numbers in the range `(-0.5,0.5)`, and set our manual seed so that my explanations in the prose in this notebook will be consistent with what you see when you run it."
   ]
  },
  {
   "cell_type": "code",
   "execution_count": 19,
   "id": "cdba2abe",
   "metadata": {
    "execution": {
     "iopub.execute_input": "2024-04-19T13:52:26.268711Z",
     "iopub.status.busy": "2024-04-19T13:52:26.267431Z",
     "iopub.status.idle": "2024-04-19T13:52:26.287719Z",
     "shell.execute_reply": "2024-04-19T13:52:26.286926Z"
    },
    "papermill": {
     "duration": 0.191697,
     "end_time": "2024-04-19T13:52:26.290163",
     "exception": false,
     "start_time": "2024-04-19T13:52:26.098466",
     "status": "completed"
    },
    "tags": []
   },
   "outputs": [
    {
     "data": {
      "text/plain": [
       "tensor([-0.4629,  0.1386,  0.2409, -0.2262, -0.2632, -0.3147,  0.4876,  0.3136,  0.2799, -0.4392,  0.2103,  0.3625])"
      ]
     },
     "execution_count": 19,
     "metadata": {},
     "output_type": "execute_result"
    }
   ],
   "source": [
    "torch.manual_seed(442)\n",
    "\n",
    "n_coeff = t_indep.shape[1]\n",
    "coeffs = torch.rand(n_coeff)-0.5\n",
    "coeffs"
   ]
  },
  {
   "cell_type": "markdown",
   "id": "55621c1a",
   "metadata": {
    "papermill": {
     "duration": 0.170497,
     "end_time": "2024-04-19T13:52:26.629693",
     "exception": false,
     "start_time": "2024-04-19T13:52:26.459196",
     "status": "completed"
    },
    "tags": []
   },
   "source": [
    "Our predictions will be calculated by multiplying each row by the coefficients, and adding them up. One interesting point here is that we don't need a separate constant term (also known as a \"bias\" or \"intercept\" term), or a column of all `1`s to give the same effect has having a constant term. That's because our dummy variables already cover the entire dataset -- e.g. there's a column for \"male\" and a column for \"female\", and everyone in the dataset is in exactly one of these; therefore, we don't need a separate intercept term to cover rows that aren't otherwise part of a column.\n",
    "\n",
    "Here's what the multiplication looks like:"
   ]
  },
  {
   "cell_type": "code",
   "execution_count": 20,
   "id": "02a26a9b",
   "metadata": {
    "execution": {
     "iopub.execute_input": "2024-04-19T13:52:26.969530Z",
     "iopub.status.busy": "2024-04-19T13:52:26.968246Z",
     "iopub.status.idle": "2024-04-19T13:52:26.977992Z",
     "shell.execute_reply": "2024-04-19T13:52:26.976831Z"
    },
    "papermill": {
     "duration": 0.184826,
     "end_time": "2024-04-19T13:52:26.980849",
     "exception": false,
     "start_time": "2024-04-19T13:52:26.796023",
     "status": "completed"
    },
    "tags": []
   },
   "outputs": [
    {
     "data": {
      "text/plain": [
       "tensor([[-10.1838,   0.1386,   0.0000,  -0.4772,  -0.2632,  -0.0000,   0.0000,   0.0000,   0.2799,  -0.0000,   0.0000,   0.3625],\n",
       "        [-17.5902,   0.1386,   0.0000,  -0.9681,  -0.0000,  -0.3147,   0.4876,   0.0000,   0.0000,  -0.4392,   0.0000,   0.0000],\n",
       "        [-12.0354,   0.0000,   0.0000,  -0.4950,  -0.0000,  -0.3147,   0.0000,   0.0000,   0.2799,  -0.0000,   0.0000,   0.3625],\n",
       "        [-16.2015,   0.1386,   0.0000,  -0.9025,  -0.0000,  -0.3147,   0.4876,   0.0000,   0.0000,  -0.0000,   0.0000,   0.3625],\n",
       "        [-16.2015,   0.0000,   0.0000,  -0.4982,  -0.2632,  -0.0000,   0.0000,   0.0000,   0.2799,  -0.0000,   0.0000,   0.3625],\n",
       "        [-11.1096,   0.0000,   0.0000,  -0.5081,  -0.2632,  -0.0000,   0.0000,   0.0000,   0.2799,  -0.0000,   0.2103,   0.0000],\n",
       "        [-24.9966,   0.0000,   0.0000,  -0.8973,  -0.2632,  -0.0000,   0.4876,   0.0000,   0.0000,  -0.0000,   0.0000,   0.3625],\n",
       "        ...,\n",
       "        [-11.5725,   0.0000,   0.0000,  -0.4717,  -0.2632,  -0.0000,   0.0000,   0.0000,   0.2799,  -0.0000,   0.0000,   0.3625],\n",
       "        [-18.0531,   0.0000,   1.2045,  -0.7701,  -0.0000,  -0.3147,   0.0000,   0.0000,   0.2799,  -0.0000,   0.2103,   0.0000],\n",
       "        [-12.4983,   0.0000,   0.0000,  -0.5968,  -0.2632,  -0.0000,   0.0000,   0.3136,   0.0000,  -0.0000,   0.0000,   0.3625],\n",
       "        [ -8.7951,   0.0000,   0.0000,  -0.7766,  -0.0000,  -0.3147,   0.4876,   0.0000,   0.0000,  -0.0000,   0.0000,   0.3625],\n",
       "        [-11.1096,   0.1386,   0.4818,  -0.7229,  -0.0000,  -0.3147,   0.0000,   0.0000,   0.2799,  -0.0000,   0.0000,   0.3625],\n",
       "        [-12.0354,   0.0000,   0.0000,  -0.7766,  -0.2632,  -0.0000,   0.4876,   0.0000,   0.0000,  -0.4392,   0.0000,   0.0000],\n",
       "        [-14.8128,   0.0000,   0.0000,  -0.4905,  -0.2632,  -0.0000,   0.0000,   0.0000,   0.2799,  -0.0000,   0.2103,   0.0000]])"
      ]
     },
     "execution_count": 20,
     "metadata": {},
     "output_type": "execute_result"
    }
   ],
   "source": [
    "t_indep*coeffs"
   ]
  },
  {
   "cell_type": "markdown",
   "id": "39477bb1",
   "metadata": {
    "papermill": {
     "duration": 0.168786,
     "end_time": "2024-04-19T13:52:27.321647",
     "exception": false,
     "start_time": "2024-04-19T13:52:27.152861",
     "status": "completed"
    },
    "tags": []
   },
   "source": [
    "We can see we've got a problem here. The sums of each row will be dominated by the first column, which is `Age`, since that's bigger on average than all the others.\n",
    "\n",
    "Let's make all the columns contain numbers from `0` to `1`, by dividing each column by its `max()`:"
   ]
  },
  {
   "cell_type": "code",
   "execution_count": 21,
   "id": "7291dcad",
   "metadata": {
    "execution": {
     "iopub.execute_input": "2024-04-19T13:52:27.660649Z",
     "iopub.status.busy": "2024-04-19T13:52:27.659989Z",
     "iopub.status.idle": "2024-04-19T13:52:27.668163Z",
     "shell.execute_reply": "2024-04-19T13:52:27.667283Z"
    },
    "papermill": {
     "duration": 0.18009,
     "end_time": "2024-04-19T13:52:27.670948",
     "exception": false,
     "start_time": "2024-04-19T13:52:27.490858",
     "status": "completed"
    },
    "tags": []
   },
   "outputs": [],
   "source": [
    "vals,indices = t_indep.max(dim=0)\n",
    "t_indep = t_indep / vals"
   ]
  },
  {
   "cell_type": "markdown",
   "id": "b12766a0",
   "metadata": {
    "papermill": {
     "duration": 0.170107,
     "end_time": "2024-04-19T13:52:28.008947",
     "exception": false,
     "start_time": "2024-04-19T13:52:27.838840",
     "status": "completed"
    },
    "tags": []
   },
   "source": [
    "As we see, that removes the problem of one column dominating all the others:"
   ]
  },
  {
   "cell_type": "code",
   "execution_count": 22,
   "id": "15aae317",
   "metadata": {
    "execution": {
     "iopub.execute_input": "2024-04-19T13:52:28.348162Z",
     "iopub.status.busy": "2024-04-19T13:52:28.347783Z",
     "iopub.status.idle": "2024-04-19T13:52:28.356660Z",
     "shell.execute_reply": "2024-04-19T13:52:28.355698Z"
    },
    "papermill": {
     "duration": 0.181295,
     "end_time": "2024-04-19T13:52:28.359320",
     "exception": false,
     "start_time": "2024-04-19T13:52:28.178025",
     "status": "completed"
    },
    "tags": []
   },
   "outputs": [
    {
     "data": {
      "text/plain": [
       "tensor([[-0.1273,  0.0173,  0.0000, -0.0765, -0.2632, -0.0000,  0.0000,  0.0000,  0.2799, -0.0000,  0.0000,  0.3625],\n",
       "        [-0.2199,  0.0173,  0.0000, -0.1551, -0.0000, -0.3147,  0.4876,  0.0000,  0.0000, -0.4392,  0.0000,  0.0000],\n",
       "        [-0.1504,  0.0000,  0.0000, -0.0793, -0.0000, -0.3147,  0.0000,  0.0000,  0.2799, -0.0000,  0.0000,  0.3625],\n",
       "        [-0.2025,  0.0173,  0.0000, -0.1446, -0.0000, -0.3147,  0.4876,  0.0000,  0.0000, -0.0000,  0.0000,  0.3625],\n",
       "        [-0.2025,  0.0000,  0.0000, -0.0798, -0.2632, -0.0000,  0.0000,  0.0000,  0.2799, -0.0000,  0.0000,  0.3625],\n",
       "        [-0.1389,  0.0000,  0.0000, -0.0814, -0.2632, -0.0000,  0.0000,  0.0000,  0.2799, -0.0000,  0.2103,  0.0000],\n",
       "        [-0.3125,  0.0000,  0.0000, -0.1438, -0.2632, -0.0000,  0.4876,  0.0000,  0.0000, -0.0000,  0.0000,  0.3625],\n",
       "        ...,\n",
       "        [-0.1447,  0.0000,  0.0000, -0.0756, -0.2632, -0.0000,  0.0000,  0.0000,  0.2799, -0.0000,  0.0000,  0.3625],\n",
       "        [-0.2257,  0.0000,  0.2008, -0.1234, -0.0000, -0.3147,  0.0000,  0.0000,  0.2799, -0.0000,  0.2103,  0.0000],\n",
       "        [-0.1562,  0.0000,  0.0000, -0.0956, -0.2632, -0.0000,  0.0000,  0.3136,  0.0000, -0.0000,  0.0000,  0.3625],\n",
       "        [-0.1099,  0.0000,  0.0000, -0.1244, -0.0000, -0.3147,  0.4876,  0.0000,  0.0000, -0.0000,  0.0000,  0.3625],\n",
       "        [-0.1389,  0.0173,  0.0803, -0.1158, -0.0000, -0.3147,  0.0000,  0.0000,  0.2799, -0.0000,  0.0000,  0.3625],\n",
       "        [-0.1504,  0.0000,  0.0000, -0.1244, -0.2632, -0.0000,  0.4876,  0.0000,  0.0000, -0.4392,  0.0000,  0.0000],\n",
       "        [-0.1852,  0.0000,  0.0000, -0.0786, -0.2632, -0.0000,  0.0000,  0.0000,  0.2799, -0.0000,  0.2103,  0.0000]])"
      ]
     },
     "execution_count": 22,
     "metadata": {},
     "output_type": "execute_result"
    }
   ],
   "source": [
    "t_indep*coeffs"
   ]
  },
  {
   "cell_type": "markdown",
   "id": "c80f52ba",
   "metadata": {
    "papermill": {
     "duration": 0.168654,
     "end_time": "2024-04-19T13:52:28.701852",
     "exception": false,
     "start_time": "2024-04-19T13:52:28.533198",
     "status": "completed"
    },
    "tags": []
   },
   "source": [
    "One thing you hopefully noticed is how amazingly cool this line of code is:\n",
    "\n",
    "    t_indep = t_indep / vals\n",
    "\n",
    "That is dividing a matrix by a vector -- what on earth does that mean?!? The trick here is that we're taking advantage of a technique in numpy and PyTorch (and many other languages, going all the way back to APL) called [broadcasting](https://numpy.org/doc/stable/user/basics.broadcasting.html). In short, this acts as if there's a separate copy of the vector for every row of the matrix, so it divides each row of the matrix by the vector. In practice, it doesn't actually make any copies, and does the whole thing in a highly optimized way, taking full advantage of modern CPUs (or, indeed, GPUs, if we're using them). Broadcasting is one of the most important techniques for making your code concise, maintainable, and fast, so it's well worth studying and practicing.\n",
    "\n",
    "We can now create predictions from our linear model, by adding up the rows of the product:"
   ]
  },
  {
   "cell_type": "code",
   "execution_count": 23,
   "id": "b56f7394",
   "metadata": {
    "execution": {
     "iopub.execute_input": "2024-04-19T13:52:29.045031Z",
     "iopub.status.busy": "2024-04-19T13:52:29.044672Z",
     "iopub.status.idle": "2024-04-19T13:52:29.054119Z",
     "shell.execute_reply": "2024-04-19T13:52:29.053216Z"
    },
    "papermill": {
     "duration": 0.186537,
     "end_time": "2024-04-19T13:52:29.056670",
     "exception": false,
     "start_time": "2024-04-19T13:52:28.870133",
     "status": "completed"
    },
    "tags": []
   },
   "outputs": [],
   "source": [
    "preds = (t_indep*coeffs).sum(axis=1)"
   ]
  },
  {
   "cell_type": "markdown",
   "id": "6f669265",
   "metadata": {
    "papermill": {
     "duration": 0.16894,
     "end_time": "2024-04-19T13:52:29.399520",
     "exception": false,
     "start_time": "2024-04-19T13:52:29.230580",
     "status": "completed"
    },
    "tags": []
   },
   "source": [
    "Let's take a look at the first few:"
   ]
  },
  {
   "cell_type": "code",
   "execution_count": 24,
   "id": "37bc8702",
   "metadata": {
    "execution": {
     "iopub.execute_input": "2024-04-19T13:52:29.741636Z",
     "iopub.status.busy": "2024-04-19T13:52:29.741041Z",
     "iopub.status.idle": "2024-04-19T13:52:29.749832Z",
     "shell.execute_reply": "2024-04-19T13:52:29.749029Z"
    },
    "papermill": {
     "duration": 0.182185,
     "end_time": "2024-04-19T13:52:29.752288",
     "exception": false,
     "start_time": "2024-04-19T13:52:29.570103",
     "status": "completed"
    },
    "tags": []
   },
   "outputs": [
    {
     "data": {
      "text/plain": [
       "tensor([ 0.1927, -0.6239,  0.0979,  0.2056,  0.0968,  0.0066,  0.1306,  0.3476,  0.1613, -0.6285])"
      ]
     },
     "execution_count": 24,
     "metadata": {},
     "output_type": "execute_result"
    }
   ],
   "source": [
    "preds[:10]"
   ]
  },
  {
   "cell_type": "markdown",
   "id": "1296314a",
   "metadata": {
    "papermill": {
     "duration": 0.176937,
     "end_time": "2024-04-19T13:52:30.097516",
     "exception": false,
     "start_time": "2024-04-19T13:52:29.920579",
     "status": "completed"
    },
    "tags": []
   },
   "source": [
    "Of course, these predictions aren't going to be any use, since our coefficients are random -- they're just a starting point for our gradient descent process.\n",
    "\n",
    "To do gradient descent, we need a loss function. Taking the average error of the rows (i.e. the absolute value of the difference between the prediction and the dependent) is generally a reasonable approach:"
   ]
  },
  {
   "cell_type": "code",
   "execution_count": 25,
   "id": "d8a006dd",
   "metadata": {
    "execution": {
     "iopub.execute_input": "2024-04-19T13:52:30.436371Z",
     "iopub.status.busy": "2024-04-19T13:52:30.435524Z",
     "iopub.status.idle": "2024-04-19T13:52:30.447100Z",
     "shell.execute_reply": "2024-04-19T13:52:30.446264Z"
    },
    "papermill": {
     "duration": 0.183544,
     "end_time": "2024-04-19T13:52:30.449415",
     "exception": false,
     "start_time": "2024-04-19T13:52:30.265871",
     "status": "completed"
    },
    "tags": []
   },
   "outputs": [
    {
     "data": {
      "text/plain": [
       "tensor(0.5382)"
      ]
     },
     "execution_count": 25,
     "metadata": {},
     "output_type": "execute_result"
    }
   ],
   "source": [
    "loss = torch.abs(preds-t_dep).mean()\n",
    "loss"
   ]
  },
  {
   "cell_type": "markdown",
   "id": "a002ac97",
   "metadata": {
    "papermill": {
     "duration": 0.169104,
     "end_time": "2024-04-19T13:52:30.792148",
     "exception": false,
     "start_time": "2024-04-19T13:52:30.623044",
     "status": "completed"
    },
    "tags": []
   },
   "source": [
    "Now that we've tested out a way of calculating predictions, and loss, let's pop them into functions to make life easier:"
   ]
  },
  {
   "cell_type": "code",
   "execution_count": 26,
   "id": "dcad87aa",
   "metadata": {
    "execution": {
     "iopub.execute_input": "2024-04-19T13:52:31.139660Z",
     "iopub.status.busy": "2024-04-19T13:52:31.139259Z",
     "iopub.status.idle": "2024-04-19T13:52:31.146213Z",
     "shell.execute_reply": "2024-04-19T13:52:31.144844Z"
    },
    "papermill": {
     "duration": 0.184652,
     "end_time": "2024-04-19T13:52:31.149214",
     "exception": false,
     "start_time": "2024-04-19T13:52:30.964562",
     "status": "completed"
    },
    "tags": []
   },
   "outputs": [],
   "source": [
    "def calc_preds(coeffs, indeps): return (indeps*coeffs).sum(axis=1)\n",
    "def calc_loss(coeffs, indeps, deps): return torch.abs(calc_preds(coeffs, indeps)-deps).mean()"
   ]
  },
  {
   "cell_type": "markdown",
   "id": "df593380",
   "metadata": {
    "papermill": {
     "duration": 0.170065,
     "end_time": "2024-04-19T13:52:31.491752",
     "exception": false,
     "start_time": "2024-04-19T13:52:31.321687",
     "status": "completed"
    },
    "tags": []
   },
   "source": [
    "## Doing a gradient descent step"
   ]
  },
  {
   "cell_type": "markdown",
   "id": "34dc0ff5",
   "metadata": {
    "papermill": {
     "duration": 0.175916,
     "end_time": "2024-04-19T13:52:31.841061",
     "exception": false,
     "start_time": "2024-04-19T13:52:31.665145",
     "status": "completed"
    },
    "tags": []
   },
   "source": [
    "In this section, we're going to do a single \"epoch\" of gradient descent manually. The only thing we're going to automate is calculating gradients, because let's face it that's pretty tedious and entirely pointless to do by hand! To get PyTorch to calculate gradients, we'll need to call `requires_grad_()` on our `coeffs` (if you're not sure why, review the previous notebook, [How does a neural net really work?](https://www.kaggle.com/code/jhoward/how-does-a-neural-net-really-work), before continuing):"
   ]
  },
  {
   "cell_type": "code",
   "execution_count": 27,
   "id": "ec84f6e8",
   "metadata": {
    "execution": {
     "iopub.execute_input": "2024-04-19T13:52:32.192513Z",
     "iopub.status.busy": "2024-04-19T13:52:32.192167Z",
     "iopub.status.idle": "2024-04-19T13:52:32.199292Z",
     "shell.execute_reply": "2024-04-19T13:52:32.198565Z"
    },
    "papermill": {
     "duration": 0.184306,
     "end_time": "2024-04-19T13:52:32.201432",
     "exception": false,
     "start_time": "2024-04-19T13:52:32.017126",
     "status": "completed"
    },
    "tags": []
   },
   "outputs": [
    {
     "data": {
      "text/plain": [
       "tensor([-0.4629,  0.1386,  0.2409, -0.2262, -0.2632, -0.3147,  0.4876,  0.3136,  0.2799, -0.4392,  0.2103,  0.3625], requires_grad=True)"
      ]
     },
     "execution_count": 27,
     "metadata": {},
     "output_type": "execute_result"
    }
   ],
   "source": [
    "coeffs.requires_grad_()"
   ]
  },
  {
   "cell_type": "markdown",
   "id": "0e4893b3",
   "metadata": {
    "papermill": {
     "duration": 0.16909,
     "end_time": "2024-04-19T13:52:32.541942",
     "exception": false,
     "start_time": "2024-04-19T13:52:32.372852",
     "status": "completed"
    },
    "tags": []
   },
   "source": [
    "Now when we calculate our loss, PyTorch will keep track of all the steps, so we'll be able to get the gradients afterwards:"
   ]
  },
  {
   "cell_type": "code",
   "execution_count": 28,
   "id": "ae4b6655",
   "metadata": {
    "execution": {
     "iopub.execute_input": "2024-04-19T13:52:32.885675Z",
     "iopub.status.busy": "2024-04-19T13:52:32.885098Z",
     "iopub.status.idle": "2024-04-19T13:52:32.893920Z",
     "shell.execute_reply": "2024-04-19T13:52:32.893108Z"
    },
    "papermill": {
     "duration": 0.183735,
     "end_time": "2024-04-19T13:52:32.896421",
     "exception": false,
     "start_time": "2024-04-19T13:52:32.712686",
     "status": "completed"
    },
    "tags": []
   },
   "outputs": [
    {
     "data": {
      "text/plain": [
       "tensor(0.5382, grad_fn=<MeanBackward0>)"
      ]
     },
     "execution_count": 28,
     "metadata": {},
     "output_type": "execute_result"
    }
   ],
   "source": [
    "loss = calc_loss(coeffs, t_indep, t_dep)\n",
    "loss"
   ]
  },
  {
   "cell_type": "markdown",
   "id": "f28fc190",
   "metadata": {
    "papermill": {
     "duration": 0.171779,
     "end_time": "2024-04-19T13:52:33.242357",
     "exception": false,
     "start_time": "2024-04-19T13:52:33.070578",
     "status": "completed"
    },
    "tags": []
   },
   "source": [
    "Use `backward()` to ask PyTorch to calculate gradients now:"
   ]
  },
  {
   "cell_type": "code",
   "execution_count": 29,
   "id": "c1dfe8c5",
   "metadata": {
    "execution": {
     "iopub.execute_input": "2024-04-19T13:52:33.584983Z",
     "iopub.status.busy": "2024-04-19T13:52:33.584393Z",
     "iopub.status.idle": "2024-04-19T13:52:33.597981Z",
     "shell.execute_reply": "2024-04-19T13:52:33.596892Z"
    },
    "papermill": {
     "duration": 0.189156,
     "end_time": "2024-04-19T13:52:33.600929",
     "exception": false,
     "start_time": "2024-04-19T13:52:33.411773",
     "status": "completed"
    },
    "tags": []
   },
   "outputs": [],
   "source": [
    "loss.backward()"
   ]
  },
  {
   "cell_type": "markdown",
   "id": "c83489f8",
   "metadata": {
    "papermill": {
     "duration": 0.189195,
     "end_time": "2024-04-19T13:52:33.961380",
     "exception": false,
     "start_time": "2024-04-19T13:52:33.772185",
     "status": "completed"
    },
    "tags": []
   },
   "source": [
    "Let's see what they look like:"
   ]
  },
  {
   "cell_type": "code",
   "execution_count": 30,
   "id": "d0a14bc9",
   "metadata": {
    "execution": {
     "iopub.execute_input": "2024-04-19T13:52:34.309521Z",
     "iopub.status.busy": "2024-04-19T13:52:34.308848Z",
     "iopub.status.idle": "2024-04-19T13:52:34.315315Z",
     "shell.execute_reply": "2024-04-19T13:52:34.314664Z"
    },
    "papermill": {
     "duration": 0.180192,
     "end_time": "2024-04-19T13:52:34.317455",
     "exception": false,
     "start_time": "2024-04-19T13:52:34.137263",
     "status": "completed"
    },
    "tags": []
   },
   "outputs": [
    {
     "data": {
      "text/plain": [
       "tensor([-0.0106,  0.0129, -0.0041, -0.0484,  0.2099, -0.2132, -0.1212, -0.0247,  0.1425, -0.1886, -0.0191,  0.2043])"
      ]
     },
     "execution_count": 30,
     "metadata": {},
     "output_type": "execute_result"
    }
   ],
   "source": [
    "coeffs.grad"
   ]
  },
  {
   "cell_type": "markdown",
   "id": "7c9332f2",
   "metadata": {
    "papermill": {
     "duration": 0.17055,
     "end_time": "2024-04-19T13:52:34.660497",
     "exception": false,
     "start_time": "2024-04-19T13:52:34.489947",
     "status": "completed"
    },
    "tags": []
   },
   "source": [
    "Note that each time we call `backward`, the gradients are actually *added* to whatever is in the `.grad` attribute. Let's try running the above steps again:"
   ]
  },
  {
   "cell_type": "code",
   "execution_count": 31,
   "id": "a22f0541",
   "metadata": {
    "execution": {
     "iopub.execute_input": "2024-04-19T13:52:35.005555Z",
     "iopub.status.busy": "2024-04-19T13:52:35.004423Z",
     "iopub.status.idle": "2024-04-19T13:52:35.015101Z",
     "shell.execute_reply": "2024-04-19T13:52:35.014373Z"
    },
    "papermill": {
     "duration": 0.187306,
     "end_time": "2024-04-19T13:52:35.017431",
     "exception": false,
     "start_time": "2024-04-19T13:52:34.830125",
     "status": "completed"
    },
    "tags": []
   },
   "outputs": [
    {
     "data": {
      "text/plain": [
       "tensor([-0.0212,  0.0258, -0.0082, -0.0969,  0.4198, -0.4265, -0.2424, -0.0494,  0.2851, -0.3771, -0.0382,  0.4085])"
      ]
     },
     "execution_count": 31,
     "metadata": {},
     "output_type": "execute_result"
    }
   ],
   "source": [
    "loss = calc_loss(coeffs, t_indep, t_dep)\n",
    "loss.backward()\n",
    "coeffs.grad"
   ]
  },
  {
   "cell_type": "markdown",
   "id": "bbfc4924",
   "metadata": {
    "papermill": {
     "duration": 0.172186,
     "end_time": "2024-04-19T13:52:35.366809",
     "exception": false,
     "start_time": "2024-04-19T13:52:35.194623",
     "status": "completed"
    },
    "tags": []
   },
   "source": [
    "As you see, our `.grad` values are have doubled. That's because it added the gradients a second time. For this reason, after we use the gradients to do a gradient descent step, we need to set them back to zero.\n",
    "\n",
    "We can now do one gradient descent step, and check that our loss decreases:"
   ]
  },
  {
   "cell_type": "code",
   "execution_count": 32,
   "id": "b9e1dbf2",
   "metadata": {
    "execution": {
     "iopub.execute_input": "2024-04-19T13:52:35.716563Z",
     "iopub.status.busy": "2024-04-19T13:52:35.715882Z",
     "iopub.status.idle": "2024-04-19T13:52:35.725212Z",
     "shell.execute_reply": "2024-04-19T13:52:35.723946Z"
    },
    "papermill": {
     "duration": 0.187698,
     "end_time": "2024-04-19T13:52:35.728782",
     "exception": false,
     "start_time": "2024-04-19T13:52:35.541084",
     "status": "completed"
    },
    "tags": []
   },
   "outputs": [
    {
     "name": "stdout",
     "output_type": "stream",
     "text": [
      "tensor(0.4945)\n"
     ]
    }
   ],
   "source": [
    "loss = calc_loss(coeffs, t_indep, t_dep)\n",
    "loss.backward()\n",
    "with torch.no_grad():\n",
    "    coeffs.sub_(coeffs.grad * 0.1)\n",
    "    coeffs.grad.zero_()\n",
    "    print(calc_loss(coeffs, t_indep, t_dep))"
   ]
  },
  {
   "cell_type": "markdown",
   "id": "b72f6324",
   "metadata": {
    "papermill": {
     "duration": 0.177915,
     "end_time": "2024-04-19T13:52:36.077392",
     "exception": false,
     "start_time": "2024-04-19T13:52:35.899477",
     "status": "completed"
    },
    "tags": []
   },
   "source": [
    "Note that `a.sub_(b)` subtracts `b` from `a` in-place. In PyTorch, any method that ends in `_` changes its object in-place. Similarly, `a.zero_()` sets all elements of a tensor to zero."
   ]
  },
  {
   "cell_type": "markdown",
   "id": "d3444d0a",
   "metadata": {
    "papermill": {
     "duration": 0.170847,
     "end_time": "2024-04-19T13:52:36.423361",
     "exception": false,
     "start_time": "2024-04-19T13:52:36.252514",
     "status": "completed"
    },
    "tags": []
   },
   "source": [
    "## Training the linear model"
   ]
  },
  {
   "cell_type": "markdown",
   "id": "859dc36f",
   "metadata": {
    "papermill": {
     "duration": 0.170631,
     "end_time": "2024-04-19T13:52:36.769890",
     "exception": false,
     "start_time": "2024-04-19T13:52:36.599259",
     "status": "completed"
    },
    "tags": []
   },
   "source": [
    "Before we begin training our model, we'll need to ensure that we hold out a validation set for calculating our metrics (for details on this, see \"[Getting started with NLP for absolute beginners](https://www.kaggle.com/code/jhoward/getting-started-with-nlp-for-absolute-beginners#Test-and-validation-sets)\".\n",
    "\n",
    "There's lots of different ways we can do this. In the next notebook we'll be comparing our approach here to what the fastai library does, so we'll want to ensure we split the data in the same way. So let's use `RandomSplitter` to get indices that will split our data into training and validation sets:"
   ]
  },
  {
   "cell_type": "code",
   "execution_count": 33,
   "id": "3c80d705",
   "metadata": {
    "execution": {
     "iopub.execute_input": "2024-04-19T13:52:37.117213Z",
     "iopub.status.busy": "2024-04-19T13:52:37.116821Z",
     "iopub.status.idle": "2024-04-19T13:52:38.519221Z",
     "shell.execute_reply": "2024-04-19T13:52:38.518074Z"
    },
    "papermill": {
     "duration": 1.581559,
     "end_time": "2024-04-19T13:52:38.522313",
     "exception": false,
     "start_time": "2024-04-19T13:52:36.940754",
     "status": "completed"
    },
    "tags": []
   },
   "outputs": [],
   "source": [
    "from fastai.data.transforms import RandomSplitter\n",
    "trn_split,val_split=RandomSplitter(seed=42)(df)"
   ]
  },
  {
   "cell_type": "markdown",
   "id": "265fb1f2",
   "metadata": {
    "papermill": {
     "duration": 0.171999,
     "end_time": "2024-04-19T13:52:38.867271",
     "exception": false,
     "start_time": "2024-04-19T13:52:38.695272",
     "status": "completed"
    },
    "tags": []
   },
   "source": [
    "Now we can apply those indicies to our independent and dependent variables:"
   ]
  },
  {
   "cell_type": "code",
   "execution_count": 34,
   "id": "979a6629",
   "metadata": {
    "execution": {
     "iopub.execute_input": "2024-04-19T13:52:39.221047Z",
     "iopub.status.busy": "2024-04-19T13:52:39.220271Z",
     "iopub.status.idle": "2024-04-19T13:52:39.233230Z",
     "shell.execute_reply": "2024-04-19T13:52:39.232201Z"
    },
    "papermill": {
     "duration": 0.194272,
     "end_time": "2024-04-19T13:52:39.237028",
     "exception": false,
     "start_time": "2024-04-19T13:52:39.042756",
     "status": "completed"
    },
    "tags": []
   },
   "outputs": [
    {
     "data": {
      "text/plain": [
       "(713, 178)"
      ]
     },
     "execution_count": 34,
     "metadata": {},
     "output_type": "execute_result"
    }
   ],
   "source": [
    "trn_indep,val_indep = t_indep[trn_split],t_indep[val_split]\n",
    "trn_dep,val_dep = t_dep[trn_split],t_dep[val_split]\n",
    "len(trn_indep),len(val_indep)"
   ]
  },
  {
   "cell_type": "markdown",
   "id": "bf76e4cc",
   "metadata": {
    "papermill": {
     "duration": 0.17324,
     "end_time": "2024-04-19T13:52:39.584978",
     "exception": false,
     "start_time": "2024-04-19T13:52:39.411738",
     "status": "completed"
    },
    "tags": []
   },
   "source": [
    "We'll create functions for the three things we did manually above: updating `coeffs`, doing one full gradient descent step, and initilising `coeffs` to random numbers:"
   ]
  },
  {
   "cell_type": "code",
   "execution_count": 35,
   "id": "423b5b57",
   "metadata": {
    "execution": {
     "iopub.execute_input": "2024-04-19T13:52:39.931392Z",
     "iopub.status.busy": "2024-04-19T13:52:39.930701Z",
     "iopub.status.idle": "2024-04-19T13:52:39.936198Z",
     "shell.execute_reply": "2024-04-19T13:52:39.935481Z"
    },
    "papermill": {
     "duration": 0.181354,
     "end_time": "2024-04-19T13:52:39.938664",
     "exception": false,
     "start_time": "2024-04-19T13:52:39.757310",
     "status": "completed"
    },
    "tags": []
   },
   "outputs": [],
   "source": [
    "def update_coeffs(coeffs, lr):\n",
    "    coeffs.sub_(coeffs.grad * lr)\n",
    "    coeffs.grad.zero_()"
   ]
  },
  {
   "cell_type": "code",
   "execution_count": 36,
   "id": "ef5a7168",
   "metadata": {
    "execution": {
     "iopub.execute_input": "2024-04-19T13:52:40.291870Z",
     "iopub.status.busy": "2024-04-19T13:52:40.291105Z",
     "iopub.status.idle": "2024-04-19T13:52:40.297522Z",
     "shell.execute_reply": "2024-04-19T13:52:40.296751Z"
    },
    "papermill": {
     "duration": 0.186709,
     "end_time": "2024-04-19T13:52:40.300115",
     "exception": false,
     "start_time": "2024-04-19T13:52:40.113406",
     "status": "completed"
    },
    "tags": []
   },
   "outputs": [],
   "source": [
    "def one_epoch(coeffs, lr):\n",
    "    loss = calc_loss(coeffs, trn_indep, trn_dep)\n",
    "    loss.backward()\n",
    "    with torch.no_grad(): update_coeffs(coeffs, lr)\n",
    "    print(f\"{loss:.3f}\", end=\"; \")"
   ]
  },
  {
   "cell_type": "code",
   "execution_count": 37,
   "id": "5880c3a6",
   "metadata": {
    "execution": {
     "iopub.execute_input": "2024-04-19T13:52:40.658937Z",
     "iopub.status.busy": "2024-04-19T13:52:40.658265Z",
     "iopub.status.idle": "2024-04-19T13:52:40.663832Z",
     "shell.execute_reply": "2024-04-19T13:52:40.663017Z"
    },
    "papermill": {
     "duration": 0.187872,
     "end_time": "2024-04-19T13:52:40.666573",
     "exception": false,
     "start_time": "2024-04-19T13:52:40.478701",
     "status": "completed"
    },
    "tags": []
   },
   "outputs": [],
   "source": [
    "def init_coeffs(): return (torch.rand(n_coeff)-0.5).requires_grad_()"
   ]
  },
  {
   "cell_type": "markdown",
   "id": "c3c010a9",
   "metadata": {
    "papermill": {
     "duration": 0.178417,
     "end_time": "2024-04-19T13:52:41.017232",
     "exception": false,
     "start_time": "2024-04-19T13:52:40.838815",
     "status": "completed"
    },
    "tags": []
   },
   "source": [
    "We can now use these functions to train our model:"
   ]
  },
  {
   "cell_type": "code",
   "execution_count": 38,
   "id": "fa58d849",
   "metadata": {
    "execution": {
     "iopub.execute_input": "2024-04-19T13:52:41.376968Z",
     "iopub.status.busy": "2024-04-19T13:52:41.376570Z",
     "iopub.status.idle": "2024-04-19T13:52:41.382745Z",
     "shell.execute_reply": "2024-04-19T13:52:41.381691Z"
    },
    "papermill": {
     "duration": 0.187374,
     "end_time": "2024-04-19T13:52:41.385271",
     "exception": false,
     "start_time": "2024-04-19T13:52:41.197897",
     "status": "completed"
    },
    "tags": []
   },
   "outputs": [],
   "source": [
    "def train_model(epochs=30, lr=0.01):\n",
    "    torch.manual_seed(442)\n",
    "    coeffs = init_coeffs()\n",
    "    for i in range(epochs): one_epoch(coeffs, lr=lr)\n",
    "    return coeffs"
   ]
  },
  {
   "cell_type": "markdown",
   "id": "1a9750db",
   "metadata": {
    "papermill": {
     "duration": 0.170761,
     "end_time": "2024-04-19T13:52:41.727863",
     "exception": false,
     "start_time": "2024-04-19T13:52:41.557102",
     "status": "completed"
    },
    "tags": []
   },
   "source": [
    "Let's try it. Our loss will print at the end of every step, so we hope we'll see it going down:"
   ]
  },
  {
   "cell_type": "code",
   "execution_count": 39,
   "id": "bfae7747",
   "metadata": {
    "execution": {
     "iopub.execute_input": "2024-04-19T13:52:42.079673Z",
     "iopub.status.busy": "2024-04-19T13:52:42.078984Z",
     "iopub.status.idle": "2024-04-19T13:52:42.095575Z",
     "shell.execute_reply": "2024-04-19T13:52:42.094819Z"
    },
    "papermill": {
     "duration": 0.199921,
     "end_time": "2024-04-19T13:52:42.098223",
     "exception": false,
     "start_time": "2024-04-19T13:52:41.898302",
     "status": "completed"
    },
    "tags": []
   },
   "outputs": [
    {
     "name": "stdout",
     "output_type": "stream",
     "text": [
      "0.536; 0.502; 0.477; 0.454; 0.431; 0.409; 0.388; 0.367; 0.349; 0.336; 0.330; 0.326; 0.329; 0.304; 0.314; 0.296; 0.300; 0.289; "
     ]
    }
   ],
   "source": [
    "coeffs = train_model(18, lr=0.2)"
   ]
  },
  {
   "cell_type": "markdown",
   "id": "31f6de0a",
   "metadata": {
    "papermill": {
     "duration": 0.174277,
     "end_time": "2024-04-19T13:52:42.451433",
     "exception": false,
     "start_time": "2024-04-19T13:52:42.277156",
     "status": "completed"
    },
    "tags": []
   },
   "source": [
    "It does!\n",
    "\n",
    "Let's take a look at the coefficients for each column:"
   ]
  },
  {
   "cell_type": "code",
   "execution_count": 40,
   "id": "6d267e61",
   "metadata": {
    "execution": {
     "iopub.execute_input": "2024-04-19T13:52:42.802756Z",
     "iopub.status.busy": "2024-04-19T13:52:42.802004Z",
     "iopub.status.idle": "2024-04-19T13:52:42.813118Z",
     "shell.execute_reply": "2024-04-19T13:52:42.812325Z"
    },
    "papermill": {
     "duration": 0.18767,
     "end_time": "2024-04-19T13:52:42.815506",
     "exception": false,
     "start_time": "2024-04-19T13:52:42.627836",
     "status": "completed"
    },
    "tags": []
   },
   "outputs": [
    {
     "data": {
      "text/plain": [
       "{'Age': tensor(-0.2694),\n",
       " 'SibSp': tensor(0.0901),\n",
       " 'Parch': tensor(0.2359),\n",
       " 'LogFare': tensor(0.0280),\n",
       " 'Sex_male': tensor(-0.3990),\n",
       " 'Sex_female': tensor(0.2345),\n",
       " 'Pclass_1': tensor(0.7232),\n",
       " 'Pclass_2': tensor(0.4112),\n",
       " 'Pclass_3': tensor(0.3601),\n",
       " 'Embarked_C': tensor(0.0955),\n",
       " 'Embarked_Q': tensor(0.2395),\n",
       " 'Embarked_S': tensor(0.2122)}"
      ]
     },
     "execution_count": 40,
     "metadata": {},
     "output_type": "execute_result"
    }
   ],
   "source": [
    "def show_coeffs(): return dict(zip(indep_cols, coeffs.requires_grad_(False)))\n",
    "show_coeffs()"
   ]
  },
  {
   "cell_type": "markdown",
   "id": "0b9be764",
   "metadata": {
    "papermill": {
     "duration": 0.1769,
     "end_time": "2024-04-19T13:52:43.166668",
     "exception": false,
     "start_time": "2024-04-19T13:52:42.989768",
     "status": "completed"
    },
    "tags": []
   },
   "source": [
    "## Measuring accuracy"
   ]
  },
  {
   "cell_type": "markdown",
   "id": "55e0ca99",
   "metadata": {
    "papermill": {
     "duration": 0.173026,
     "end_time": "2024-04-19T13:52:43.515047",
     "exception": false,
     "start_time": "2024-04-19T13:52:43.342021",
     "status": "completed"
    },
    "tags": []
   },
   "source": [
    "The Kaggle competition is not, however, scored by absolute error (which is our loss function). It's scored by *accuracy* -- the proportion of rows where we correctly predict survival. Let's see how accurate we were on the validation set. First, calculate the predictions:"
   ]
  },
  {
   "cell_type": "code",
   "execution_count": 41,
   "id": "5f77d1f4",
   "metadata": {
    "execution": {
     "iopub.execute_input": "2024-04-19T13:52:43.866145Z",
     "iopub.status.busy": "2024-04-19T13:52:43.865436Z",
     "iopub.status.idle": "2024-04-19T13:52:43.870102Z",
     "shell.execute_reply": "2024-04-19T13:52:43.869157Z"
    },
    "papermill": {
     "duration": 0.183496,
     "end_time": "2024-04-19T13:52:43.872287",
     "exception": false,
     "start_time": "2024-04-19T13:52:43.688791",
     "status": "completed"
    },
    "tags": []
   },
   "outputs": [],
   "source": [
    "preds = calc_preds(coeffs, val_indep)"
   ]
  },
  {
   "cell_type": "markdown",
   "id": "ba0514cc",
   "metadata": {
    "papermill": {
     "duration": 0.177517,
     "end_time": "2024-04-19T13:52:44.247487",
     "exception": false,
     "start_time": "2024-04-19T13:52:44.069970",
     "status": "completed"
    },
    "tags": []
   },
   "source": [
    "We'll assume that any passenger with a score of over `0.5` is predicted to survive. So that means we're correct for each row where `preds>0.5` is the same as the dependent variable:"
   ]
  },
  {
   "cell_type": "code",
   "execution_count": 42,
   "id": "5687703d",
   "metadata": {
    "execution": {
     "iopub.execute_input": "2024-04-19T13:52:44.595421Z",
     "iopub.status.busy": "2024-04-19T13:52:44.595031Z",
     "iopub.status.idle": "2024-04-19T13:52:44.603414Z",
     "shell.execute_reply": "2024-04-19T13:52:44.602437Z"
    },
    "papermill": {
     "duration": 0.185398,
     "end_time": "2024-04-19T13:52:44.605693",
     "exception": false,
     "start_time": "2024-04-19T13:52:44.420295",
     "status": "completed"
    },
    "tags": []
   },
   "outputs": [
    {
     "data": {
      "text/plain": [
       "tensor([ True,  True,  True,  True,  True,  True,  True,  True,  True,  True, False, False, False,  True,  True, False])"
      ]
     },
     "execution_count": 42,
     "metadata": {},
     "output_type": "execute_result"
    }
   ],
   "source": [
    "results = val_dep.bool()==(preds>0.5)\n",
    "results[:16]"
   ]
  },
  {
   "cell_type": "markdown",
   "id": "cba1c341",
   "metadata": {
    "papermill": {
     "duration": 0.17235,
     "end_time": "2024-04-19T13:52:44.951918",
     "exception": false,
     "start_time": "2024-04-19T13:52:44.779568",
     "status": "completed"
    },
    "tags": []
   },
   "source": [
    "Let's see what our average accuracy is:"
   ]
  },
  {
   "cell_type": "code",
   "execution_count": 43,
   "id": "402705e4",
   "metadata": {
    "execution": {
     "iopub.execute_input": "2024-04-19T13:52:45.304025Z",
     "iopub.status.busy": "2024-04-19T13:52:45.303625Z",
     "iopub.status.idle": "2024-04-19T13:52:45.311641Z",
     "shell.execute_reply": "2024-04-19T13:52:45.310693Z"
    },
    "papermill": {
     "duration": 0.187244,
     "end_time": "2024-04-19T13:52:45.314155",
     "exception": false,
     "start_time": "2024-04-19T13:52:45.126911",
     "status": "completed"
    },
    "tags": []
   },
   "outputs": [
    {
     "data": {
      "text/plain": [
       "tensor(0.7865)"
      ]
     },
     "execution_count": 43,
     "metadata": {},
     "output_type": "execute_result"
    }
   ],
   "source": [
    "results.float().mean()"
   ]
  },
  {
   "cell_type": "markdown",
   "id": "16680598",
   "metadata": {
    "papermill": {
     "duration": 0.172437,
     "end_time": "2024-04-19T13:52:45.662107",
     "exception": false,
     "start_time": "2024-04-19T13:52:45.489670",
     "status": "completed"
    },
    "tags": []
   },
   "source": [
    "That's not a bad start at all! We'll create a function so we can calcuate the accuracy easy for other models we train:"
   ]
  },
  {
   "cell_type": "code",
   "execution_count": 44,
   "id": "014e71a9",
   "metadata": {
    "execution": {
     "iopub.execute_input": "2024-04-19T13:52:46.018415Z",
     "iopub.status.busy": "2024-04-19T13:52:46.017997Z",
     "iopub.status.idle": "2024-04-19T13:52:46.032250Z",
     "shell.execute_reply": "2024-04-19T13:52:46.027416Z"
    },
    "papermill": {
     "duration": 0.197879,
     "end_time": "2024-04-19T13:52:46.035323",
     "exception": false,
     "start_time": "2024-04-19T13:52:45.837444",
     "status": "completed"
    },
    "tags": []
   },
   "outputs": [
    {
     "data": {
      "text/plain": [
       "tensor(0.7865)"
      ]
     },
     "execution_count": 44,
     "metadata": {},
     "output_type": "execute_result"
    }
   ],
   "source": [
    "def acc(coeffs): return (val_dep.bool()==(calc_preds(coeffs, val_indep)>0.5)).float().mean()\n",
    "acc(coeffs)"
   ]
  },
  {
   "cell_type": "markdown",
   "id": "ac9f0134",
   "metadata": {
    "papermill": {
     "duration": 0.190144,
     "end_time": "2024-04-19T13:52:46.419633",
     "exception": false,
     "start_time": "2024-04-19T13:52:46.229489",
     "status": "completed"
    },
    "tags": []
   },
   "source": [
    "## Using sigmoid"
   ]
  },
  {
   "cell_type": "markdown",
   "id": "ec6f5b35",
   "metadata": {
    "papermill": {
     "duration": 0.177417,
     "end_time": "2024-04-19T13:52:46.784491",
     "exception": false,
     "start_time": "2024-04-19T13:52:46.607074",
     "status": "completed"
    },
    "tags": []
   },
   "source": [
    "Looking at our predictions, there's one obvious problem -- some of our predictions of the probability of survival are `>1`, and some are `<0`:"
   ]
  },
  {
   "cell_type": "code",
   "execution_count": 45,
   "id": "7b923df4",
   "metadata": {
    "execution": {
     "iopub.execute_input": "2024-04-19T13:52:47.142876Z",
     "iopub.status.busy": "2024-04-19T13:52:47.140775Z",
     "iopub.status.idle": "2024-04-19T13:52:47.150660Z",
     "shell.execute_reply": "2024-04-19T13:52:47.149688Z"
    },
    "papermill": {
     "duration": 0.193588,
     "end_time": "2024-04-19T13:52:47.153148",
     "exception": false,
     "start_time": "2024-04-19T13:52:46.959560",
     "status": "completed"
    },
    "tags": []
   },
   "outputs": [
    {
     "data": {
      "text/plain": [
       "tensor([ 0.8160,  0.1295, -0.0148,  0.1831,  0.1520,  0.1350,  0.7279,  0.7754,  0.3222,  0.6740,  0.0753,  0.0389,  0.2216,  0.7631,\n",
       "         0.0678,  0.3997,  0.3324,  0.8278,  0.1078,  0.7126,  0.1023,  0.3627,  0.9937,  0.8050,  0.1153,  0.1455,  0.8652,  0.3425])"
      ]
     },
     "execution_count": 45,
     "metadata": {},
     "output_type": "execute_result"
    }
   ],
   "source": [
    "preds[:28]"
   ]
  },
  {
   "cell_type": "markdown",
   "id": "b041b3ab",
   "metadata": {
    "papermill": {
     "duration": 0.177522,
     "end_time": "2024-04-19T13:52:47.506676",
     "exception": false,
     "start_time": "2024-04-19T13:52:47.329154",
     "status": "completed"
    },
    "tags": []
   },
   "source": [
    "To fix this, we should pass every prediction through the *sigmoid function*, which has a minimum at zero and maximum at one, and is defined as follows:"
   ]
  },
  {
   "cell_type": "code",
   "execution_count": 46,
   "id": "637bdacd",
   "metadata": {
    "execution": {
     "iopub.execute_input": "2024-04-19T13:52:47.860773Z",
     "iopub.status.busy": "2024-04-19T13:52:47.860070Z",
     "iopub.status.idle": "2024-04-19T13:52:49.201656Z",
     "shell.execute_reply": "2024-04-19T13:52:49.200351Z"
    },
    "papermill": {
     "duration": 1.521859,
     "end_time": "2024-04-19T13:52:49.204928",
     "exception": false,
     "start_time": "2024-04-19T13:52:47.683069",
     "status": "completed"
    },
    "tags": []
   },
   "outputs": [
    {
     "data": {
      "image/png": "[encoded data removed]",
      "text/plain": [
       "<Figure size 432x288 with 1 Axes>"
      ]
     },
     "metadata": {
      "needs_background": "light"
     },
     "output_type": "display_data"
    }
   ],
   "source": [
    "import sympy\n",
    "sympy.plot(\"1/(1+exp(-x))\", xlim=(-5,5));"
   ]
  },
  {
   "cell_type": "markdown",
   "id": "06ce7a43",
   "metadata": {
    "papermill": {
     "duration": 0.176946,
     "end_time": "2024-04-19T13:52:49.559412",
     "exception": false,
     "start_time": "2024-04-19T13:52:49.382466",
     "status": "completed"
    },
    "tags": []
   },
   "source": [
    "PyTorch already defines that function for us, so we can modify `calc_preds` to use it:"
   ]
  },
  {
   "cell_type": "code",
   "execution_count": 47,
   "id": "2f649d8e",
   "metadata": {
    "execution": {
     "iopub.execute_input": "2024-04-19T13:52:49.915682Z",
     "iopub.status.busy": "2024-04-19T13:52:49.915033Z",
     "iopub.status.idle": "2024-04-19T13:52:49.920671Z",
     "shell.execute_reply": "2024-04-19T13:52:49.919977Z"
    },
    "papermill": {
     "duration": 0.185008,
     "end_time": "2024-04-19T13:52:49.923051",
     "exception": false,
     "start_time": "2024-04-19T13:52:49.738043",
     "status": "completed"
    },
    "tags": []
   },
   "outputs": [],
   "source": [
    "def calc_preds(coeffs, indeps): return torch.sigmoid((indeps*coeffs).sum(axis=1))"
   ]
  },
  {
   "cell_type": "markdown",
   "id": "9ef0998e",
   "metadata": {
    "papermill": {
     "duration": 0.179205,
     "end_time": "2024-04-19T13:52:50.284714",
     "exception": false,
     "start_time": "2024-04-19T13:52:50.105509",
     "status": "completed"
    },
    "tags": []
   },
   "source": [
    "Let's train a new model now, using this updated function to calculate predictions:"
   ]
  },
  {
   "cell_type": "code",
   "execution_count": 48,
   "id": "047da291",
   "metadata": {
    "execution": {
     "iopub.execute_input": "2024-04-19T13:52:50.649698Z",
     "iopub.status.busy": "2024-04-19T13:52:50.649110Z",
     "iopub.status.idle": "2024-04-19T13:52:50.676028Z",
     "shell.execute_reply": "2024-04-19T13:52:50.674920Z"
    },
    "papermill": {
     "duration": 0.215624,
     "end_time": "2024-04-19T13:52:50.678750",
     "exception": false,
     "start_time": "2024-04-19T13:52:50.463126",
     "status": "completed"
    },
    "tags": []
   },
   "outputs": [
    {
     "name": "stdout",
     "output_type": "stream",
     "text": [
      "0.510; 0.327; 0.294; 0.207; 0.201; 0.199; 0.198; 0.197; 0.196; 0.196; 0.196; 0.195; 0.195; 0.195; 0.195; 0.195; 0.195; 0.195; 0.194; 0.194; 0.194; 0.194; 0.194; 0.194; 0.194; 0.194; 0.194; 0.194; 0.194; 0.194; "
     ]
    }
   ],
   "source": [
    "coeffs = train_model(lr=100)"
   ]
  },
  {
   "cell_type": "markdown",
   "id": "5f876706",
   "metadata": {
    "papermill": {
     "duration": 0.179843,
     "end_time": "2024-04-19T13:52:51.035995",
     "exception": false,
     "start_time": "2024-04-19T13:52:50.856152",
     "status": "completed"
    },
    "tags": []
   },
   "source": [
    "The loss has improved by a lot. Let's check the accuracy:"
   ]
  },
  {
   "cell_type": "code",
   "execution_count": 49,
   "id": "a21f1f9c",
   "metadata": {
    "execution": {
     "iopub.execute_input": "2024-04-19T13:52:51.405255Z",
     "iopub.status.busy": "2024-04-19T13:52:51.404882Z",
     "iopub.status.idle": "2024-04-19T13:52:51.413855Z",
     "shell.execute_reply": "2024-04-19T13:52:51.412816Z"
    },
    "papermill": {
     "duration": 0.197034,
     "end_time": "2024-04-19T13:52:51.416219",
     "exception": false,
     "start_time": "2024-04-19T13:52:51.219185",
     "status": "completed"
    },
    "tags": []
   },
   "outputs": [
    {
     "data": {
      "text/plain": [
       "tensor(0.8258)"
      ]
     },
     "execution_count": 49,
     "metadata": {},
     "output_type": "execute_result"
    }
   ],
   "source": [
    "acc(coeffs)"
   ]
  },
  {
   "cell_type": "markdown",
   "id": "38f4d291",
   "metadata": {
    "papermill": {
     "duration": 0.176236,
     "end_time": "2024-04-19T13:52:51.775261",
     "exception": false,
     "start_time": "2024-04-19T13:52:51.599025",
     "status": "completed"
    },
    "tags": []
   },
   "source": [
    "That's improved too! Here's the coefficients of our trained model:"
   ]
  },
  {
   "cell_type": "code",
   "execution_count": 50,
   "id": "5170d92f",
   "metadata": {
    "execution": {
     "iopub.execute_input": "2024-04-19T13:52:52.134867Z",
     "iopub.status.busy": "2024-04-19T13:52:52.134266Z",
     "iopub.status.idle": "2024-04-19T13:52:52.144983Z",
     "shell.execute_reply": "2024-04-19T13:52:52.143966Z"
    },
    "papermill": {
     "duration": 0.195995,
     "end_time": "2024-04-19T13:52:52.147506",
     "exception": false,
     "start_time": "2024-04-19T13:52:51.951511",
     "status": "completed"
    },
    "tags": []
   },
   "outputs": [
    {
     "data": {
      "text/plain": [
       "{'Age': tensor(-1.5061),\n",
       " 'SibSp': tensor(-1.1575),\n",
       " 'Parch': tensor(-0.4267),\n",
       " 'LogFare': tensor(0.2543),\n",
       " 'Sex_male': tensor(-10.3320),\n",
       " 'Sex_female': tensor(8.4185),\n",
       " 'Pclass_1': tensor(3.8389),\n",
       " 'Pclass_2': tensor(2.1398),\n",
       " 'Pclass_3': tensor(-6.2331),\n",
       " 'Embarked_C': tensor(1.4771),\n",
       " 'Embarked_Q': tensor(2.1168),\n",
       " 'Embarked_S': tensor(-4.7958)}"
      ]
     },
     "execution_count": 50,
     "metadata": {},
     "output_type": "execute_result"
    }
   ],
   "source": [
    "show_coeffs()"
   ]
  },
  {
   "cell_type": "markdown",
   "id": "8d07580d",
   "metadata": {
    "papermill": {
     "duration": 0.178492,
     "end_time": "2024-04-19T13:52:52.505744",
     "exception": false,
     "start_time": "2024-04-19T13:52:52.327252",
     "status": "completed"
    },
    "tags": []
   },
   "source": [
    "These coefficients seem reasonable -- in general, older people and males were less likely to survive, and first class passengers were more likely to survive."
   ]
  },
  {
   "cell_type": "markdown",
   "id": "1f2dfaaa",
   "metadata": {
    "papermill": {
     "duration": 0.176654,
     "end_time": "2024-04-19T13:52:52.861590",
     "exception": false,
     "start_time": "2024-04-19T13:52:52.684936",
     "status": "completed"
    },
    "tags": []
   },
   "source": [
    "## Submitting to Kaggle"
   ]
  },
  {
   "cell_type": "markdown",
   "id": "5fa11588",
   "metadata": {
    "papermill": {
     "duration": 0.183444,
     "end_time": "2024-04-19T13:52:53.224489",
     "exception": false,
     "start_time": "2024-04-19T13:52:53.041045",
     "status": "completed"
    },
    "tags": []
   },
   "source": [
    "Now that we've got a trained model, we can prepare a submission to Kaggle. To do that, first we need to read the test set:"
   ]
  },
  {
   "cell_type": "code",
   "execution_count": 51,
   "id": "1efc0e36",
   "metadata": {
    "execution": {
     "iopub.execute_input": "2024-04-19T13:52:53.585114Z",
     "iopub.status.busy": "2024-04-19T13:52:53.584499Z",
     "iopub.status.idle": "2024-04-19T13:52:53.602162Z",
     "shell.execute_reply": "2024-04-19T13:52:53.600938Z"
    },
    "papermill": {
     "duration": 0.201006,
     "end_time": "2024-04-19T13:52:53.605311",
     "exception": false,
     "start_time": "2024-04-19T13:52:53.404305",
     "status": "completed"
    },
    "tags": []
   },
   "outputs": [],
   "source": [
    "tst_df = pd.read_csv(path/'test.csv')"
   ]
  },
  {
   "cell_type": "markdown",
   "id": "39b90391",
   "metadata": {
    "papermill": {
     "duration": 0.200641,
     "end_time": "2024-04-19T13:52:53.988514",
     "exception": false,
     "start_time": "2024-04-19T13:52:53.787873",
     "status": "completed"
    },
    "tags": []
   },
   "source": [
    "In this case, it turns out that the test set is missing `Fare` for one passenger. We'll just fill it with `0` to avoid problems:"
   ]
  },
  {
   "cell_type": "code",
   "execution_count": 52,
   "id": "a6cbaeea",
   "metadata": {
    "execution": {
     "iopub.execute_input": "2024-04-19T13:52:54.355396Z",
     "iopub.status.busy": "2024-04-19T13:52:54.355036Z",
     "iopub.status.idle": "2024-04-19T13:52:54.361697Z",
     "shell.execute_reply": "2024-04-19T13:52:54.360649Z"
    },
    "papermill": {
     "duration": 0.193005,
     "end_time": "2024-04-19T13:52:54.364154",
     "exception": false,
     "start_time": "2024-04-19T13:52:54.171149",
     "status": "completed"
    },
    "tags": []
   },
   "outputs": [],
   "source": [
    "tst_df['Fare'] = tst_df.Fare.fillna(0)"
   ]
  },
  {
   "cell_type": "markdown",
   "id": "5a199666",
   "metadata": {
    "papermill": {
     "duration": 0.177423,
     "end_time": "2024-04-19T13:52:54.720295",
     "exception": false,
     "start_time": "2024-04-19T13:52:54.542872",
     "status": "completed"
    },
    "tags": []
   },
   "source": [
    "Now we can just copy the same steps we did to our training set and do the same exact things on our test set to preprocess the data:"
   ]
  },
  {
   "cell_type": "code",
   "execution_count": 53,
   "id": "ad50d18f",
   "metadata": {
    "execution": {
     "iopub.execute_input": "2024-04-19T13:52:55.081222Z",
     "iopub.status.busy": "2024-04-19T13:52:55.080838Z",
     "iopub.status.idle": "2024-04-19T13:52:55.107034Z",
     "shell.execute_reply": "2024-04-19T13:52:55.105957Z"
    },
    "papermill": {
     "duration": 0.212133,
     "end_time": "2024-04-19T13:52:55.109941",
     "exception": false,
     "start_time": "2024-04-19T13:52:54.897808",
     "status": "completed"
    },
    "tags": []
   },
   "outputs": [],
   "source": [
    "tst_df.fillna(modes, inplace=True)\n",
    "tst_df['LogFare'] = np.log(tst_df['Fare']+1)\n",
    "tst_df = pd.get_dummies(tst_df, columns=[\"Sex\",\"Pclass\",\"Embarked\"])\n",
    "\n",
    "tst_indep = tensor(tst_df[indep_cols].values, dtype=torch.float)\n",
    "tst_indep = tst_indep / vals"
   ]
  },
  {
   "cell_type": "markdown",
   "id": "2df04547",
   "metadata": {
    "papermill": {
     "duration": 0.179302,
     "end_time": "2024-04-19T13:52:55.472410",
     "exception": false,
     "start_time": "2024-04-19T13:52:55.293108",
     "status": "completed"
    },
    "tags": []
   },
   "source": [
    "Let's calculate our predictions of which passengers survived in the test set:"
   ]
  },
  {
   "cell_type": "code",
   "execution_count": 54,
   "id": "6ea52858",
   "metadata": {
    "execution": {
     "iopub.execute_input": "2024-04-19T13:52:55.843293Z",
     "iopub.status.busy": "2024-04-19T13:52:55.842886Z",
     "iopub.status.idle": "2024-04-19T13:52:55.849970Z",
     "shell.execute_reply": "2024-04-19T13:52:55.848967Z"
    },
    "papermill": {
     "duration": 0.193256,
     "end_time": "2024-04-19T13:52:55.852733",
     "exception": false,
     "start_time": "2024-04-19T13:52:55.659477",
     "status": "completed"
    },
    "tags": []
   },
   "outputs": [],
   "source": [
    "tst_df['Survived'] = (calc_preds(tst_indep, coeffs)>0.5).int()"
   ]
  },
  {
   "cell_type": "markdown",
   "id": "6f26058a",
   "metadata": {
    "papermill": {
     "duration": 0.179589,
     "end_time": "2024-04-19T13:52:56.212737",
     "exception": false,
     "start_time": "2024-04-19T13:52:56.033148",
     "status": "completed"
    },
    "tags": []
   },
   "source": [
    "The sample submission on the Kaggle competition site shows that we're expected to upload a CSV with just `PassengerId` and `Survived`, so let's create that and save it:"
   ]
  },
  {
   "cell_type": "code",
   "execution_count": 55,
   "id": "d957b34d",
   "metadata": {
    "execution": {
     "iopub.execute_input": "2024-04-19T13:52:56.575430Z",
     "iopub.status.busy": "2024-04-19T13:52:56.575019Z",
     "iopub.status.idle": "2024-04-19T13:52:56.587153Z",
     "shell.execute_reply": "2024-04-19T13:52:56.586187Z"
    },
    "papermill": {
     "duration": 0.195291,
     "end_time": "2024-04-19T13:52:56.590187",
     "exception": false,
     "start_time": "2024-04-19T13:52:56.394896",
     "status": "completed"
    },
    "tags": []
   },
   "outputs": [],
   "source": [
    "sub_df = tst_df[['PassengerId','Survived']]\n",
    "sub_df.to_csv('sub.csv', index=False)"
   ]
  },
  {
   "cell_type": "markdown",
   "id": "3353c125",
   "metadata": {
    "papermill": {
     "duration": 0.179623,
     "end_time": "2024-04-19T13:52:56.946914",
     "exception": false,
     "start_time": "2024-04-19T13:52:56.767291",
     "status": "completed"
    },
    "tags": []
   },
   "source": [
    "We can check the first few rows of the file to make sure it looks reasonable:"
   ]
  },
  {
   "cell_type": "code",
   "execution_count": 56,
   "id": "93d1b67f",
   "metadata": {
    "execution": {
     "iopub.execute_input": "2024-04-19T13:52:57.307523Z",
     "iopub.status.busy": "2024-04-19T13:52:57.307159Z",
     "iopub.status.idle": "2024-04-19T13:52:58.408727Z",
     "shell.execute_reply": "2024-04-19T13:52:58.407393Z"
    },
    "papermill": {
     "duration": 1.285653,
     "end_time": "2024-04-19T13:52:58.412005",
     "exception": false,
     "start_time": "2024-04-19T13:52:57.126352",
     "status": "completed"
    },
    "tags": []
   },
   "outputs": [
    {
     "name": "stdout",
     "output_type": "stream",
     "text": [
      "PassengerId,Survived\r\n",
      "892,0\r\n",
      "893,0\r\n",
      "894,0\r\n",
      "895,0\r\n",
      "896,0\r\n",
      "897,0\r\n",
      "898,1\r\n",
      "899,0\r\n",
      "900,1\r\n"
     ]
    }
   ],
   "source": [
    "!head sub.csv"
   ]
  },
  {
   "cell_type": "markdown",
   "id": "fd0c1c3c",
   "metadata": {
    "papermill": {
     "duration": 0.178318,
     "end_time": "2024-04-19T13:52:58.774809",
     "exception": false,
     "start_time": "2024-04-19T13:52:58.596491",
     "status": "completed"
    },
    "tags": []
   },
   "source": [
    "When you click \"save version\" in Kaggle, and wait for the notebook to run, you'll see that `sub.csv` appears in the \"Data\" tab. Clicking on that file will show a *Submit* button, which allows you to submit to the competition."
   ]
  },
  {
   "cell_type": "code",
   "execution_count": 57,
   "id": "89d717f5",
   "metadata": {
    "execution": {
     "iopub.execute_input": "2024-04-19T13:52:59.143562Z",
     "iopub.status.busy": "2024-04-19T13:52:59.143138Z",
     "iopub.status.idle": "2024-04-19T13:52:59.151196Z",
     "shell.execute_reply": "2024-04-19T13:52:59.150493Z"
    },
    "papermill": {
     "duration": 0.197574,
     "end_time": "2024-04-19T13:52:59.153909",
     "exception": false,
     "start_time": "2024-04-19T13:52:58.956335",
     "status": "completed"
    },
    "tags": []
   },
   "outputs": [
    {
     "data": {
      "text/plain": [
       "'https://youtu.be/_rXzeWq4C6w?feature=shared&t=3472'"
      ]
     },
     "execution_count": 57,
     "metadata": {},
     "output_type": "execute_result"
    }
   ],
   "source": [
    "\"https://youtu.be/_rXzeWq4C6w?feature=shared&t=3472\""
   ]
  },
  {
   "cell_type": "markdown",
   "id": "3031a589",
   "metadata": {
    "papermill": {
     "duration": 0.183894,
     "end_time": "2024-04-19T13:52:59.518187",
     "exception": false,
     "start_time": "2024-04-19T13:52:59.334293",
     "status": "completed"
    },
    "tags": []
   },
   "source": [
    "## Using matrix product"
   ]
  },
  {
   "cell_type": "markdown",
   "id": "631e91b4",
   "metadata": {
    "papermill": {
     "duration": 0.178396,
     "end_time": "2024-04-19T13:52:59.879841",
     "exception": false,
     "start_time": "2024-04-19T13:52:59.701445",
     "status": "completed"
    },
    "tags": []
   },
   "source": [
    "We can make things quite a bit neater...\n",
    "\n",
    "Take a look at the inner-most calculation we're doing to get the predictions:"
   ]
  },
  {
   "cell_type": "code",
   "execution_count": 58,
   "id": "f4901686",
   "metadata": {
    "execution": {
     "iopub.execute_input": "2024-04-19T13:53:00.242412Z",
     "iopub.status.busy": "2024-04-19T13:53:00.241676Z",
     "iopub.status.idle": "2024-04-19T13:53:00.252970Z",
     "shell.execute_reply": "2024-04-19T13:53:00.252069Z"
    },
    "papermill": {
     "duration": 0.197687,
     "end_time": "2024-04-19T13:53:00.255629",
     "exception": false,
     "start_time": "2024-04-19T13:53:00.057942",
     "status": "completed"
    },
    "tags": []
   },
   "outputs": [
    {
     "data": {
      "text/plain": [
       "tensor([ 12.3288, -14.8119, -15.4540, -13.1513, -13.3512, -13.6469,   3.6248,   5.3429, -22.0878,   3.1233, -21.8742, -15.6421, -21.5504,\n",
       "          3.9393, -21.9190, -12.0010, -12.3775,   5.3550, -13.5880,  -3.1015, -21.7237, -12.2081,  12.9767,   4.7427, -21.6525, -14.9135,\n",
       "         -2.7433, -12.3210, -21.5886,   3.9387,   5.3890,  -3.6196, -21.6296, -21.8454,  12.2159,  -3.2275, -12.0289,  13.4560, -21.7230,\n",
       "         -3.1366, -13.2462, -21.7230, -13.6831,  13.3092, -21.6477,  -3.5868, -21.6854, -21.8316, -14.8158,  -2.9386,  -5.3103, -22.2384,\n",
       "        -22.1097, -21.7466, -13.3780, -13.4909, -14.8119, -22.0690, -21.6666, -21.7818,  -5.4439, -21.7407, -12.6551, -21.6671,   4.9238,\n",
       "        -11.5777, -13.3323, -21.9638, -15.3030,   5.0243, -21.7614,   3.1820, -13.4721, -21.7170, -11.6066, -21.5737, -21.7230, -11.9652,\n",
       "        -13.2382, -13.7599, -13.2170,  13.1347, -21.7049, -21.7268,   4.9207,  -7.3198,  -5.3081,   7.1065,  11.4948, -13.3135, -21.8723,\n",
       "        -21.7230,  13.3603, -15.5670,   3.4105,  -7.2857, -13.7197,   3.6909,   3.9763, -14.7227, -21.8268,   3.9387, -21.8743, -21.8367,\n",
       "        -11.8518, -13.6712, -21.8299,   4.9440,  -5.4471, -21.9666,   5.1333,  -3.2187, -11.6008,  13.7920, -21.7230,  12.6369,  -3.7268,\n",
       "        -14.8119, -22.0637,  12.9468, -22.1610,  -6.1827, -14.8119,  -3.2838, -15.4540, -11.6950,  -2.9926,  -3.0110, -21.5664, -13.8268,\n",
       "          7.3426, -21.8418,   5.0744,   5.2582,  13.3415, -21.6289, -13.9898, -21.8112,  -7.3316,   5.2296, -13.4453,  12.7891, -22.1235,\n",
       "        -14.9625,  -3.4339,   6.3089, -21.9839,   3.1968,   7.2400,   2.8558,  -3.1187,   3.7965,   5.4667, -15.1101, -15.0597, -22.9391,\n",
       "        -21.7230,  -3.0346, -13.5206, -21.7011,  13.4425,  -7.2690, -21.8335, -12.0582,  13.0489,   6.7993,   5.2160,   5.0794, -12.6957,\n",
       "        -12.1838,  -3.0873, -21.6070,   7.0744, -21.7170, -22.1001,   6.8159, -11.6002, -21.6310])"
      ]
     },
     "execution_count": 58,
     "metadata": {},
     "output_type": "execute_result"
    }
   ],
   "source": [
    "(val_indep*coeffs).sum(axis=1)"
   ]
  },
  {
   "cell_type": "markdown",
   "id": "c2f3ffbc",
   "metadata": {
    "papermill": {
     "duration": 0.18004,
     "end_time": "2024-04-19T13:53:00.617089",
     "exception": false,
     "start_time": "2024-04-19T13:53:00.437049",
     "status": "completed"
    },
    "tags": []
   },
   "source": [
    "Multiplying elements together and then adding across rows is identical to doing a matrix-vector product! Python uses the `@` operator to indicate matrix products, and is supported by PyTorch tensors. Therefore, we can replicate the above calculate more simply like so:"
   ]
  },
  {
   "cell_type": "code",
   "execution_count": 59,
   "id": "5befc17f",
   "metadata": {
    "execution": {
     "iopub.execute_input": "2024-04-19T13:53:00.977523Z",
     "iopub.status.busy": "2024-04-19T13:53:00.977130Z",
     "iopub.status.idle": "2024-04-19T13:53:00.994475Z",
     "shell.execute_reply": "2024-04-19T13:53:00.993434Z"
    },
    "papermill": {
     "duration": 0.201474,
     "end_time": "2024-04-19T13:53:00.997377",
     "exception": false,
     "start_time": "2024-04-19T13:53:00.795903",
     "status": "completed"
    },
    "tags": []
   },
   "outputs": [
    {
     "data": {
      "text/plain": [
       "tensor([ 12.3288, -14.8119, -15.4540, -13.1513, -13.3511, -13.6468,   3.6248,   5.3429, -22.0878,   3.1233, -21.8742, -15.6421, -21.5504,\n",
       "          3.9393, -21.9190, -12.0010, -12.3775,   5.3550, -13.5880,  -3.1015, -21.7237, -12.2081,  12.9767,   4.7427, -21.6525, -14.9135,\n",
       "         -2.7433, -12.3210, -21.5886,   3.9387,   5.3890,  -3.6196, -21.6296, -21.8454,  12.2159,  -3.2275, -12.0289,  13.4560, -21.7230,\n",
       "         -3.1366, -13.2462, -21.7230, -13.6831,  13.3092, -21.6477,  -3.5868, -21.6854, -21.8316, -14.8158,  -2.9386,  -5.3103, -22.2384,\n",
       "        -22.1097, -21.7466, -13.3780, -13.4909, -14.8119, -22.0690, -21.6666, -21.7818,  -5.4439, -21.7407, -12.6551, -21.6671,   4.9238,\n",
       "        -11.5777, -13.3323, -21.9638, -15.3030,   5.0243, -21.7614,   3.1820, -13.4721, -21.7170, -11.6066, -21.5737, -21.7230, -11.9652,\n",
       "        -13.2382, -13.7599, -13.2170,  13.1347, -21.7049, -21.7268,   4.9207,  -7.3198,  -5.3081,   7.1065,  11.4948, -13.3135, -21.8723,\n",
       "        -21.7230,  13.3603, -15.5670,   3.4105,  -7.2857, -13.7197,   3.6909,   3.9763, -14.7227, -21.8268,   3.9387, -21.8743, -21.8367,\n",
       "        -11.8518, -13.6712, -21.8299,   4.9440,  -5.4471, -21.9666,   5.1333,  -3.2187, -11.6008,  13.7920, -21.7230,  12.6369,  -3.7268,\n",
       "        -14.8119, -22.0637,  12.9468, -22.1610,  -6.1827, -14.8119,  -3.2838, -15.4540, -11.6950,  -2.9926,  -3.0110, -21.5664, -13.8268,\n",
       "          7.3426, -21.8418,   5.0744,   5.2582,  13.3415, -21.6289, -13.9898, -21.8112,  -7.3316,   5.2296, -13.4453,  12.7891, -22.1235,\n",
       "        -14.9625,  -3.4339,   6.3089, -21.9839,   3.1968,   7.2400,   2.8558,  -3.1187,   3.7965,   5.4667, -15.1101, -15.0597, -22.9391,\n",
       "        -21.7230,  -3.0346, -13.5206, -21.7011,  13.4425,  -7.2690, -21.8335, -12.0582,  13.0489,   6.7993,   5.2160,   5.0794, -12.6957,\n",
       "        -12.1838,  -3.0873, -21.6070,   7.0744, -21.7170, -22.1001,   6.8159, -11.6002, -21.6310])"
      ]
     },
     "execution_count": 59,
     "metadata": {},
     "output_type": "execute_result"
    }
   ],
   "source": [
    "val_indep@coeffs"
   ]
  },
  {
   "cell_type": "markdown",
   "id": "1f4b3e45",
   "metadata": {
    "papermill": {
     "duration": 0.181562,
     "end_time": "2024-04-19T13:53:01.364912",
     "exception": false,
     "start_time": "2024-04-19T13:53:01.183350",
     "status": "completed"
    },
    "tags": []
   },
   "source": [
    "It also turns out that this is much faster, because matrix products in PyTorch are very highly optimised.\n",
    "\n",
    "Let's use this to replace how `calc_preds` works:"
   ]
  },
  {
   "cell_type": "code",
   "execution_count": 60,
   "id": "09efdad5",
   "metadata": {
    "execution": {
     "iopub.execute_input": "2024-04-19T13:53:01.733874Z",
     "iopub.status.busy": "2024-04-19T13:53:01.733231Z",
     "iopub.status.idle": "2024-04-19T13:53:01.738793Z",
     "shell.execute_reply": "2024-04-19T13:53:01.737913Z"
    },
    "papermill": {
     "duration": 0.191683,
     "end_time": "2024-04-19T13:53:01.741391",
     "exception": false,
     "start_time": "2024-04-19T13:53:01.549708",
     "status": "completed"
    },
    "tags": []
   },
   "outputs": [],
   "source": [
    "def calc_preds(coeffs, indeps): return torch.sigmoid(indeps@coeffs)"
   ]
  },
  {
   "cell_type": "markdown",
   "id": "2628a6c5",
   "metadata": {
    "papermill": {
     "duration": 0.181676,
     "end_time": "2024-04-19T13:53:02.103801",
     "exception": false,
     "start_time": "2024-04-19T13:53:01.922125",
     "status": "completed"
    },
    "tags": []
   },
   "source": [
    "In order to do matrix-matrix products (which we'll need in the next section), we need to turn `coeffs` into a column vector (i.e. a matrix with a single column), which we can do by passing a second argument `1` to `torch.rand()`, indicating that we want our coefficients to have one column:"
   ]
  },
  {
   "cell_type": "code",
   "execution_count": 61,
   "id": "cc21e28a",
   "metadata": {
    "execution": {
     "iopub.execute_input": "2024-04-19T13:53:02.469116Z",
     "iopub.status.busy": "2024-04-19T13:53:02.468454Z",
     "iopub.status.idle": "2024-04-19T13:53:02.474470Z",
     "shell.execute_reply": "2024-04-19T13:53:02.473594Z"
    },
    "papermill": {
     "duration": 0.193169,
     "end_time": "2024-04-19T13:53:02.477194",
     "exception": false,
     "start_time": "2024-04-19T13:53:02.284025",
     "status": "completed"
    },
    "tags": []
   },
   "outputs": [],
   "source": [
    "def init_coeffs(): return (torch.rand(n_coeff, 1)*0.1).requires_grad_()"
   ]
  },
  {
   "cell_type": "markdown",
   "id": "cdbc5604",
   "metadata": {
    "papermill": {
     "duration": 0.179028,
     "end_time": "2024-04-19T13:53:02.840273",
     "exception": false,
     "start_time": "2024-04-19T13:53:02.661245",
     "status": "completed"
    },
    "tags": []
   },
   "source": [
    "We'll also need to turn our dependent variable into a column vector, which we can do by indexing the column dimension with the special value `None`, which tells PyTorch to add a new dimension in this position:"
   ]
  },
  {
   "cell_type": "code",
   "execution_count": 62,
   "id": "e3633817",
   "metadata": {
    "execution": {
     "iopub.execute_input": "2024-04-19T13:53:03.212157Z",
     "iopub.status.busy": "2024-04-19T13:53:03.211574Z",
     "iopub.status.idle": "2024-04-19T13:53:03.216871Z",
     "shell.execute_reply": "2024-04-19T13:53:03.216048Z"
    },
    "papermill": {
     "duration": 0.191944,
     "end_time": "2024-04-19T13:53:03.219581",
     "exception": false,
     "start_time": "2024-04-19T13:53:03.027637",
     "status": "completed"
    },
    "tags": []
   },
   "outputs": [],
   "source": [
    "trn_dep = trn_dep[:,None]\n",
    "val_dep = val_dep[:,None]"
   ]
  },
  {
   "cell_type": "markdown",
   "id": "916f84d8",
   "metadata": {
    "papermill": {
     "duration": 0.1813,
     "end_time": "2024-04-19T13:53:03.583661",
     "exception": false,
     "start_time": "2024-04-19T13:53:03.402361",
     "status": "completed"
    },
    "tags": []
   },
   "source": [
    "We can now train our model as before and confirm we get identical outputs...:"
   ]
  },
  {
   "cell_type": "code",
   "execution_count": 63,
   "id": "703ddc5e",
   "metadata": {
    "execution": {
     "iopub.execute_input": "2024-04-19T13:53:04.074685Z",
     "iopub.status.busy": "2024-04-19T13:53:04.073475Z",
     "iopub.status.idle": "2024-04-19T13:53:04.099236Z",
     "shell.execute_reply": "2024-04-19T13:53:04.097214Z"
    },
    "papermill": {
     "duration": 0.234,
     "end_time": "2024-04-19T13:53:04.102431",
     "exception": false,
     "start_time": "2024-04-19T13:53:03.868431",
     "status": "completed"
    },
    "tags": []
   },
   "outputs": [
    {
     "name": "stdout",
     "output_type": "stream",
     "text": [
      "0.512; 0.323; 0.290; 0.205; 0.200; 0.198; 0.197; 0.197; 0.196; 0.196; 0.196; 0.195; 0.195; 0.195; 0.195; 0.195; 0.195; 0.194; 0.194; 0.194; 0.194; 0.194; 0.194; 0.194; 0.194; 0.194; 0.194; 0.194; 0.194; 0.194; "
     ]
    }
   ],
   "source": [
    "coeffs = train_model(lr=100)"
   ]
  },
  {
   "cell_type": "markdown",
   "id": "8bd020be",
   "metadata": {
    "papermill": {
     "duration": 0.180486,
     "end_time": "2024-04-19T13:53:04.463723",
     "exception": false,
     "start_time": "2024-04-19T13:53:04.283237",
     "status": "completed"
    },
    "tags": []
   },
   "source": [
    "...and identical accuracy:"
   ]
  },
  {
   "cell_type": "code",
   "execution_count": 64,
   "id": "3dceaf9a",
   "metadata": {
    "execution": {
     "iopub.execute_input": "2024-04-19T13:53:04.829571Z",
     "iopub.status.busy": "2024-04-19T13:53:04.828441Z",
     "iopub.status.idle": "2024-04-19T13:53:04.837173Z",
     "shell.execute_reply": "2024-04-19T13:53:04.836037Z"
    },
    "papermill": {
     "duration": 0.193388,
     "end_time": "2024-04-19T13:53:04.839795",
     "exception": false,
     "start_time": "2024-04-19T13:53:04.646407",
     "status": "completed"
    },
    "tags": []
   },
   "outputs": [
    {
     "data": {
      "text/plain": [
       "tensor(0.8258)"
      ]
     },
     "execution_count": 64,
     "metadata": {},
     "output_type": "execute_result"
    }
   ],
   "source": [
    "acc(coeffs)"
   ]
  },
  {
   "cell_type": "markdown",
   "id": "6c533dd6",
   "metadata": {
    "papermill": {
     "duration": 0.185316,
     "end_time": "2024-04-19T13:53:05.208585",
     "exception": false,
     "start_time": "2024-04-19T13:53:05.023269",
     "status": "completed"
    },
    "tags": []
   },
   "source": [
    "## A neural network"
   ]
  },
  {
   "cell_type": "markdown",
   "id": "b6bf71c6",
   "metadata": {
    "papermill": {
     "duration": 0.185048,
     "end_time": "2024-04-19T13:53:05.576271",
     "exception": false,
     "start_time": "2024-04-19T13:53:05.391223",
     "status": "completed"
    },
    "tags": []
   },
   "source": [
    "We've now got what we need to implement our neural network.\n",
    "\n",
    "First, we'll need to create coefficients for each of our layers. Our first set of coefficients will take our `n_coeff` inputs, and create `n_hidden` outputs. We can choose whatever `n_hidden` we like -- a higher number gives our network more flexibility, but makes it slower and harder to train. So we need a matrix of size `n_coeff` by `n_hidden`. We'll divide these coefficients by `n_hidden` so that when we sum them up in the next layer we'll end up with similar magnitude numbers to what we started with.\n",
    "\n",
    "Then our second layer will need to take the `n_hidden` inputs and create a single output, so that means we need a `n_hidden` by `1` matrix there. The second layer will also need a constant term added."
   ]
  },
  {
   "cell_type": "code",
   "execution_count": 65,
   "id": "a0f7a41d",
   "metadata": {
    "execution": {
     "iopub.execute_input": "2024-04-19T13:53:05.943658Z",
     "iopub.status.busy": "2024-04-19T13:53:05.943260Z",
     "iopub.status.idle": "2024-04-19T13:53:05.950621Z",
     "shell.execute_reply": "2024-04-19T13:53:05.949476Z"
    },
    "papermill": {
     "duration": 0.192175,
     "end_time": "2024-04-19T13:53:05.953175",
     "exception": false,
     "start_time": "2024-04-19T13:53:05.761000",
     "status": "completed"
    },
    "tags": []
   },
   "outputs": [],
   "source": [
    "def init_coeffs(n_hidden=20):\n",
    "    layer1 = (torch.rand(n_coeff, n_hidden)-0.5)/n_hidden\n",
    "    layer2 = torch.rand(n_hidden, 1)-0.3\n",
    "    const = torch.rand(1)[0]\n",
    "    return layer1.requires_grad_(),layer2.requires_grad_(),const.requires_grad_()"
   ]
  },
  {
   "cell_type": "markdown",
   "id": "c5ed1265",
   "metadata": {
    "papermill": {
     "duration": 0.183432,
     "end_time": "2024-04-19T13:53:06.323105",
     "exception": false,
     "start_time": "2024-04-19T13:53:06.139673",
     "status": "completed"
    },
    "tags": []
   },
   "source": [
    "Now we have our coefficients, we can create our neural net. The key steps are the two matrix products, `indeps@l1` and `res@l2` (where `res` is the output of the first layer). The first layer output is passed to `F.relu` (that's our non-linearity), and the second is passed to `torch.sigmoid` as before."
   ]
  },
  {
   "cell_type": "code",
   "execution_count": 66,
   "id": "3a8ef3b4",
   "metadata": {
    "execution": {
     "iopub.execute_input": "2024-04-19T13:53:06.694979Z",
     "iopub.status.busy": "2024-04-19T13:53:06.694586Z",
     "iopub.status.idle": "2024-04-19T13:53:06.701518Z",
     "shell.execute_reply": "2024-04-19T13:53:06.700737Z"
    },
    "papermill": {
     "duration": 0.198231,
     "end_time": "2024-04-19T13:53:06.703708",
     "exception": false,
     "start_time": "2024-04-19T13:53:06.505477",
     "status": "completed"
    },
    "tags": []
   },
   "outputs": [],
   "source": [
    "import torch.nn.functional as F\n",
    "\n",
    "def calc_preds(coeffs, indeps):\n",
    "    l1,l2,const = coeffs\n",
    "    res = F.relu(indeps@l1)\n",
    "    res = res@l2 + const\n",
    "    return torch.sigmoid(res)"
   ]
  },
  {
   "cell_type": "markdown",
   "id": "d3cdeddc",
   "metadata": {
    "papermill": {
     "duration": 0.180846,
     "end_time": "2024-04-19T13:53:07.068738",
     "exception": false,
     "start_time": "2024-04-19T13:53:06.887892",
     "status": "completed"
    },
    "tags": []
   },
   "source": [
    "Finally, now that we have more than one set of coefficients, we need to add a loop to update each one:"
   ]
  },
  {
   "cell_type": "code",
   "execution_count": 67,
   "id": "44b69380",
   "metadata": {
    "execution": {
     "iopub.execute_input": "2024-04-19T13:53:07.439649Z",
     "iopub.status.busy": "2024-04-19T13:53:07.438709Z",
     "iopub.status.idle": "2024-04-19T13:53:07.444417Z",
     "shell.execute_reply": "2024-04-19T13:53:07.443253Z"
    },
    "papermill": {
     "duration": 0.192665,
     "end_time": "2024-04-19T13:53:07.447178",
     "exception": false,
     "start_time": "2024-04-19T13:53:07.254513",
     "status": "completed"
    },
    "tags": []
   },
   "outputs": [],
   "source": [
    "def update_coeffs(coeffs, lr):\n",
    "    for layer in coeffs:\n",
    "        layer.sub_(layer.grad * lr)\n",
    "        layer.grad.zero_()"
   ]
  },
  {
   "cell_type": "markdown",
   "id": "540fc090",
   "metadata": {
    "papermill": {
     "duration": 0.185264,
     "end_time": "2024-04-19T13:53:07.817742",
     "exception": false,
     "start_time": "2024-04-19T13:53:07.632478",
     "status": "completed"
    },
    "tags": []
   },
   "source": [
    "That's it -- we're now ready to train our model!"
   ]
  },
  {
   "cell_type": "code",
   "execution_count": 68,
   "id": "6ad351ba",
   "metadata": {
    "execution": {
     "iopub.execute_input": "2024-04-19T13:53:08.199310Z",
     "iopub.status.busy": "2024-04-19T13:53:08.198917Z",
     "iopub.status.idle": "2024-04-19T13:53:08.237870Z",
     "shell.execute_reply": "2024-04-19T13:53:08.236887Z"
    },
    "papermill": {
     "duration": 0.237371,
     "end_time": "2024-04-19T13:53:08.240857",
     "exception": false,
     "start_time": "2024-04-19T13:53:08.003486",
     "status": "completed"
    },
    "tags": []
   },
   "outputs": [
    {
     "name": "stdout",
     "output_type": "stream",
     "text": [
      "0.543; 0.532; 0.520; 0.505; 0.487; 0.466; 0.439; 0.407; 0.373; 0.343; 0.319; 0.301; 0.286; 0.274; 0.264; 0.256; 0.250; 0.245; 0.240; 0.237; 0.234; 0.231; 0.229; 0.227; 0.226; 0.224; 0.223; 0.222; 0.221; 0.220; "
     ]
    }
   ],
   "source": [
    "coeffs = train_model(lr=1.4)"
   ]
  },
  {
   "cell_type": "code",
   "execution_count": 69,
   "id": "a3f73d06",
   "metadata": {
    "execution": {
     "iopub.execute_input": "2024-04-19T13:53:08.619116Z",
     "iopub.status.busy": "2024-04-19T13:53:08.618754Z",
     "iopub.status.idle": "2024-04-19T13:53:08.649282Z",
     "shell.execute_reply": "2024-04-19T13:53:08.648220Z"
    },
    "papermill": {
     "duration": 0.222084,
     "end_time": "2024-04-19T13:53:08.651965",
     "exception": false,
     "start_time": "2024-04-19T13:53:08.429881",
     "status": "completed"
    },
    "tags": []
   },
   "outputs": [
    {
     "name": "stdout",
     "output_type": "stream",
     "text": [
      "0.543; 0.400; 0.260; 0.390; 0.221; 0.211; 0.197; 0.195; 0.193; 0.193; 0.193; 0.193; 0.193; 0.193; 0.193; 0.193; 0.193; 0.192; 0.192; 0.192; 0.192; 0.192; 0.192; 0.192; 0.192; 0.192; 0.192; 0.192; 0.192; 0.192; "
     ]
    }
   ],
   "source": [
    "coeffs = train_model(lr=20)"
   ]
  },
  {
   "cell_type": "markdown",
   "id": "6a69f045",
   "metadata": {
    "papermill": {
     "duration": 0.182644,
     "end_time": "2024-04-19T13:53:09.025292",
     "exception": false,
     "start_time": "2024-04-19T13:53:08.842648",
     "status": "completed"
    },
    "tags": []
   },
   "source": [
    "It's looking good -- our loss is lower than before. Let's see if that translates to a better result on the validation set:"
   ]
  },
  {
   "cell_type": "code",
   "execution_count": 70,
   "id": "2d97d6a2",
   "metadata": {
    "execution": {
     "iopub.execute_input": "2024-04-19T13:53:09.399128Z",
     "iopub.status.busy": "2024-04-19T13:53:09.398731Z",
     "iopub.status.idle": "2024-04-19T13:53:09.406350Z",
     "shell.execute_reply": "2024-04-19T13:53:09.405691Z"
    },
    "papermill": {
     "duration": 0.197718,
     "end_time": "2024-04-19T13:53:09.408507",
     "exception": false,
     "start_time": "2024-04-19T13:53:09.210789",
     "status": "completed"
    },
    "tags": []
   },
   "outputs": [
    {
     "data": {
      "text/plain": [
       "tensor(0.8258)"
      ]
     },
     "execution_count": 70,
     "metadata": {},
     "output_type": "execute_result"
    }
   ],
   "source": [
    "acc(coeffs)"
   ]
  },
  {
   "cell_type": "markdown",
   "id": "6ebb4688",
   "metadata": {
    "papermill": {
     "duration": 0.182953,
     "end_time": "2024-04-19T13:53:09.776433",
     "exception": false,
     "start_time": "2024-04-19T13:53:09.593480",
     "status": "completed"
    },
    "tags": []
   },
   "source": [
    "In this case our neural net isn't showing better results than the linear model. That's not surprising; this dataset is very small and very simple, and isn't the kind of thing we'd expect to see neural networks excel at. Furthermore, our validation set is too small to reliably see much accuracy difference. But the key thing is that we now know exactly what a real neural net looks like!"
   ]
  },
  {
   "cell_type": "markdown",
   "id": "b64bf7f1",
   "metadata": {
    "papermill": {
     "duration": 0.188569,
     "end_time": "2024-04-19T13:53:10.147084",
     "exception": false,
     "start_time": "2024-04-19T13:53:09.958515",
     "status": "completed"
    },
    "tags": []
   },
   "source": [
    "## Deep learning"
   ]
  },
  {
   "cell_type": "markdown",
   "id": "80250bb2",
   "metadata": {
    "papermill": {
     "duration": 0.18654,
     "end_time": "2024-04-19T13:53:10.518122",
     "exception": false,
     "start_time": "2024-04-19T13:53:10.331582",
     "status": "completed"
    },
    "tags": []
   },
   "source": [
    "The neural net in the previous section only uses one hidden layer, so it doesn't count as \"deep\" learning. But we can use the exact same technique to make our neural net deep, by adding more matrix multiplications.\n",
    "\n",
    "First, we'll need to create additional coefficients for each layer:"
   ]
  },
  {
   "cell_type": "code",
   "execution_count": 71,
   "id": "02fb8e5e",
   "metadata": {
    "execution": {
     "iopub.execute_input": "2024-04-19T13:53:10.889956Z",
     "iopub.status.busy": "2024-04-19T13:53:10.888887Z",
     "iopub.status.idle": "2024-04-19T13:53:10.897870Z",
     "shell.execute_reply": "2024-04-19T13:53:10.896882Z"
    },
    "papermill": {
     "duration": 0.19618,
     "end_time": "2024-04-19T13:53:10.900628",
     "exception": false,
     "start_time": "2024-04-19T13:53:10.704448",
     "status": "completed"
    },
    "tags": []
   },
   "outputs": [],
   "source": [
    "def init_coeffs():\n",
    "    hiddens = [10, 10]  # <-- set this to the size of each hidden layer you want\n",
    "    sizes = [n_coeff] + hiddens + [1]\n",
    "    n = len(sizes)\n",
    "    layers = [(torch.rand(sizes[i], sizes[i+1])-0.3)/sizes[i+1]*4 for i in range(n-1)]\n",
    "    consts = [(torch.rand(1)[0]-0.5)*0.1 for i in range(n-1)]\n",
    "    for l in layers+consts: l.requires_grad_()\n",
    "    return layers,consts"
   ]
  },
  {
   "cell_type": "markdown",
   "id": "82727098",
   "metadata": {
    "papermill": {
     "duration": 0.188459,
     "end_time": "2024-04-19T13:53:11.272303",
     "exception": false,
     "start_time": "2024-04-19T13:53:11.083844",
     "status": "completed"
    },
    "tags": []
   },
   "source": [
    "You'll notice here that there's a lot of messy constants to get the random numbers in just the right ranges. When you train the model in a moment, you'll see that the tiniest changes to these initialisations can cause our model to fail to train at all! This is a key reason that deep learning failed to make much progress in the early days -- it's very finicky to get a good starting point for our coefficients. Nowadays, we have ways to deal with that, which we'll learn about in other notebooks.\n",
    "\n",
    "Our deep learning `calc_preds` looks much the same as before, but now we loop through each layer, instead of listing them separately:"
   ]
  },
  {
   "cell_type": "code",
   "execution_count": 72,
   "id": "78dbcd80",
   "metadata": {
    "execution": {
     "iopub.execute_input": "2024-04-19T13:53:11.645768Z",
     "iopub.status.busy": "2024-04-19T13:53:11.644994Z",
     "iopub.status.idle": "2024-04-19T13:53:11.653257Z",
     "shell.execute_reply": "2024-04-19T13:53:11.652233Z"
    },
    "papermill": {
     "duration": 0.198302,
     "end_time": "2024-04-19T13:53:11.656131",
     "exception": false,
     "start_time": "2024-04-19T13:53:11.457829",
     "status": "completed"
    },
    "tags": []
   },
   "outputs": [],
   "source": [
    "import torch.nn.functional as F\n",
    "\n",
    "def calc_preds(coeffs, indeps):\n",
    "    layers,consts = coeffs\n",
    "    n = len(layers)\n",
    "    res = indeps\n",
    "    for i,l in enumerate(layers):\n",
    "        res = res@l + consts[i]\n",
    "        if i!=n-1: res = F.relu(res)\n",
    "    return torch.sigmoid(res)"
   ]
  },
  {
   "cell_type": "markdown",
   "id": "ce3f44e7",
   "metadata": {
    "papermill": {
     "duration": 0.184644,
     "end_time": "2024-04-19T13:53:12.026070",
     "exception": false,
     "start_time": "2024-04-19T13:53:11.841426",
     "status": "completed"
    },
    "tags": []
   },
   "source": [
    "We also need a minor update to `update_coeffs` since we've got `layers` and `consts` separated now:"
   ]
  },
  {
   "cell_type": "code",
   "execution_count": 73,
   "id": "7ae3ea3d",
   "metadata": {
    "execution": {
     "iopub.execute_input": "2024-04-19T13:53:12.398275Z",
     "iopub.status.busy": "2024-04-19T13:53:12.397855Z",
     "iopub.status.idle": "2024-04-19T13:53:12.403912Z",
     "shell.execute_reply": "2024-04-19T13:53:12.402824Z"
    },
    "papermill": {
     "duration": 0.196193,
     "end_time": "2024-04-19T13:53:12.406332",
     "exception": false,
     "start_time": "2024-04-19T13:53:12.210139",
     "status": "completed"
    },
    "tags": []
   },
   "outputs": [],
   "source": [
    "def update_coeffs(coeffs, lr):\n",
    "    layers,consts = coeffs\n",
    "    for layer in layers+consts:\n",
    "        layer.sub_(layer.grad * lr)\n",
    "        layer.grad.zero_()"
   ]
  },
  {
   "cell_type": "markdown",
   "id": "739a2a0c",
   "metadata": {
    "papermill": {
     "duration": 0.190151,
     "end_time": "2024-04-19T13:53:12.780701",
     "exception": false,
     "start_time": "2024-04-19T13:53:12.590550",
     "status": "completed"
    },
    "tags": []
   },
   "source": [
    "Let's train our model..."
   ]
  },
  {
   "cell_type": "code",
   "execution_count": 74,
   "id": "ecafeb3d",
   "metadata": {
    "execution": {
     "iopub.execute_input": "2024-04-19T13:53:13.145570Z",
     "iopub.status.busy": "2024-04-19T13:53:13.145168Z",
     "iopub.status.idle": "2024-04-19T13:53:13.181034Z",
     "shell.execute_reply": "2024-04-19T13:53:13.180042Z"
    },
    "papermill": {
     "duration": 0.222004,
     "end_time": "2024-04-19T13:53:13.183916",
     "exception": false,
     "start_time": "2024-04-19T13:53:12.961912",
     "status": "completed"
    },
    "tags": []
   },
   "outputs": [
    {
     "name": "stdout",
     "output_type": "stream",
     "text": [
      "0.521; 0.483; 0.427; 0.379; 0.379; 0.379; 0.379; 0.378; 0.378; 0.378; 0.378; 0.378; 0.378; 0.378; 0.378; 0.378; 0.377; 0.376; 0.371; 0.333; 0.239; 0.224; 0.208; 0.204; 0.203; 0.203; 0.207; 0.197; 0.196; 0.195; "
     ]
    }
   ],
   "source": [
    "coeffs = train_model(lr=4)"
   ]
  },
  {
   "cell_type": "markdown",
   "id": "6be1bd45",
   "metadata": {
    "papermill": {
     "duration": 0.186262,
     "end_time": "2024-04-19T13:53:13.556729",
     "exception": false,
     "start_time": "2024-04-19T13:53:13.370467",
     "status": "completed"
    },
    "tags": []
   },
   "source": [
    "...and check its accuracy:"
   ]
  },
  {
   "cell_type": "code",
   "execution_count": 75,
   "id": "18d9a91f",
   "metadata": {
    "execution": {
     "iopub.execute_input": "2024-04-19T13:53:13.943878Z",
     "iopub.status.busy": "2024-04-19T13:53:13.942588Z",
     "iopub.status.idle": "2024-04-19T13:53:13.952523Z",
     "shell.execute_reply": "2024-04-19T13:53:13.951345Z"
    },
    "papermill": {
     "duration": 0.215445,
     "end_time": "2024-04-19T13:53:13.956068",
     "exception": false,
     "start_time": "2024-04-19T13:53:13.740623",
     "status": "completed"
    },
    "tags": []
   },
   "outputs": [
    {
     "data": {
      "text/plain": [
       "tensor(0.8258)"
      ]
     },
     "execution_count": 75,
     "metadata": {},
     "output_type": "execute_result"
    }
   ],
   "source": [
    "acc(coeffs)"
   ]
  },
  {
   "cell_type": "markdown",
   "id": "ef9227ca",
   "metadata": {
    "papermill": {
     "duration": 0.186601,
     "end_time": "2024-04-19T13:53:14.335849",
     "exception": false,
     "start_time": "2024-04-19T13:53:14.149248",
     "status": "completed"
    },
    "tags": []
   },
   "source": [
    "## Final thoughts"
   ]
  },
  {
   "cell_type": "markdown",
   "id": "f5fa0c85",
   "metadata": {
    "papermill": {
     "duration": 0.184383,
     "end_time": "2024-04-19T13:53:14.708909",
     "exception": false,
     "start_time": "2024-04-19T13:53:14.524526",
     "status": "completed"
    },
    "tags": []
   },
   "source": [
    "It's actually pretty cool that we've managed to create a real deep learning model from scratch and trained it to get over 80% accuracy on this task, all in the course of a single notebook!\n",
    "\n",
    "The \"real\" deep learning models that are used in research and industry look very similar to this, and in fact if you look inside the source code of any deep learning model you'll recognise the basic steps are the same.\n",
    "\n",
    "The biggest differences in practical models to what we have above are:\n",
    "\n",
    "- How initialisation and normalisation is done to ensure the model trains correctly every time\n",
    "- Regularization (to avoid over-fitting)\n",
    "- Modifying the neural net itself to take advantage of knowledge of the problem domain\n",
    "- Doing gradient descent steps on smaller batches, rather than the whole dataset.\n",
    "\n",
    "I'll be adding notebooks about all these later, and will add links here once they're ready.\n",
    "\n",
    "If you found this notebook useful, please remember to click the little up-arrow at the top to upvote it, since I like to know when people have found my work useful, and it helps others find it too. (BTW, be sure you're looking at my [original notebook here](https://www.kaggle.com/code/jhoward/linear-model-and-neural-net-from-scratch) when you do that, and are not on your own copy of it, otherwise your upvote won't get counted!) And if you have any questions or comments, please pop them below -- I read every comment I receive!"
   ]
  },
  {
   "cell_type": "code",
   "execution_count": null,
   "id": "e7719204",
   "metadata": {
    "papermill": {
     "duration": 0.182208,
     "end_time": "2024-04-19T13:53:15.076677",
     "exception": false,
     "start_time": "2024-04-19T13:53:14.894469",
     "status": "completed"
    },
    "tags": []
   },
   "outputs": [],
   "source": []
  }
 ],
 "metadata": {
  "kaggle": {
   "accelerator": "none",
   "dataSources": [
    {
     "databundleVersionId": 26502,
     "sourceId": 3136,
     "sourceType": "competition"
    }
   ],
   "dockerImageVersionId": 30184,
   "isGpuEnabled": false,
   "isInternetEnabled": true,
   "language": "python",
   "sourceType": "notebook"
  },
  "kernelspec": {
   "display_name": "Python 3",
   "language": "python",
   "name": "python3"
  },
  "language_info": {
   "codemirror_mode": {
    "name": "ipython",
    "version": 3
   },
   "file_extension": ".py",
   "mimetype": "text/x-python",
   "name": "python",
   "nbconvert_exporter": "python",
   "pygments_lexer": "ipython3",
   "version": "3.7.12"
  },
  "papermill": {
   "default_parameters": {},
   "duration": 80.16252,
   "end_time": "2024-04-19T13:53:16.891878",
   "environment_variables": {},
   "exception": null,
   "input_path": "__notebook__.ipynb",
   "output_path": "__notebook__.ipynb",
   "parameters": {},
   "start_time": "2024-04-19T13:51:56.729358",
   "version": "2.3.4"
  }
 },
 "nbformat": 4,
 "nbformat_minor": 5
}
