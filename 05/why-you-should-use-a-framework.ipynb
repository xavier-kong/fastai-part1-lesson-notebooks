{
 "cells": [
  {
   "cell_type": "markdown",
   "id": "1a9f39b9",
   "metadata": {
    "papermill": {
     "duration": 0.030109,
     "end_time": "2024-04-20T09:17:22.724920",
     "exception": false,
     "start_time": "2024-04-20T09:17:22.694811",
     "status": "completed"
    },
    "tags": []
   },
   "source": [
    "## Introduction and set up"
   ]
  },
  {
   "cell_type": "markdown",
   "id": "222be9c6",
   "metadata": {
    "papermill": {
     "duration": 0.029089,
     "end_time": "2024-04-20T09:17:22.785173",
     "exception": false,
     "start_time": "2024-04-20T09:17:22.756084",
     "status": "completed"
    },
    "tags": []
   },
   "source": [
    "If you've finished going through my [Linear model and neural net from scratch\n",
    "](https://www.kaggle.com/code/jhoward/linear-model-and-neural-net-from-scratch) notebook, then now is a good time to look at how to do the same thing using a library, instead of doing it from scratch. We'll use fastai and PyTorch. The benefits of using these libraries is:\n",
    "\n",
    "- Best practices are handled for you automatically -- fast.ai has done thousands of hours of experiments to figure out what the best settings are for you\n",
    "- Less time getting set up, which means more time to try out your new ideas\n",
    "- Each idea you try will be less work, because fastai and PyTorch will do the many of the menial bits for you\n",
    "- You can always drop down from fastai to PyTorch if you need to customise any part (or drop down from the fastai Application API to the fastai mid or low tier APIs), or even drop down from PyTorch to plain python for deep customisation.\n",
    "\n",
    "Let's see how that looks in practice. We'll start by doing the same library setup as in the \"from scratch\" notebook:"
   ]
  },
  {
   "cell_type": "code",
   "execution_count": 1,
   "id": "54cd9876",
   "metadata": {
    "_kg_hide-output": true,
    "execution": {
     "iopub.execute_input": "2024-04-20T09:17:22.846741Z",
     "iopub.status.busy": "2024-04-20T09:17:22.845797Z",
     "iopub.status.idle": "2024-04-20T09:17:46.253823Z",
     "shell.execute_reply": "2024-04-20T09:17:46.252477Z"
    },
    "papermill": {
     "duration": 23.441657,
     "end_time": "2024-04-20T09:17:46.256370",
     "exception": false,
     "start_time": "2024-04-20T09:17:22.814713",
     "status": "completed"
    },
    "tags": []
   },
   "outputs": [
    {
     "name": "stdout",
     "output_type": "stream",
     "text": [
      "\u001b[31mERROR: pip's dependency resolver does not currently take into account all the packages that are installed. This behaviour is the source of the following dependency conflicts.\r\n",
      "tensorflow-io 0.21.0 requires tensorflow-io-gcs-filesystem==0.21.0, which is not installed.\r\n",
      "tensorflow 2.6.3 requires absl-py~=0.10, but you have absl-py 1.0.0 which is incompatible.\r\n",
      "tensorflow 2.6.3 requires numpy~=1.19.2, but you have numpy 1.21.6 which is incompatible.\r\n",
      "tensorflow 2.6.3 requires six~=1.15.0, but you have six 1.16.0 which is incompatible.\r\n",
      "tensorflow 2.6.3 requires wrapt~=1.12.1, but you have wrapt 1.14.0 which is incompatible.\r\n",
      "tensorflow-transform 1.7.0 requires pyarrow<6,>=1, but you have pyarrow 7.0.0 which is incompatible.\r\n",
      "tensorflow-transform 1.7.0 requires tensorflow!=2.0.*,!=2.1.*,!=2.2.*,!=2.3.*,!=2.4.*,!=2.5.*,!=2.6.*,!=2.7.*,<2.9,>=1.15.5, but you have tensorflow 2.6.3 which is incompatible.\r\n",
      "tensorflow-serving-api 2.8.0 requires tensorflow<3,>=2.8.0, but you have tensorflow 2.6.3 which is incompatible.\r\n",
      "rich 12.4.1 requires typing-extensions<5.0,>=4.0.0; python_version < \"3.9\", but you have typing-extensions 3.10.0.2 which is incompatible.\r\n",
      "pytorch-lightning 1.6.3 requires typing-extensions>=4.0.0, but you have typing-extensions 3.10.0.2 which is incompatible.\r\n",
      "flax 0.4.2 requires typing-extensions>=4.1.1, but you have typing-extensions 3.10.0.2 which is incompatible.\r\n",
      "flake8 4.0.1 requires importlib-metadata<4.3; python_version < \"3.8\", but you have importlib-metadata 4.11.3 which is incompatible.\r\n",
      "apache-beam 2.37.0 requires dill<0.3.2,>=0.3.1.1, but you have dill 0.3.4 which is incompatible.\r\n",
      "apache-beam 2.37.0 requires httplib2<0.20.0,>=0.8, but you have httplib2 0.20.4 which is incompatible.\r\n",
      "apache-beam 2.37.0 requires pyarrow<7.0.0,>=0.15.1, but you have pyarrow 7.0.0 which is incompatible.\r\n",
      "aioitertools 0.10.0 requires typing_extensions>=4.0; python_version < \"3.10\", but you have typing-extensions 3.10.0.2 which is incompatible.\r\n",
      "aiobotocore 2.2.0 requires botocore<1.24.22,>=1.24.21, but you have botocore 1.25.12 which is incompatible.\u001b[0m\u001b[31m\r\n",
      "\u001b[0m"
     ]
    }
   ],
   "source": [
    "from pathlib import Path\n",
    "import os\n",
    "\n",
    "iskaggle = os.environ.get('KAGGLE_KERNEL_RUN_TYPE', '')\n",
    "if iskaggle:\n",
    "    path = Path('../input/titanic')\n",
    "    !pip install -Uqq fastai\n",
    "else:\n",
    "    import zipfile,kaggle\n",
    "    path = Path('titanic')\n",
    "    if not path.exists():\n",
    "        kaggle.api.competition_download_cli(str(path))\n",
    "        zipfile.ZipFile(f'{path}.zip').extractall(path)"
   ]
  },
  {
   "cell_type": "markdown",
   "id": "51f3b526",
   "metadata": {
    "papermill": {
     "duration": 0.029541,
     "end_time": "2024-04-20T09:17:46.319466",
     "exception": false,
     "start_time": "2024-04-20T09:17:46.289925",
     "status": "completed"
    },
    "tags": []
   },
   "source": [
    "We'll import the fastai tabular library, set a random seed so the notebook is reproducible, and pick a reasonable number of significant figures to display in our tables:"
   ]
  },
  {
   "cell_type": "code",
   "execution_count": 2,
   "id": "2d17c36c",
   "metadata": {
    "execution": {
     "iopub.execute_input": "2024-04-20T09:17:46.382582Z",
     "iopub.status.busy": "2024-04-20T09:17:46.382302Z",
     "iopub.status.idle": "2024-04-20T09:17:48.866790Z",
     "shell.execute_reply": "2024-04-20T09:17:48.865746Z"
    },
    "papermill": {
     "duration": 2.519137,
     "end_time": "2024-04-20T09:17:48.869182",
     "exception": false,
     "start_time": "2024-04-20T09:17:46.350045",
     "status": "completed"
    },
    "tags": []
   },
   "outputs": [],
   "source": [
    "from fastai.tabular.all import *\n",
    "\n",
    "pd.options.display.float_format = '{:.2f}'.format\n",
    "set_seed(42)"
   ]
  },
  {
   "cell_type": "markdown",
   "id": "38226c7a",
   "metadata": {
    "papermill": {
     "duration": 0.03086,
     "end_time": "2024-04-20T09:17:48.930518",
     "exception": false,
     "start_time": "2024-04-20T09:17:48.899658",
     "status": "completed"
    },
    "tags": []
   },
   "source": [
    "## Prep the data"
   ]
  },
  {
   "cell_type": "markdown",
   "id": "27b7c950",
   "metadata": {
    "papermill": {
     "duration": 0.029674,
     "end_time": "2024-04-20T09:17:48.990069",
     "exception": false,
     "start_time": "2024-04-20T09:17:48.960395",
     "status": "completed"
    },
    "tags": []
   },
   "source": [
    "We'll read the CSV file just like we did before:"
   ]
  },
  {
   "cell_type": "code",
   "execution_count": 3,
   "id": "4fa8ea5f",
   "metadata": {
    "execution": {
     "iopub.execute_input": "2024-04-20T09:17:49.051800Z",
     "iopub.status.busy": "2024-04-20T09:17:49.051502Z",
     "iopub.status.idle": "2024-04-20T09:17:49.069778Z",
     "shell.execute_reply": "2024-04-20T09:17:49.068715Z"
    },
    "papermill": {
     "duration": 0.051271,
     "end_time": "2024-04-20T09:17:49.072017",
     "exception": false,
     "start_time": "2024-04-20T09:17:49.020746",
     "status": "completed"
    },
    "tags": []
   },
   "outputs": [],
   "source": [
    "df = pd.read_csv(path/'train.csv')"
   ]
  },
  {
   "cell_type": "markdown",
   "id": "e6dcb64a",
   "metadata": {
    "papermill": {
     "duration": 0.029361,
     "end_time": "2024-04-20T09:17:49.131495",
     "exception": false,
     "start_time": "2024-04-20T09:17:49.102134",
     "status": "completed"
    },
    "tags": []
   },
   "source": [
    "When you do everything from scratch, every bit of feature engineering requires a whole lot of work, since you have to think about things like dummy variables, normalization, missing values, and so on. But with fastai that's all done for you. So let's go wild and create lots of new features! We'll use a bunch of the most interesting ones from this fantastic [Titanic feature engineering notebook](https://www.kaggle.com/code/gunesevitan/titanic-advanced-feature-engineering-tutorial/) (and be sure to click that link and upvote that notebook if you like it to thank the author for their hard work!)"
   ]
  },
  {
   "cell_type": "code",
   "execution_count": 4,
   "id": "b29c7ae4",
   "metadata": {
    "execution": {
     "iopub.execute_input": "2024-04-20T09:17:49.193451Z",
     "iopub.status.busy": "2024-04-20T09:17:49.193111Z",
     "iopub.status.idle": "2024-04-20T09:17:49.336824Z",
     "shell.execute_reply": "2024-04-20T09:17:49.336097Z"
    },
    "papermill": {
     "duration": 0.177788,
     "end_time": "2024-04-20T09:17:49.339679",
     "exception": false,
     "start_time": "2024-04-20T09:17:49.161891",
     "status": "completed"
    },
    "tags": []
   },
   "outputs": [],
   "source": [
    "def add_features(df):\n",
    "    df['LogFare'] = np.log1p(df['Fare'])\n",
    "    df['Deck'] = df.Cabin.str[0].map(dict(A=\"ABC\", B=\"ABC\", C=\"ABC\", D=\"DE\", E=\"DE\", F=\"FG\", G=\"FG\"))\n",
    "    df['Family'] = df.SibSp+df.Parch\n",
    "    df['Alone'] = df.Family==0\n",
    "    df['TicketFreq'] = df.groupby('Ticket')['Ticket'].transform('count')\n",
    "    df['Title'] = df.Name.str.split(', ', expand=True)[1].str.split('.', expand=True)[0]\n",
    "    df['Title'] = df.Title.map(dict(Mr=\"Mr\",Miss=\"Miss\",Mrs=\"Mrs\",Master=\"Master\"))\n",
    "\n",
    "add_features(df)"
   ]
  },
  {
   "cell_type": "markdown",
   "id": "4cb88b2b",
   "metadata": {
    "papermill": {
     "duration": 0.030344,
     "end_time": "2024-04-20T09:17:49.400039",
     "exception": false,
     "start_time": "2024-04-20T09:17:49.369695",
     "status": "completed"
    },
    "tags": []
   },
   "source": [
    "As we discussed in the last notebook, we can use `RandomSplitter` to separate out the training and validation sets:"
   ]
  },
  {
   "cell_type": "code",
   "execution_count": 5,
   "id": "52e7fd2d",
   "metadata": {
    "execution": {
     "iopub.execute_input": "2024-04-20T09:17:49.462007Z",
     "iopub.status.busy": "2024-04-20T09:17:49.461661Z",
     "iopub.status.idle": "2024-04-20T09:17:49.466636Z",
     "shell.execute_reply": "2024-04-20T09:17:49.465478Z"
    },
    "papermill": {
     "duration": 0.038446,
     "end_time": "2024-04-20T09:17:49.468788",
     "exception": false,
     "start_time": "2024-04-20T09:17:49.430342",
     "status": "completed"
    },
    "tags": []
   },
   "outputs": [],
   "source": [
    "splits = RandomSplitter(seed=42)(df)"
   ]
  },
  {
   "cell_type": "markdown",
   "id": "205a9c12",
   "metadata": {
    "papermill": {
     "duration": 0.032271,
     "end_time": "2024-04-20T09:17:49.530893",
     "exception": false,
     "start_time": "2024-04-20T09:17:49.498622",
     "status": "completed"
    },
    "tags": []
   },
   "source": [
    "Now the entire process of getting the data ready for training requires just this one cell!:"
   ]
  },
  {
   "cell_type": "code",
   "execution_count": 6,
   "id": "dcca4ea7",
   "metadata": {
    "execution": {
     "iopub.execute_input": "2024-04-20T09:17:49.593069Z",
     "iopub.status.busy": "2024-04-20T09:17:49.592821Z",
     "iopub.status.idle": "2024-04-20T09:17:49.652398Z",
     "shell.execute_reply": "2024-04-20T09:17:49.651261Z"
    },
    "papermill": {
     "duration": 0.093329,
     "end_time": "2024-04-20T09:17:49.654873",
     "exception": false,
     "start_time": "2024-04-20T09:17:49.561544",
     "status": "completed"
    },
    "tags": []
   },
   "outputs": [],
   "source": [
    "dls = TabularPandas(\n",
    "    df, splits=splits,\n",
    "    procs = [Categorify, FillMissing, Normalize],\n",
    "    cat_names=[\"Sex\",\"Pclass\",\"Embarked\",\"Deck\", \"Title\"],\n",
    "    cont_names=['Age', 'SibSp', 'Parch', 'LogFare', 'Alone', 'TicketFreq', 'Family'],\n",
    "    y_names=\"Survived\", y_block = CategoryBlock(),\n",
    ").dataloaders(path=\".\")"
   ]
  },
  {
   "cell_type": "markdown",
   "id": "5aec7602",
   "metadata": {
    "papermill": {
     "duration": 0.030461,
     "end_time": "2024-04-20T09:17:49.715832",
     "exception": false,
     "start_time": "2024-04-20T09:17:49.685371",
     "status": "completed"
    },
    "tags": []
   },
   "source": [
    "Here's what each of the parameters means:\n",
    "\n",
    "- Use `splits` for indices of training and validation sets:\n",
    "\n",
    "      splits=splits,\n",
    "    \n",
    "- Turn strings into categories, fill missing values in numeric columns with the median, normalise all numeric columns:\n",
    "    \n",
    "      procs = [Categorify, FillMissing, Normalize],\n",
    "    \n",
    "- These are the categorical independent variables:\n",
    "    \n",
    "      cat_names=[\"Sex\",\"Pclass\",\"Embarked\",\"Deck\", \"Title\"],\n",
    "    \n",
    "- These are the continuous independent variables:\n",
    "    \n",
    "      cont_names=['Age', 'SibSp', 'Parch', 'LogFare', 'Alone', 'TicketFreq', 'Family'],\n",
    "    \n",
    "- This is the dependent variable:\n",
    "    \n",
    "      y_names=\"Survived\",\n",
    "\n",
    "- The dependent variable is categorical (so build a classification model, not a regression model):\n",
    "\n",
    "      y_block = CategoryBlock(),"
   ]
  },
  {
   "cell_type": "markdown",
   "id": "edb843ed",
   "metadata": {
    "papermill": {
     "duration": 0.029367,
     "end_time": "2024-04-20T09:17:49.774854",
     "exception": false,
     "start_time": "2024-04-20T09:17:49.745487",
     "status": "completed"
    },
    "tags": []
   },
   "source": [
    "## Train the model"
   ]
  },
  {
   "cell_type": "markdown",
   "id": "00f44b88",
   "metadata": {
    "papermill": {
     "duration": 0.029602,
     "end_time": "2024-04-20T09:17:49.834402",
     "exception": false,
     "start_time": "2024-04-20T09:17:49.804800",
     "status": "completed"
    },
    "tags": []
   },
   "source": [
    "The data and model together make up a `Learner`. To create one, we say what the data is (`dls`), and the size of each hidden layer (`[10,10]`), along with any metrics we want to print along the way:"
   ]
  },
  {
   "cell_type": "code",
   "execution_count": 7,
   "id": "c77e30dd",
   "metadata": {
    "execution": {
     "iopub.execute_input": "2024-04-20T09:17:49.898456Z",
     "iopub.status.busy": "2024-04-20T09:17:49.898122Z",
     "iopub.status.idle": "2024-04-20T09:17:49.911504Z",
     "shell.execute_reply": "2024-04-20T09:17:49.910548Z"
    },
    "papermill": {
     "duration": 0.047119,
     "end_time": "2024-04-20T09:17:49.913729",
     "exception": false,
     "start_time": "2024-04-20T09:17:49.866610",
     "status": "completed"
    },
    "tags": []
   },
   "outputs": [],
   "source": [
    "learn = tabular_learner(dls, metrics=accuracy, layers=[10,10])"
   ]
  },
  {
   "cell_type": "markdown",
   "id": "f26e3209",
   "metadata": {
    "papermill": {
     "duration": 0.030096,
     "end_time": "2024-04-20T09:17:49.974279",
     "exception": false,
     "start_time": "2024-04-20T09:17:49.944183",
     "status": "completed"
    },
    "tags": []
   },
   "source": [
    "You'll notice we didn't have to do any messing around to try to find a set of random coefficients that will train correctly -- that's all handled automatically.\n",
    "\n",
    "One handy feature that fastai can also tell us what learning rate to use:"
   ]
  },
  {
   "cell_type": "code",
   "execution_count": 8,
   "id": "c682e3e2",
   "metadata": {
    "execution": {
     "iopub.execute_input": "2024-04-20T09:17:50.037722Z",
     "iopub.status.busy": "2024-04-20T09:17:50.037426Z",
     "iopub.status.idle": "2024-04-20T09:17:51.680873Z",
     "shell.execute_reply": "2024-04-20T09:17:51.680132Z"
    },
    "papermill": {
     "duration": 1.677219,
     "end_time": "2024-04-20T09:17:51.682696",
     "exception": false,
     "start_time": "2024-04-20T09:17:50.005477",
     "status": "completed"
    },
    "tags": []
   },
   "outputs": [
    {
     "data": {
      "text/html": [
       "\n",
       "<style>\n",
       "    /* Turns off some styling */\n",
       "    progress {\n",
       "        /* gets rid of default border in Firefox and Opera. */\n",
       "        border: none;\n",
       "        /* Needs to be in here for Safari polyfill so background images work as expected. */\n",
       "        background-size: auto;\n",
       "    }\n",
       "    .progress-bar-interrupted, .progress-bar-interrupted::-webkit-progress-bar {\n",
       "        background: #F44336;\n",
       "    }\n",
       "</style>\n"
      ],
      "text/plain": [
       "<IPython.core.display.HTML object>"
      ]
     },
     "metadata": {},
     "output_type": "display_data"
    },
    {
     "data": {
      "text/html": [],
      "text/plain": [
       "<IPython.core.display.HTML object>"
      ]
     },
     "metadata": {},
     "output_type": "display_data"
    },
    {
     "data": {
      "text/plain": [
       "SuggestedLRs(slide=0.05754399299621582, valley=0.013182567432522774)"
      ]
     },
     "execution_count": 8,
     "metadata": {},
     "output_type": "execute_result"
    },
    {
     "data": {
      "image/png": "[encoded data removed]",
      "text/plain": [
       "<Figure size 432x288 with 1 Axes>"
      ]
     },
     "metadata": {
      "needs_background": "light"
     },
     "output_type": "display_data"
    }
   ],
   "source": [
    "learn.lr_find(suggest_funcs=(slide, valley))"
   ]
  },
  {
   "cell_type": "markdown",
   "id": "2cb39e56",
   "metadata": {
    "papermill": {
     "duration": 0.031568,
     "end_time": "2024-04-20T09:17:51.746753",
     "exception": false,
     "start_time": "2024-04-20T09:17:51.715185",
     "status": "completed"
    },
    "tags": []
   },
   "source": [
    "The two colored points are both reasonable choices for a learning rate. I'll pick somewhere between the two (0.03) and train for a few epochs:"
   ]
  },
  {
   "cell_type": "code",
   "execution_count": 9,
   "id": "251c545d",
   "metadata": {
    "execution": {
     "iopub.execute_input": "2024-04-20T09:17:51.813824Z",
     "iopub.status.busy": "2024-04-20T09:17:51.813549Z",
     "iopub.status.idle": "2024-04-20T09:17:53.698585Z",
     "shell.execute_reply": "2024-04-20T09:17:53.697775Z"
    },
    "papermill": {
     "duration": 1.921168,
     "end_time": "2024-04-20T09:17:53.700579",
     "exception": false,
     "start_time": "2024-04-20T09:17:51.779411",
     "status": "completed"
    },
    "tags": []
   },
   "outputs": [
    {
     "data": {
      "text/html": [
       "\n",
       "<style>\n",
       "    /* Turns off some styling */\n",
       "    progress {\n",
       "        /* gets rid of default border in Firefox and Opera. */\n",
       "        border: none;\n",
       "        /* Needs to be in here for Safari polyfill so background images work as expected. */\n",
       "        background-size: auto;\n",
       "    }\n",
       "    .progress-bar-interrupted, .progress-bar-interrupted::-webkit-progress-bar {\n",
       "        background: #F44336;\n",
       "    }\n",
       "</style>\n"
      ],
      "text/plain": [
       "<IPython.core.display.HTML object>"
      ]
     },
     "metadata": {},
     "output_type": "display_data"
    },
    {
     "data": {
      "text/html": [
       "<table border=\"1\" class=\"dataframe\">\n",
       "  <thead>\n",
       "    <tr style=\"text-align: left;\">\n",
       "      <th>epoch</th>\n",
       "      <th>train_loss</th>\n",
       "      <th>valid_loss</th>\n",
       "      <th>accuracy</th>\n",
       "      <th>time</th>\n",
       "    </tr>\n",
       "  </thead>\n",
       "  <tbody>\n",
       "    <tr>\n",
       "      <td>0</td>\n",
       "      <td>0.577146</td>\n",
       "      <td>0.582949</td>\n",
       "      <td>0.606742</td>\n",
       "      <td>00:00</td>\n",
       "    </tr>\n",
       "    <tr>\n",
       "      <td>1</td>\n",
       "      <td>0.510818</td>\n",
       "      <td>0.498523</td>\n",
       "      <td>0.786517</td>\n",
       "      <td>00:00</td>\n",
       "    </tr>\n",
       "    <tr>\n",
       "      <td>2</td>\n",
       "      <td>0.467023</td>\n",
       "      <td>0.459841</td>\n",
       "      <td>0.797753</td>\n",
       "      <td>00:00</td>\n",
       "    </tr>\n",
       "    <tr>\n",
       "      <td>3</td>\n",
       "      <td>0.439957</td>\n",
       "      <td>0.468547</td>\n",
       "      <td>0.797753</td>\n",
       "      <td>00:00</td>\n",
       "    </tr>\n",
       "    <tr>\n",
       "      <td>4</td>\n",
       "      <td>0.427232</td>\n",
       "      <td>0.415261</td>\n",
       "      <td>0.825843</td>\n",
       "      <td>00:00</td>\n",
       "    </tr>\n",
       "    <tr>\n",
       "      <td>5</td>\n",
       "      <td>0.416340</td>\n",
       "      <td>0.437362</td>\n",
       "      <td>0.820225</td>\n",
       "      <td>00:00</td>\n",
       "    </tr>\n",
       "    <tr>\n",
       "      <td>6</td>\n",
       "      <td>0.408347</td>\n",
       "      <td>0.413253</td>\n",
       "      <td>0.848315</td>\n",
       "      <td>00:00</td>\n",
       "    </tr>\n",
       "    <tr>\n",
       "      <td>7</td>\n",
       "      <td>0.400442</td>\n",
       "      <td>0.406075</td>\n",
       "      <td>0.803371</td>\n",
       "      <td>00:00</td>\n",
       "    </tr>\n",
       "    <tr>\n",
       "      <td>8</td>\n",
       "      <td>0.397265</td>\n",
       "      <td>0.443730</td>\n",
       "      <td>0.820225</td>\n",
       "      <td>00:00</td>\n",
       "    </tr>\n",
       "    <tr>\n",
       "      <td>9</td>\n",
       "      <td>0.392389</td>\n",
       "      <td>0.432267</td>\n",
       "      <td>0.831461</td>\n",
       "      <td>00:00</td>\n",
       "    </tr>\n",
       "    <tr>\n",
       "      <td>10</td>\n",
       "      <td>0.389983</td>\n",
       "      <td>0.415383</td>\n",
       "      <td>0.831461</td>\n",
       "      <td>00:00</td>\n",
       "    </tr>\n",
       "    <tr>\n",
       "      <td>11</td>\n",
       "      <td>0.386057</td>\n",
       "      <td>0.425319</td>\n",
       "      <td>0.820225</td>\n",
       "      <td>00:00</td>\n",
       "    </tr>\n",
       "    <tr>\n",
       "      <td>12</td>\n",
       "      <td>0.382527</td>\n",
       "      <td>0.435054</td>\n",
       "      <td>0.831461</td>\n",
       "      <td>00:00</td>\n",
       "    </tr>\n",
       "    <tr>\n",
       "      <td>13</td>\n",
       "      <td>0.378309</td>\n",
       "      <td>0.429746</td>\n",
       "      <td>0.831461</td>\n",
       "      <td>00:00</td>\n",
       "    </tr>\n",
       "    <tr>\n",
       "      <td>14</td>\n",
       "      <td>0.374304</td>\n",
       "      <td>0.419489</td>\n",
       "      <td>0.825843</td>\n",
       "      <td>00:00</td>\n",
       "    </tr>\n",
       "    <tr>\n",
       "      <td>15</td>\n",
       "      <td>0.372190</td>\n",
       "      <td>0.425430</td>\n",
       "      <td>0.831461</td>\n",
       "      <td>00:00</td>\n",
       "    </tr>\n",
       "  </tbody>\n",
       "</table>"
      ],
      "text/plain": [
       "<IPython.core.display.HTML object>"
      ]
     },
     "metadata": {},
     "output_type": "display_data"
    }
   ],
   "source": [
    "learn.fit(16, lr=0.03)"
   ]
  },
  {
   "cell_type": "markdown",
   "id": "d387c740",
   "metadata": {
    "papermill": {
     "duration": 0.032912,
     "end_time": "2024-04-20T09:17:53.766336",
     "exception": false,
     "start_time": "2024-04-20T09:17:53.733424",
     "status": "completed"
    },
    "tags": []
   },
   "source": [
    "We've got a similar accuracy to our previous \"from scratch\" model -- which isn't too surprising, since as we discussed, this dataset is too small and simple to really see much difference. A simple linear model already does a pretty good job. But that's OK -- the goal here is to show you how to get started with deep learning and understand how it really works, and the best way to do that is on small and easy to understand datasets."
   ]
  },
  {
   "cell_type": "markdown",
   "id": "96ef9650",
   "metadata": {
    "papermill": {
     "duration": 0.032453,
     "end_time": "2024-04-20T09:17:53.831491",
     "exception": false,
     "start_time": "2024-04-20T09:17:53.799038",
     "status": "completed"
    },
    "tags": []
   },
   "source": [
    "## Submit to Kaggle"
   ]
  },
  {
   "cell_type": "markdown",
   "id": "96aeb23f",
   "metadata": {
    "papermill": {
     "duration": 0.032719,
     "end_time": "2024-04-20T09:17:53.899322",
     "exception": false,
     "start_time": "2024-04-20T09:17:53.866603",
     "status": "completed"
    },
    "tags": []
   },
   "source": [
    "One important feature of fastai is that all the information needed to apply the data transformations and the model to a new dataset are stored in the learner. You can call `export` to save it to a file to use it later in production, or you can use the trained model right away to get predictions on a test set.\n",
    "\n",
    "To submit to Kaggle, we'll need to read in the test set, and do the same feature engineering we did for the training set:"
   ]
  },
  {
   "cell_type": "code",
   "execution_count": 10,
   "id": "62b1374d",
   "metadata": {
    "execution": {
     "iopub.execute_input": "2024-04-20T09:17:53.967944Z",
     "iopub.status.busy": "2024-04-20T09:17:53.967545Z",
     "iopub.status.idle": "2024-04-20T09:17:53.988860Z",
     "shell.execute_reply": "2024-04-20T09:17:53.987757Z"
    },
    "papermill": {
     "duration": 0.058277,
     "end_time": "2024-04-20T09:17:53.991137",
     "exception": false,
     "start_time": "2024-04-20T09:17:53.932860",
     "status": "completed"
    },
    "tags": []
   },
   "outputs": [],
   "source": [
    "tst_df = pd.read_csv(path/'test.csv')\n",
    "tst_df['Fare'] = tst_df.Fare.fillna(0)\n",
    "add_features(tst_df)"
   ]
  },
  {
   "cell_type": "markdown",
   "id": "7cf6ca2a",
   "metadata": {
    "papermill": {
     "duration": 0.032783,
     "end_time": "2024-04-20T09:17:54.058027",
     "exception": false,
     "start_time": "2024-04-20T09:17:54.025244",
     "status": "completed"
    },
    "tags": []
   },
   "source": [
    "But we don't need to manually specify any of the processing steps necessary to get the data ready for modeling, since that's all saved in the learner. To specify we want to apply the same steps to a new dataset, use the `test_dl()` method:"
   ]
  },
  {
   "cell_type": "code",
   "execution_count": 11,
   "id": "d6a2d56e",
   "metadata": {
    "execution": {
     "iopub.execute_input": "2024-04-20T09:17:54.126654Z",
     "iopub.status.busy": "2024-04-20T09:17:54.126169Z",
     "iopub.status.idle": "2024-04-20T09:17:54.143725Z",
     "shell.execute_reply": "2024-04-20T09:17:54.142640Z"
    },
    "papermill": {
     "duration": 0.053974,
     "end_time": "2024-04-20T09:17:54.145890",
     "exception": false,
     "start_time": "2024-04-20T09:17:54.091916",
     "status": "completed"
    },
    "tags": []
   },
   "outputs": [],
   "source": [
    "tst_dl = learn.dls.test_dl(tst_df)"
   ]
  },
  {
   "cell_type": "markdown",
   "id": "e7c7eea7",
   "metadata": {
    "papermill": {
     "duration": 0.032701,
     "end_time": "2024-04-20T09:17:54.212642",
     "exception": false,
     "start_time": "2024-04-20T09:17:54.179941",
     "status": "completed"
    },
    "tags": []
   },
   "source": [
    "Now we can use `get_preds` to get the predictions for the test set:"
   ]
  },
  {
   "cell_type": "code",
   "execution_count": 12,
   "id": "2867aa38",
   "metadata": {
    "execution": {
     "iopub.execute_input": "2024-04-20T09:17:54.280326Z",
     "iopub.status.busy": "2024-04-20T09:17:54.280066Z",
     "iopub.status.idle": "2024-04-20T09:17:54.338712Z",
     "shell.execute_reply": "2024-04-20T09:17:54.337550Z"
    },
    "papermill": {
     "duration": 0.095252,
     "end_time": "2024-04-20T09:17:54.341148",
     "exception": false,
     "start_time": "2024-04-20T09:17:54.245896",
     "status": "completed"
    },
    "tags": []
   },
   "outputs": [
    {
     "data": {
      "text/html": [
       "\n",
       "<style>\n",
       "    /* Turns off some styling */\n",
       "    progress {\n",
       "        /* gets rid of default border in Firefox and Opera. */\n",
       "        border: none;\n",
       "        /* Needs to be in here for Safari polyfill so background images work as expected. */\n",
       "        background-size: auto;\n",
       "    }\n",
       "    .progress-bar-interrupted, .progress-bar-interrupted::-webkit-progress-bar {\n",
       "        background: #F44336;\n",
       "    }\n",
       "</style>\n"
      ],
      "text/plain": [
       "<IPython.core.display.HTML object>"
      ]
     },
     "metadata": {},
     "output_type": "display_data"
    },
    {
     "data": {
      "text/html": [],
      "text/plain": [
       "<IPython.core.display.HTML object>"
      ]
     },
     "metadata": {},
     "output_type": "display_data"
    }
   ],
   "source": [
    "preds,_ = learn.get_preds(dl=tst_dl)"
   ]
  },
  {
   "cell_type": "markdown",
   "id": "dc69f499",
   "metadata": {
    "papermill": {
     "duration": 0.034392,
     "end_time": "2024-04-20T09:17:54.410542",
     "exception": false,
     "start_time": "2024-04-20T09:17:54.376150",
     "status": "completed"
    },
    "tags": []
   },
   "source": [
    "Finally, let's create a submission CSV just like we did in the previous notebook..."
   ]
  },
  {
   "cell_type": "code",
   "execution_count": 13,
   "id": "7b23edc3",
   "metadata": {
    "execution": {
     "iopub.execute_input": "2024-04-20T09:17:54.482598Z",
     "iopub.status.busy": "2024-04-20T09:17:54.481853Z",
     "iopub.status.idle": "2024-04-20T09:17:54.494661Z",
     "shell.execute_reply": "2024-04-20T09:17:54.493676Z"
    },
    "papermill": {
     "duration": 0.051756,
     "end_time": "2024-04-20T09:17:54.497119",
     "exception": false,
     "start_time": "2024-04-20T09:17:54.445363",
     "status": "completed"
    },
    "tags": []
   },
   "outputs": [],
   "source": [
    "tst_df['Survived'] = (preds[:,1]>0.5).int()\n",
    "sub_df = tst_df[['PassengerId','Survived']]\n",
    "sub_df.to_csv('sub.csv', index=False)"
   ]
  },
  {
   "cell_type": "markdown",
   "id": "2e355b0e",
   "metadata": {
    "papermill": {
     "duration": 0.034633,
     "end_time": "2024-04-20T09:17:54.566459",
     "exception": false,
     "start_time": "2024-04-20T09:17:54.531826",
     "status": "completed"
    },
    "tags": []
   },
   "source": [
    "...and check that it looks reasonable:"
   ]
  },
  {
   "cell_type": "code",
   "execution_count": 14,
   "id": "6dc8966d",
   "metadata": {
    "execution": {
     "iopub.execute_input": "2024-04-20T09:17:54.637409Z",
     "iopub.status.busy": "2024-04-20T09:17:54.636968Z",
     "iopub.status.idle": "2024-04-20T09:17:55.001061Z",
     "shell.execute_reply": "2024-04-20T09:17:55.000011Z"
    },
    "papermill": {
     "duration": 0.40278,
     "end_time": "2024-04-20T09:17:55.003852",
     "exception": false,
     "start_time": "2024-04-20T09:17:54.601072",
     "status": "completed"
    },
    "tags": []
   },
   "outputs": [
    {
     "name": "stdout",
     "output_type": "stream",
     "text": [
      "PassengerId,Survived\r\n",
      "892,0\r\n",
      "893,0\r\n",
      "894,0\r\n",
      "895,0\r\n",
      "896,1\r\n",
      "897,0\r\n",
      "898,1\r\n",
      "899,0\r\n",
      "900,1\r\n"
     ]
    }
   ],
   "source": [
    "!head sub.csv"
   ]
  },
  {
   "cell_type": "markdown",
   "id": "d462009a",
   "metadata": {
    "papermill": {
     "duration": 0.035205,
     "end_time": "2024-04-20T09:17:55.074559",
     "exception": false,
     "start_time": "2024-04-20T09:17:55.039354",
     "status": "completed"
    },
    "tags": []
   },
   "source": [
    "## Ensembling"
   ]
  },
  {
   "cell_type": "markdown",
   "id": "cb5c096d",
   "metadata": {
    "papermill": {
     "duration": 0.03446,
     "end_time": "2024-04-20T09:17:55.144889",
     "exception": false,
     "start_time": "2024-04-20T09:17:55.110429",
     "status": "completed"
    },
    "tags": []
   },
   "source": [
    "Since it's so easy to create a model now, it's easier to play with more advanced modeling approaches. For instance, we can create five separate models, each trained from different random starting points, and average them. This is the simplest approach of [ensembling](https://machinelearningmastery.com/tour-of-ensemble-learning-algorithms/) models, which combines multiple models to generate predictions that are better than any of the single models in the ensemble.\n",
    "\n",
    "To create our ensemble, first we copy the three steps we used above to create and train a model, and apply it to the test set:"
   ]
  },
  {
   "cell_type": "code",
   "execution_count": 15,
   "id": "6593b22b",
   "metadata": {
    "execution": {
     "iopub.execute_input": "2024-04-20T09:17:55.214762Z",
     "iopub.status.busy": "2024-04-20T09:17:55.214475Z",
     "iopub.status.idle": "2024-04-20T09:17:55.219775Z",
     "shell.execute_reply": "2024-04-20T09:17:55.218956Z"
    },
    "papermill": {
     "duration": 0.042192,
     "end_time": "2024-04-20T09:17:55.221418",
     "exception": false,
     "start_time": "2024-04-20T09:17:55.179226",
     "status": "completed"
    },
    "tags": []
   },
   "outputs": [],
   "source": [
    "def ensemble():\n",
    "    learn = tabular_learner(dls, metrics=accuracy, layers=[10,10])\n",
    "    with learn.no_bar(),learn.no_logging(): learn.fit(16, lr=0.03)\n",
    "    return learn.get_preds(dl=tst_dl)[0]"
   ]
  },
  {
   "cell_type": "markdown",
   "id": "8ba68c59",
   "metadata": {
    "papermill": {
     "duration": 0.034562,
     "end_time": "2024-04-20T09:17:55.290421",
     "exception": false,
     "start_time": "2024-04-20T09:17:55.255859",
     "status": "completed"
    },
    "tags": []
   },
   "source": [
    "Now we run this five times, and collect the results into a list:"
   ]
  },
  {
   "cell_type": "code",
   "execution_count": 16,
   "id": "ed31c1a3",
   "metadata": {
    "execution": {
     "iopub.execute_input": "2024-04-20T09:17:55.363048Z",
     "iopub.status.busy": "2024-04-20T09:17:55.362040Z",
     "iopub.status.idle": "2024-04-20T09:18:02.625456Z",
     "shell.execute_reply": "2024-04-20T09:18:02.624711Z"
    },
    "papermill": {
     "duration": 7.301939,
     "end_time": "2024-04-20T09:18:02.627421",
     "exception": false,
     "start_time": "2024-04-20T09:17:55.325482",
     "status": "completed"
    },
    "tags": []
   },
   "outputs": [
    {
     "data": {
      "text/html": [
       "\n",
       "<style>\n",
       "    /* Turns off some styling */\n",
       "    progress {\n",
       "        /* gets rid of default border in Firefox and Opera. */\n",
       "        border: none;\n",
       "        /* Needs to be in here for Safari polyfill so background images work as expected. */\n",
       "        background-size: auto;\n",
       "    }\n",
       "    .progress-bar-interrupted, .progress-bar-interrupted::-webkit-progress-bar {\n",
       "        background: #F44336;\n",
       "    }\n",
       "</style>\n"
      ],
      "text/plain": [
       "<IPython.core.display.HTML object>"
      ]
     },
     "metadata": {},
     "output_type": "display_data"
    },
    {
     "data": {
      "text/html": [],
      "text/plain": [
       "<IPython.core.display.HTML object>"
      ]
     },
     "metadata": {},
     "output_type": "display_data"
    },
    {
     "data": {
      "text/html": [
       "\n",
       "<style>\n",
       "    /* Turns off some styling */\n",
       "    progress {\n",
       "        /* gets rid of default border in Firefox and Opera. */\n",
       "        border: none;\n",
       "        /* Needs to be in here for Safari polyfill so background images work as expected. */\n",
       "        background-size: auto;\n",
       "    }\n",
       "    .progress-bar-interrupted, .progress-bar-interrupted::-webkit-progress-bar {\n",
       "        background: #F44336;\n",
       "    }\n",
       "</style>\n"
      ],
      "text/plain": [
       "<IPython.core.display.HTML object>"
      ]
     },
     "metadata": {},
     "output_type": "display_data"
    },
    {
     "data": {
      "text/html": [],
      "text/plain": [
       "<IPython.core.display.HTML object>"
      ]
     },
     "metadata": {},
     "output_type": "display_data"
    },
    {
     "data": {
      "text/html": [
       "\n",
       "<style>\n",
       "    /* Turns off some styling */\n",
       "    progress {\n",
       "        /* gets rid of default border in Firefox and Opera. */\n",
       "        border: none;\n",
       "        /* Needs to be in here for Safari polyfill so background images work as expected. */\n",
       "        background-size: auto;\n",
       "    }\n",
       "    .progress-bar-interrupted, .progress-bar-interrupted::-webkit-progress-bar {\n",
       "        background: #F44336;\n",
       "    }\n",
       "</style>\n"
      ],
      "text/plain": [
       "<IPython.core.display.HTML object>"
      ]
     },
     "metadata": {},
     "output_type": "display_data"
    },
    {
     "data": {
      "text/html": [],
      "text/plain": [
       "<IPython.core.display.HTML object>"
      ]
     },
     "metadata": {},
     "output_type": "display_data"
    },
    {
     "data": {
      "text/html": [
       "\n",
       "<style>\n",
       "    /* Turns off some styling */\n",
       "    progress {\n",
       "        /* gets rid of default border in Firefox and Opera. */\n",
       "        border: none;\n",
       "        /* Needs to be in here for Safari polyfill so background images work as expected. */\n",
       "        background-size: auto;\n",
       "    }\n",
       "    .progress-bar-interrupted, .progress-bar-interrupted::-webkit-progress-bar {\n",
       "        background: #F44336;\n",
       "    }\n",
       "</style>\n"
      ],
      "text/plain": [
       "<IPython.core.display.HTML object>"
      ]
     },
     "metadata": {},
     "output_type": "display_data"
    },
    {
     "data": {
      "text/html": [],
      "text/plain": [
       "<IPython.core.display.HTML object>"
      ]
     },
     "metadata": {},
     "output_type": "display_data"
    },
    {
     "data": {
      "text/html": [
       "\n",
       "<style>\n",
       "    /* Turns off some styling */\n",
       "    progress {\n",
       "        /* gets rid of default border in Firefox and Opera. */\n",
       "        border: none;\n",
       "        /* Needs to be in here for Safari polyfill so background images work as expected. */\n",
       "        background-size: auto;\n",
       "    }\n",
       "    .progress-bar-interrupted, .progress-bar-interrupted::-webkit-progress-bar {\n",
       "        background: #F44336;\n",
       "    }\n",
       "</style>\n"
      ],
      "text/plain": [
       "<IPython.core.display.HTML object>"
      ]
     },
     "metadata": {},
     "output_type": "display_data"
    },
    {
     "data": {
      "text/html": [],
      "text/plain": [
       "<IPython.core.display.HTML object>"
      ]
     },
     "metadata": {},
     "output_type": "display_data"
    }
   ],
   "source": [
    "learns = [ensemble() for _ in range(5)]"
   ]
  },
  {
   "cell_type": "markdown",
   "id": "e7a2e4f0",
   "metadata": {
    "papermill": {
     "duration": 0.040237,
     "end_time": "2024-04-20T09:18:02.708616",
     "exception": false,
     "start_time": "2024-04-20T09:18:02.668379",
     "status": "completed"
    },
    "tags": []
   },
   "source": [
    "We stack this predictions together and take their average predictions:"
   ]
  },
  {
   "cell_type": "code",
   "execution_count": 17,
   "id": "b1cc5675",
   "metadata": {
    "execution": {
     "iopub.execute_input": "2024-04-20T09:18:02.791837Z",
     "iopub.status.busy": "2024-04-20T09:18:02.791175Z",
     "iopub.status.idle": "2024-04-20T09:18:02.797110Z",
     "shell.execute_reply": "2024-04-20T09:18:02.796313Z"
    },
    "papermill": {
     "duration": 0.049797,
     "end_time": "2024-04-20T09:18:02.799240",
     "exception": false,
     "start_time": "2024-04-20T09:18:02.749443",
     "status": "completed"
    },
    "tags": []
   },
   "outputs": [],
   "source": [
    "ens_preds = torch.stack(learns).mean(0)"
   ]
  },
  {
   "cell_type": "markdown",
   "id": "875dbaca",
   "metadata": {
    "papermill": {
     "duration": 0.039995,
     "end_time": "2024-04-20T09:18:02.879973",
     "exception": false,
     "start_time": "2024-04-20T09:18:02.839978",
     "status": "completed"
    },
    "tags": []
   },
   "source": [
    "Finally, use the same code as before to generate a submission file, which we can submit to Kaggle after the notebook is saved and run:"
   ]
  },
  {
   "cell_type": "code",
   "execution_count": 18,
   "id": "4b72f05f",
   "metadata": {
    "execution": {
     "iopub.execute_input": "2024-04-20T09:18:02.965333Z",
     "iopub.status.busy": "2024-04-20T09:18:02.964724Z",
     "iopub.status.idle": "2024-04-20T09:18:02.972019Z",
     "shell.execute_reply": "2024-04-20T09:18:02.971518Z"
    },
    "papermill": {
     "duration": 0.050584,
     "end_time": "2024-04-20T09:18:02.973896",
     "exception": false,
     "start_time": "2024-04-20T09:18:02.923312",
     "status": "completed"
    },
    "tags": []
   },
   "outputs": [],
   "source": [
    "tst_df['Survived'] = (ens_preds[:,1]>0.5).int()\n",
    "sub_df = tst_df[['PassengerId','Survived']]\n",
    "sub_df.to_csv('ens_sub.csv', index=False)"
   ]
  },
  {
   "cell_type": "markdown",
   "id": "44bcb48f",
   "metadata": {
    "papermill": {
     "duration": 0.03933,
     "end_time": "2024-04-20T09:18:03.053688",
     "exception": false,
     "start_time": "2024-04-20T09:18:03.014358",
     "status": "completed"
    },
    "tags": []
   },
   "source": [
    "At the time of writing, this submission is well within the top 25% of entries to the competition.\n",
    "\n",
    "(A lot of submissions to this competition use additional external data, but we have restricted ourselves to just using the data provided. We'd probably do a lot better if we used external data too. Feel free to give that a try, and see how you go. Note that you'll never be able to get to the top of the leaderboard, since a lot of folks in this competition have cheated, by downloading the answers from the internet and uploading them as their submission. In a real competition that's not possible, because the answers aren't public, but there's nothing stopping people from cheating in a tutorial/practice competition like this one. So if you're ready for a real challenge, take a look at the [competitions page](https://www.kaggle.com/competitions/) and start working on a real competition!)"
   ]
  },
  {
   "cell_type": "markdown",
   "id": "d7b9cb56",
   "metadata": {
    "papermill": {
     "duration": 0.040299,
     "end_time": "2024-04-20T09:18:03.133626",
     "exception": false,
     "start_time": "2024-04-20T09:18:03.093327",
     "status": "completed"
    },
    "tags": []
   },
   "source": [
    "## Final thoughts"
   ]
  },
  {
   "cell_type": "markdown",
   "id": "880fc1cc",
   "metadata": {
    "papermill": {
     "duration": 0.039767,
     "end_time": "2024-04-20T09:18:03.213435",
     "exception": false,
     "start_time": "2024-04-20T09:18:03.173668",
     "status": "completed"
    },
    "tags": []
   },
   "source": [
    "As you can see, using fastai and PyTorch made things much easier than doing it from scratch, but it also hid away a lot of the details. So if you only ever use a framework, you're not going to as fully understand what's going on under the hood. That understanding can be really helpful when it comes to debugging and improving your models. But do use fastai when you're creating models on Kaggle or in \"real life\", because otherwise you're not taking advantage of all the research that's gone into optimising the models for you, and you'll end up spending more time debugging and implementing menial boiler-plate than actually solving the real problem!\n",
    "\n",
    "If you found this notebook useful, please remember to click the little up-arrow at the top to upvote it, since I like to know when people have found my work useful, and it helps others find it too. (BTW, be sure you're looking at my [original notebook](https://www.kaggle.com/jhoward/why-you-should-use-a-framework) here when you do that, and are not on your own copy of it, otherwise your upvote won't get counted!) And if you have any questions or comments, please pop them below -- I read every comment I receive!"
   ]
  }
 ],
 "metadata": {
  "kaggle": {
   "accelerator": "none",
   "dataSources": [
    {
     "databundleVersionId": 26502,
     "sourceId": 3136,
     "sourceType": "competition"
    }
   ],
   "dockerImageVersionId": 30191,
   "isGpuEnabled": false,
   "isInternetEnabled": true,
   "language": "python",
   "sourceType": "notebook"
  },
  "kernelspec": {
   "display_name": "Python 3",
   "language": "python",
   "name": "python3"
  },
  "language_info": {
   "codemirror_mode": {
    "name": "ipython",
    "version": 3
   },
   "file_extension": ".py",
   "mimetype": "text/x-python",
   "name": "python",
   "nbconvert_exporter": "python",
   "pygments_lexer": "ipython3",
   "version": "3.7.12"
  },
  "papermill": {
   "default_parameters": {},
   "duration": 50.173991,
   "end_time": "2024-04-20T09:18:04.173971",
   "environment_variables": {},
   "exception": null,
   "input_path": "__notebook__.ipynb",
   "output_path": "__notebook__.ipynb",
   "parameters": {},
   "start_time": "2024-04-20T09:17:13.999980",
   "version": "2.3.4"
  }
 },
 "nbformat": 4,
 "nbformat_minor": 5
}
